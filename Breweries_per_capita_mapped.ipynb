{
 "cells": [
  {
   "cell_type": "code",
   "execution_count": 1,
   "metadata": {},
   "outputs": [],
   "source": [
    "import pandas as pd\n",
    "import numpy as np\n",
    "import gmaps\n",
    "import gmaps.geojson_geometries\n",
    "from matplotlib.cm import viridis\n",
    "from matplotlib.colors import to_hex"
   ]
  },
  {
   "cell_type": "code",
   "execution_count": 2,
   "metadata": {},
   "outputs": [],
   "source": [
    "state_brewery_df = pd.read_csv(\"resources/state_table_for_per_capita_analysis.csv\", index_col = 0)\n",
    "state_pops_df = pd.read_csv(\"resources/population_data_2016_2018.csv\", index_col = 0)"
   ]
  },
  {
   "cell_type": "code",
   "execution_count": 3,
   "metadata": {},
   "outputs": [
    {
     "data": {
      "text/html": [
       "<div>\n",
       "<style scoped>\n",
       "    .dataframe tbody tr th:only-of-type {\n",
       "        vertical-align: middle;\n",
       "    }\n",
       "\n",
       "    .dataframe tbody tr th {\n",
       "        vertical-align: top;\n",
       "    }\n",
       "\n",
       "    .dataframe thead th {\n",
       "        text-align: right;\n",
       "    }\n",
       "</style>\n",
       "<table border=\"1\" class=\"dataframe\">\n",
       "  <thead>\n",
       "    <tr style=\"text-align: right;\">\n",
       "      <th></th>\n",
       "      <th>STATE</th>\n",
       "      <th>Mean # Total Income Returns</th>\n",
       "      <th>Mean Total Income</th>\n",
       "      <th>Mean # Returns with Salaries and Wages</th>\n",
       "      <th>Mean Salaries and Wages</th>\n",
       "      <th>Brewery Count</th>\n",
       "      <th>state_name</th>\n",
       "    </tr>\n",
       "  </thead>\n",
       "  <tbody>\n",
       "    <tr>\n",
       "      <th>0</th>\n",
       "      <td>AK</td>\n",
       "      <td>2588.988095</td>\n",
       "      <td>183958.494048</td>\n",
       "      <td>2198.571429</td>\n",
       "      <td>127301.089286</td>\n",
       "      <td>41</td>\n",
       "      <td>Alaska</td>\n",
       "    </tr>\n",
       "    <tr>\n",
       "      <th>1</th>\n",
       "      <td>AL</td>\n",
       "      <td>3469.950739</td>\n",
       "      <td>200435.201970</td>\n",
       "      <td>2918.587849</td>\n",
       "      <td>140634.338259</td>\n",
       "      <td>42</td>\n",
       "      <td>Alabama</td>\n",
       "    </tr>\n",
       "    <tr>\n",
       "      <th>2</th>\n",
       "      <td>AR</td>\n",
       "      <td>2655.411090</td>\n",
       "      <td>163030.388145</td>\n",
       "      <td>2250.516252</td>\n",
       "      <td>105676.304015</td>\n",
       "      <td>39</td>\n",
       "      <td>Arkansas</td>\n",
       "    </tr>\n",
       "    <tr>\n",
       "      <th>3</th>\n",
       "      <td>AZ</td>\n",
       "      <td>8370.093897</td>\n",
       "      <td>531552.845070</td>\n",
       "      <td>6929.859155</td>\n",
       "      <td>361805.767606</td>\n",
       "      <td>118</td>\n",
       "      <td>Arizona</td>\n",
       "    </tr>\n",
       "    <tr>\n",
       "      <th>4</th>\n",
       "      <td>CA</td>\n",
       "      <td>11992.881944</td>\n",
       "      <td>978355.903274</td>\n",
       "      <td>9985.466270</td>\n",
       "      <td>667623.095238</td>\n",
       "      <td>847</td>\n",
       "      <td>California</td>\n",
       "    </tr>\n",
       "  </tbody>\n",
       "</table>\n",
       "</div>"
      ],
      "text/plain": [
       "  STATE  Mean # Total Income Returns  Mean Total Income  \\\n",
       "0    AK                  2588.988095      183958.494048   \n",
       "1    AL                  3469.950739      200435.201970   \n",
       "2    AR                  2655.411090      163030.388145   \n",
       "3    AZ                  8370.093897      531552.845070   \n",
       "4    CA                 11992.881944      978355.903274   \n",
       "\n",
       "   Mean # Returns with Salaries and Wages  Mean Salaries and Wages  \\\n",
       "0                             2198.571429            127301.089286   \n",
       "1                             2918.587849            140634.338259   \n",
       "2                             2250.516252            105676.304015   \n",
       "3                             6929.859155            361805.767606   \n",
       "4                             9985.466270            667623.095238   \n",
       "\n",
       "   Brewery Count  state_name  \n",
       "0             41      Alaska  \n",
       "1             42     Alabama  \n",
       "2             39    Arkansas  \n",
       "3            118     Arizona  \n",
       "4            847  California  "
      ]
     },
     "execution_count": 3,
     "metadata": {},
     "output_type": "execute_result"
    }
   ],
   "source": [
    "state_brewery_df.head()"
   ]
  },
  {
   "cell_type": "code",
   "execution_count": 4,
   "metadata": {},
   "outputs": [
    {
     "data": {
      "text/html": [
       "<div>\n",
       "<style scoped>\n",
       "    .dataframe tbody tr th:only-of-type {\n",
       "        vertical-align: middle;\n",
       "    }\n",
       "\n",
       "    .dataframe tbody tr th {\n",
       "        vertical-align: top;\n",
       "    }\n",
       "\n",
       "    .dataframe thead th {\n",
       "        text-align: right;\n",
       "    }\n",
       "</style>\n",
       "<table border=\"1\" class=\"dataframe\">\n",
       "  <thead>\n",
       "    <tr style=\"text-align: right;\">\n",
       "      <th></th>\n",
       "      <th>Alpha</th>\n",
       "      <th>FIPS</th>\n",
       "      <th>POPESTIMATE2016</th>\n",
       "      <th>POPESTIMATE2018</th>\n",
       "    </tr>\n",
       "  </thead>\n",
       "  <tbody>\n",
       "    <tr>\n",
       "      <th>0</th>\n",
       "      <td>AL</td>\n",
       "      <td>1</td>\n",
       "      <td>4864745</td>\n",
       "      <td>4887871</td>\n",
       "    </tr>\n",
       "    <tr>\n",
       "      <th>1</th>\n",
       "      <td>AK</td>\n",
       "      <td>2</td>\n",
       "      <td>741504</td>\n",
       "      <td>737438</td>\n",
       "    </tr>\n",
       "    <tr>\n",
       "      <th>2</th>\n",
       "      <td>AZ</td>\n",
       "      <td>4</td>\n",
       "      <td>6945452</td>\n",
       "      <td>7171646</td>\n",
       "    </tr>\n",
       "    <tr>\n",
       "      <th>3</th>\n",
       "      <td>AR</td>\n",
       "      <td>5</td>\n",
       "      <td>2990410</td>\n",
       "      <td>3013825</td>\n",
       "    </tr>\n",
       "    <tr>\n",
       "      <th>4</th>\n",
       "      <td>CA</td>\n",
       "      <td>6</td>\n",
       "      <td>39209127</td>\n",
       "      <td>39557045</td>\n",
       "    </tr>\n",
       "  </tbody>\n",
       "</table>\n",
       "</div>"
      ],
      "text/plain": [
       "  Alpha  FIPS  POPESTIMATE2016  POPESTIMATE2018\n",
       "0    AL     1          4864745          4887871\n",
       "1    AK     2           741504           737438\n",
       "2    AZ     4          6945452          7171646\n",
       "3    AR     5          2990410          3013825\n",
       "4    CA     6         39209127         39557045"
      ]
     },
     "execution_count": 4,
     "metadata": {},
     "output_type": "execute_result"
    }
   ],
   "source": [
    "state_pops_df.head()"
   ]
  },
  {
   "cell_type": "code",
   "execution_count": 5,
   "metadata": {},
   "outputs": [],
   "source": [
    "state_pops_df.rename(columns = {\n",
    "    \"Alpha\": \"STATE\",\n",
    "    \"POPESTIMATE2016\": \"2016_Pop\",\n",
    "    \"POPESTIMATE2018\": \"2018_Pop\"\n",
    "}, inplace = True)"
   ]
  },
  {
   "cell_type": "code",
   "execution_count": 6,
   "metadata": {},
   "outputs": [
    {
     "data": {
      "text/html": [
       "<div>\n",
       "<style scoped>\n",
       "    .dataframe tbody tr th:only-of-type {\n",
       "        vertical-align: middle;\n",
       "    }\n",
       "\n",
       "    .dataframe tbody tr th {\n",
       "        vertical-align: top;\n",
       "    }\n",
       "\n",
       "    .dataframe thead th {\n",
       "        text-align: right;\n",
       "    }\n",
       "</style>\n",
       "<table border=\"1\" class=\"dataframe\">\n",
       "  <thead>\n",
       "    <tr style=\"text-align: right;\">\n",
       "      <th></th>\n",
       "      <th>STATE</th>\n",
       "      <th>Mean # Total Income Returns</th>\n",
       "      <th>Mean Total Income</th>\n",
       "      <th>Mean # Returns with Salaries and Wages</th>\n",
       "      <th>Mean Salaries and Wages</th>\n",
       "      <th>Brewery Count</th>\n",
       "      <th>state_name</th>\n",
       "      <th>FIPS</th>\n",
       "      <th>2016_Pop</th>\n",
       "      <th>2018_Pop</th>\n",
       "    </tr>\n",
       "  </thead>\n",
       "  <tbody>\n",
       "    <tr>\n",
       "      <th>0</th>\n",
       "      <td>AK</td>\n",
       "      <td>2588.988095</td>\n",
       "      <td>183958.494048</td>\n",
       "      <td>2198.571429</td>\n",
       "      <td>127301.089286</td>\n",
       "      <td>41</td>\n",
       "      <td>Alaska</td>\n",
       "      <td>2</td>\n",
       "      <td>741504</td>\n",
       "      <td>737438</td>\n",
       "    </tr>\n",
       "    <tr>\n",
       "      <th>1</th>\n",
       "      <td>AL</td>\n",
       "      <td>3469.950739</td>\n",
       "      <td>200435.201970</td>\n",
       "      <td>2918.587849</td>\n",
       "      <td>140634.338259</td>\n",
       "      <td>42</td>\n",
       "      <td>Alabama</td>\n",
       "      <td>1</td>\n",
       "      <td>4864745</td>\n",
       "      <td>4887871</td>\n",
       "    </tr>\n",
       "    <tr>\n",
       "      <th>2</th>\n",
       "      <td>AR</td>\n",
       "      <td>2655.411090</td>\n",
       "      <td>163030.388145</td>\n",
       "      <td>2250.516252</td>\n",
       "      <td>105676.304015</td>\n",
       "      <td>39</td>\n",
       "      <td>Arkansas</td>\n",
       "      <td>5</td>\n",
       "      <td>2990410</td>\n",
       "      <td>3013825</td>\n",
       "    </tr>\n",
       "    <tr>\n",
       "      <th>3</th>\n",
       "      <td>AZ</td>\n",
       "      <td>8370.093897</td>\n",
       "      <td>531552.845070</td>\n",
       "      <td>6929.859155</td>\n",
       "      <td>361805.767606</td>\n",
       "      <td>118</td>\n",
       "      <td>Arizona</td>\n",
       "      <td>4</td>\n",
       "      <td>6945452</td>\n",
       "      <td>7171646</td>\n",
       "    </tr>\n",
       "    <tr>\n",
       "      <th>4</th>\n",
       "      <td>CA</td>\n",
       "      <td>11992.881944</td>\n",
       "      <td>978355.903274</td>\n",
       "      <td>9985.466270</td>\n",
       "      <td>667623.095238</td>\n",
       "      <td>847</td>\n",
       "      <td>California</td>\n",
       "      <td>6</td>\n",
       "      <td>39209127</td>\n",
       "      <td>39557045</td>\n",
       "    </tr>\n",
       "  </tbody>\n",
       "</table>\n",
       "</div>"
      ],
      "text/plain": [
       "  STATE  Mean # Total Income Returns  Mean Total Income  \\\n",
       "0    AK                  2588.988095      183958.494048   \n",
       "1    AL                  3469.950739      200435.201970   \n",
       "2    AR                  2655.411090      163030.388145   \n",
       "3    AZ                  8370.093897      531552.845070   \n",
       "4    CA                 11992.881944      978355.903274   \n",
       "\n",
       "   Mean # Returns with Salaries and Wages  Mean Salaries and Wages  \\\n",
       "0                             2198.571429            127301.089286   \n",
       "1                             2918.587849            140634.338259   \n",
       "2                             2250.516252            105676.304015   \n",
       "3                             6929.859155            361805.767606   \n",
       "4                             9985.466270            667623.095238   \n",
       "\n",
       "   Brewery Count  state_name  FIPS  2016_Pop  2018_Pop  \n",
       "0             41      Alaska     2    741504    737438  \n",
       "1             42     Alabama     1   4864745   4887871  \n",
       "2             39    Arkansas     5   2990410   3013825  \n",
       "3            118     Arizona     4   6945452   7171646  \n",
       "4            847  California     6  39209127  39557045  "
      ]
     },
     "execution_count": 6,
     "metadata": {},
     "output_type": "execute_result"
    }
   ],
   "source": [
    "per_capita_df = state_brewery_df.merge(state_pops_df)\n",
    "per_capita_df.head()"
   ]
  },
  {
   "cell_type": "code",
   "execution_count": 7,
   "metadata": {},
   "outputs": [
    {
     "data": {
      "text/plain": [
       "STATE                                      object\n",
       "Mean # Total Income Returns               float64\n",
       "Mean Total Income                         float64\n",
       "Mean # Returns with Salaries and Wages    float64\n",
       "Mean Salaries and Wages                   float64\n",
       "Brewery Count                               int64\n",
       "state_name                                 object\n",
       "FIPS                                        int64\n",
       "2016_Pop                                    int64\n",
       "2018_Pop                                    int64\n",
       "dtype: object"
      ]
     },
     "execution_count": 7,
     "metadata": {},
     "output_type": "execute_result"
    }
   ],
   "source": [
    "per_capita_df.dtypes"
   ]
  },
  {
   "cell_type": "code",
   "execution_count": 8,
   "metadata": {},
   "outputs": [
    {
     "data": {
      "text/html": [
       "<div>\n",
       "<style scoped>\n",
       "    .dataframe tbody tr th:only-of-type {\n",
       "        vertical-align: middle;\n",
       "    }\n",
       "\n",
       "    .dataframe tbody tr th {\n",
       "        vertical-align: top;\n",
       "    }\n",
       "\n",
       "    .dataframe thead th {\n",
       "        text-align: right;\n",
       "    }\n",
       "</style>\n",
       "<table border=\"1\" class=\"dataframe\">\n",
       "  <thead>\n",
       "    <tr style=\"text-align: right;\">\n",
       "      <th></th>\n",
       "      <th>STATE</th>\n",
       "      <th>Mean # Total Income Returns</th>\n",
       "      <th>Mean Total Income</th>\n",
       "      <th>Mean # Returns with Salaries and Wages</th>\n",
       "      <th>Mean Salaries and Wages</th>\n",
       "      <th>Brewery Count</th>\n",
       "      <th>state_name</th>\n",
       "      <th>FIPS</th>\n",
       "      <th>2016_Pop</th>\n",
       "      <th>2018_Pop</th>\n",
       "      <th>breweries_per_capita_2016</th>\n",
       "      <th>breweries_per_capita_2018</th>\n",
       "    </tr>\n",
       "  </thead>\n",
       "  <tbody>\n",
       "    <tr>\n",
       "      <th>0</th>\n",
       "      <td>AK</td>\n",
       "      <td>2588.988095</td>\n",
       "      <td>183958.494048</td>\n",
       "      <td>2198.571429</td>\n",
       "      <td>127301.089286</td>\n",
       "      <td>41</td>\n",
       "      <td>Alaska</td>\n",
       "      <td>2</td>\n",
       "      <td>741504</td>\n",
       "      <td>737438</td>\n",
       "      <td>0.000055</td>\n",
       "      <td>0.000056</td>\n",
       "    </tr>\n",
       "    <tr>\n",
       "      <th>1</th>\n",
       "      <td>AL</td>\n",
       "      <td>3469.950739</td>\n",
       "      <td>200435.201970</td>\n",
       "      <td>2918.587849</td>\n",
       "      <td>140634.338259</td>\n",
       "      <td>42</td>\n",
       "      <td>Alabama</td>\n",
       "      <td>1</td>\n",
       "      <td>4864745</td>\n",
       "      <td>4887871</td>\n",
       "      <td>0.000009</td>\n",
       "      <td>0.000009</td>\n",
       "    </tr>\n",
       "    <tr>\n",
       "      <th>2</th>\n",
       "      <td>AR</td>\n",
       "      <td>2655.411090</td>\n",
       "      <td>163030.388145</td>\n",
       "      <td>2250.516252</td>\n",
       "      <td>105676.304015</td>\n",
       "      <td>39</td>\n",
       "      <td>Arkansas</td>\n",
       "      <td>5</td>\n",
       "      <td>2990410</td>\n",
       "      <td>3013825</td>\n",
       "      <td>0.000013</td>\n",
       "      <td>0.000013</td>\n",
       "    </tr>\n",
       "    <tr>\n",
       "      <th>3</th>\n",
       "      <td>AZ</td>\n",
       "      <td>8370.093897</td>\n",
       "      <td>531552.845070</td>\n",
       "      <td>6929.859155</td>\n",
       "      <td>361805.767606</td>\n",
       "      <td>118</td>\n",
       "      <td>Arizona</td>\n",
       "      <td>4</td>\n",
       "      <td>6945452</td>\n",
       "      <td>7171646</td>\n",
       "      <td>0.000017</td>\n",
       "      <td>0.000016</td>\n",
       "    </tr>\n",
       "    <tr>\n",
       "      <th>4</th>\n",
       "      <td>CA</td>\n",
       "      <td>11992.881944</td>\n",
       "      <td>978355.903274</td>\n",
       "      <td>9985.466270</td>\n",
       "      <td>667623.095238</td>\n",
       "      <td>847</td>\n",
       "      <td>California</td>\n",
       "      <td>6</td>\n",
       "      <td>39209127</td>\n",
       "      <td>39557045</td>\n",
       "      <td>0.000022</td>\n",
       "      <td>0.000021</td>\n",
       "    </tr>\n",
       "  </tbody>\n",
       "</table>\n",
       "</div>"
      ],
      "text/plain": [
       "  STATE  Mean # Total Income Returns  Mean Total Income  \\\n",
       "0    AK                  2588.988095      183958.494048   \n",
       "1    AL                  3469.950739      200435.201970   \n",
       "2    AR                  2655.411090      163030.388145   \n",
       "3    AZ                  8370.093897      531552.845070   \n",
       "4    CA                 11992.881944      978355.903274   \n",
       "\n",
       "   Mean # Returns with Salaries and Wages  Mean Salaries and Wages  \\\n",
       "0                             2198.571429            127301.089286   \n",
       "1                             2918.587849            140634.338259   \n",
       "2                             2250.516252            105676.304015   \n",
       "3                             6929.859155            361805.767606   \n",
       "4                             9985.466270            667623.095238   \n",
       "\n",
       "   Brewery Count  state_name  FIPS  2016_Pop  2018_Pop  \\\n",
       "0             41      Alaska     2    741504    737438   \n",
       "1             42     Alabama     1   4864745   4887871   \n",
       "2             39    Arkansas     5   2990410   3013825   \n",
       "3            118     Arizona     4   6945452   7171646   \n",
       "4            847  California     6  39209127  39557045   \n",
       "\n",
       "   breweries_per_capita_2016  breweries_per_capita_2018  \n",
       "0                   0.000055                   0.000056  \n",
       "1                   0.000009                   0.000009  \n",
       "2                   0.000013                   0.000013  \n",
       "3                   0.000017                   0.000016  \n",
       "4                   0.000022                   0.000021  "
      ]
     },
     "execution_count": 8,
     "metadata": {},
     "output_type": "execute_result"
    }
   ],
   "source": [
    "# Create Per Capita Columns\n",
    "per_capita_df[\"breweries_per_capita_2016\"] = per_capita_df[\"Brewery Count\"]/per_capita_df[\"2016_Pop\"]\n",
    "per_capita_df[\"breweries_per_capita_2018\"] = per_capita_df[\"Brewery Count\"]/per_capita_df[\"2018_Pop\"]\n",
    "per_capita_df.head()"
   ]
  },
  {
   "cell_type": "code",
   "execution_count": 9,
   "metadata": {},
   "outputs": [
    {
     "data": {
      "text/plain": [
       "0.00010101917119382211"
      ]
     },
     "execution_count": 9,
     "metadata": {},
     "output_type": "execute_result"
    }
   ],
   "source": [
    "max(per_capita_df[\"breweries_per_capita_2016\"])"
   ]
  },
  {
   "cell_type": "code",
   "execution_count": 10,
   "metadata": {},
   "outputs": [
    {
     "data": {
      "text/plain": [
       "0.00010059093180733164"
      ]
     },
     "execution_count": 10,
     "metadata": {},
     "output_type": "execute_result"
    }
   ],
   "source": [
    "max(per_capita_df[\"breweries_per_capita_2018\"])"
   ]
  },
  {
   "cell_type": "markdown",
   "metadata": {},
   "source": [
    "## Mapping"
   ]
  },
  {
   "cell_type": "code",
   "execution_count": 18,
   "metadata": {},
   "outputs": [],
   "source": [
    "# Create dictionary of state names and breweries per capita to assign colors to geos\n",
    "\n",
    "brewer_per_cap_dict_18 = dict(zip(per_capita_df.state_name, per_capita_df.breweries_per_capita_2018))\n",
    "brewer_per_cap_dict_16 = dict(zip(per_capita_df.state_name, per_capita_df.breweries_per_capita_2016))"
   ]
  },
  {
   "cell_type": "code",
   "execution_count": 12,
   "metadata": {},
   "outputs": [
    {
     "data": {
      "application/vnd.jupyter.widget-view+json": {
       "model_id": "a1d73205f15d468aa98686f74c900f23",
       "version_major": 2,
       "version_minor": 0
      },
      "text/plain": [
       "Figure(layout=FigureLayout(height='420px'))"
      ]
     },
     "metadata": {},
     "output_type": "display_data"
    }
   ],
   "source": [
    "%matplotlib inline\n",
    "states_geojson = gmaps.geojson_geometries.load_geometry(\"us-states\")\n",
    "fig = gmaps.figure()\n",
    "states_layer = gmaps.geojson_layer(states_geojson)\n",
    "fig.add_layer(states_layer)\n",
    "fig"
   ]
  },
  {
   "cell_type": "markdown",
   "metadata": {},
   "source": [
    "### 2018 Breweries per Capita"
   ]
  },
  {
   "cell_type": "code",
   "execution_count": 13,
   "metadata": {},
   "outputs": [],
   "source": [
    "# Create range\n",
    "\n",
    "min_brewers = min(brewer_per_cap_dict_18.values())\n",
    "max_brewers = max(brewer_per_cap_dict_18.values())\n",
    "brewers_range = max_brewers - min_brewers"
   ]
  },
  {
   "cell_type": "code",
   "execution_count": 14,
   "metadata": {},
   "outputs": [],
   "source": [
    "def calculate_color(brewers_count):\n",
    "    # Convert the count to a color\n",
    "    # Convert count to a number between 0 and 1\n",
    "    normalized_brewers = (brewers_count - min_brewers) / brewers_range\n",
    "    \n",
    "    # Invert it so higher counts get a darker color\n",
    "    inverse_brewers = 1.0 - normalized_brewers\n",
    "    \n",
    "    # Transform counts to a matplotlib color\n",
    "    mpl_color = viridis(inverse_brewers)\n",
    "    \n",
    "    # Transform the matplotlib colors to CSS colors to apply to gmaps\n",
    "    gmaps_color = to_hex(mpl_color, keep_alpha=False)\n",
    "    \n",
    "    return gmaps_color"
   ]
  },
  {
   "cell_type": "code",
   "execution_count": 15,
   "metadata": {},
   "outputs": [],
   "source": [
    "colors = []\n",
    "\n",
    "for feature in states_geojson[\"features\"]:\n",
    "    state_name = feature[\"properties\"][\"NAME\"]\n",
    "    try:\n",
    "        brew_count = brewer_per_cap_dict_18[state_name]\n",
    "        color = calculate_color(brew_count)\n",
    "    except KeyError:\n",
    "        # No count available, return a default color\n",
    "        color = (0, 0, 0, 0.3)\n",
    "    colors.append(color)"
   ]
  },
  {
   "cell_type": "code",
   "execution_count": 16,
   "metadata": {},
   "outputs": [
    {
     "data": {
      "application/vnd.jupyter.widget-view+json": {
       "model_id": "a09b4b9417d3453bb40edb04cd5e0224",
       "version_major": 2,
       "version_minor": 0
      },
      "text/plain": [
       "Figure(layout=FigureLayout(height='420px'))"
      ]
     },
     "metadata": {},
     "output_type": "display_data"
    }
   ],
   "source": [
    "%matplotlib inline\n",
    "\n",
    "fig1 = gmaps.figure()\n",
    "states_layer = gmaps.geojson_layer(states_geojson, \\\n",
    "                                   fill_color = colors, \\\n",
    "                                   stroke_color = colors, \\\n",
    "                                   fill_opacity = 0.8)\n",
    "fig1.add_layer(states_layer)\n",
    "fig1"
   ]
  },
  {
   "cell_type": "markdown",
   "metadata": {},
   "source": [
    "### Breweries per Capita 2016"
   ]
  },
  {
   "cell_type": "code",
   "execution_count": 19,
   "metadata": {},
   "outputs": [],
   "source": [
    "# Create range\n",
    "\n",
    "min_brewers = min(brewer_per_cap_dict_16.values())\n",
    "max_brewers = max(brewer_per_cap_dict_16.values())\n",
    "brewers_range = max_brewers - min_brewers"
   ]
  },
  {
   "cell_type": "code",
   "execution_count": 20,
   "metadata": {},
   "outputs": [],
   "source": [
    "def calculate_color(brewers_count):\n",
    "    # Convert the count to a color\n",
    "    # Convert count to a number between 0 and 1\n",
    "    normalized_brewers = (brewers_count - min_brewers) / brewers_range\n",
    "    \n",
    "    # Invert it so higher counts get a darker color\n",
    "    inverse_brewers = 1.0 - normalized_brewers\n",
    "    \n",
    "    # Transform counts to a matplotlib color\n",
    "    mpl_color = viridis(inverse_brewers)\n",
    "    \n",
    "    # Transform the matplotlib colors to CSS colors to apply to gmaps\n",
    "    gmaps_color = to_hex(mpl_color, keep_alpha=False)\n",
    "    \n",
    "    return gmaps_color"
   ]
  },
  {
   "cell_type": "code",
   "execution_count": 22,
   "metadata": {},
   "outputs": [],
   "source": [
    "colors = []\n",
    "\n",
    "for feature in states_geojson[\"features\"]:\n",
    "    state_name = feature[\"properties\"][\"NAME\"]\n",
    "    try:\n",
    "        brew_count = brewer_per_cap_dict_16[state_name]\n",
    "        color = calculate_color(brew_count)\n",
    "    except KeyError:\n",
    "        # No count available, return a default color\n",
    "        color = (0, 0, 0, 0.3)\n",
    "    colors.append(color)"
   ]
  },
  {
   "cell_type": "code",
   "execution_count": 23,
   "metadata": {},
   "outputs": [
    {
     "data": {
      "application/vnd.jupyter.widget-view+json": {
       "model_id": "11e30edf7ceb489593334666686874f0",
       "version_major": 2,
       "version_minor": 0
      },
      "text/plain": [
       "Figure(layout=FigureLayout(height='420px'))"
      ]
     },
     "metadata": {},
     "output_type": "display_data"
    }
   ],
   "source": [
    "%matplotlib inline\n",
    "\n",
    "fig1 = gmaps.figure()\n",
    "states_layer = gmaps.geojson_layer(states_geojson, \\\n",
    "                                   fill_color = colors, \\\n",
    "                                   stroke_color = colors, \\\n",
    "                                   fill_opacity = 0.8)\n",
    "fig1.add_layer(states_layer)\n",
    "fig1"
   ]
  },
  {
   "cell_type": "code",
   "execution_count": null,
   "metadata": {},
   "outputs": [],
   "source": [
    "# Unsurprisingly, not a noticeable difference between 2016 and '18."
   ]
  }
 ],
 "metadata": {
  "kernelspec": {
   "display_name": "Python 3",
   "language": "python",
   "name": "python3"
  },
  "language_info": {
   "codemirror_mode": {
    "name": "ipython",
    "version": 3
   },
   "file_extension": ".py",
   "mimetype": "text/x-python",
   "name": "python",
   "nbconvert_exporter": "python",
   "pygments_lexer": "ipython3",
   "version": "3.6.7"
  }
 },
 "nbformat": 4,
 "nbformat_minor": 2
}
