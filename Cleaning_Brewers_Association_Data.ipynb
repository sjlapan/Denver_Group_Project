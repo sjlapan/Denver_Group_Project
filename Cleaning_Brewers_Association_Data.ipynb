{
 "cells": [
  {
   "cell_type": "markdown",
   "metadata": {},
   "source": [
    "## Import dependencies"
   ]
  },
  {
   "cell_type": "code",
   "execution_count": 1,
   "metadata": {},
   "outputs": [],
   "source": [
    "import requests\n",
    "import bs4 as bs\n",
    "import re\n",
    "import pandas as pd"
   ]
  },
  {
   "cell_type": "markdown",
   "metadata": {},
   "source": [
    "## Define State Dictionary for iteration"
   ]
  },
  {
   "cell_type": "code",
   "execution_count": 2,
   "metadata": {},
   "outputs": [],
   "source": [
    "state_list= [\"Alabama\",\"Alaska\",\"Arizona\",\"Arkansas\",\"California\",\"Colorado\",\"Connecticut\",\"Delaware\",\"Florida\",\"Georgia\",\n",
    "\"Hawaii\" ,\"Idaho\" ,\"Illinois\" ,\"Indiana\" ,\"Iowa\" ,\"Kansas\" ,\"Kentucky\" ,\"Louisiana\" ,\"Maine\" ,\"Maryland\" ,\"Massachusetts\", \n",
    "\"Michigan\" ,\"Minnesota\" ,\"Mississippi\" ,\"Missouri\" ,\"Montana\" ,\"Nebraska\" ,\"Nevada\" ,\"New Hampshire\" ,\"New Jersey\" ,\n",
    "\"New Mexico\" ,\"New York\" ,\"North Carolina\" ,\"North Dakota\" ,\"Ohio\" ,\"Oklahoma\" ,\"Oregon\" ,\"Pennsylvania\" ,\"Rhode Island\" ,\n",
    "\"South Carolina\" ,\"South Dakota\" ,\"Tennessee\" ,\"Texas\" ,\"Utah\" ,\"Vermont\" ,\"Virginia\" ,\"Washington\" ,\"West Virginia\" ,\n",
    "\"Wisconsin\" ,\"Wyoming\"]\n",
    "\n",
    "state_list_test= [\"Alabama\",\"Alaska\",\"North Carolina\",\"South Dakota\",\"Colorado\"]"
   ]
  },
  {
   "cell_type": "markdown",
   "metadata": {},
   "source": [
    "## Iterate the request for each state"
   ]
  },
  {
   "cell_type": "code",
   "execution_count": 11,
   "metadata": {},
   "outputs": [
    {
     "name": "stdout",
     "output_type": "stream",
     "text": [
      "Alabama found!\n",
      "Alaska found!\n",
      "Arizona found!\n",
      "Arkansas found!\n",
      "California found!\n",
      "Colorado found!\n",
      "Connecticut found!\n",
      "Delaware found!\n",
      "Florida found!\n",
      "Georgia found!\n",
      "Hawaii found!\n",
      "Idaho found!\n",
      "Illinois found!\n",
      "Indiana found!\n",
      "Iowa found!\n",
      "Kansas found!\n",
      "Kentucky found!\n",
      "Louisiana found!\n",
      "Maine found!\n",
      "Maryland found!\n",
      "Massachusetts found!\n",
      "Michigan found!\n",
      "Minnesota found!\n",
      "Mississippi found!\n",
      "Missouri found!\n",
      "Montana found!\n",
      "Nebraska found!\n",
      "Nevada found!\n",
      "New Hampshire found!\n",
      "New Jersey found!\n",
      "New Mexico found!\n",
      "New York found!\n",
      "North Carolina found!\n",
      "North Dakota found!\n",
      "Ohio found!\n",
      "Oklahoma found!\n",
      "Oregon found!\n",
      "Pennsylvania found!\n",
      "Rhode Island found!\n",
      "South Carolina found!\n",
      "South Dakota found!\n",
      "Tennessee found!\n",
      "Texas found!\n",
      "Utah found!\n",
      "Vermont found!\n",
      "Virginia found!\n",
      "Washington found!\n",
      "West Virginia found!\n",
      "Wisconsin found!\n",
      "Wyoming found!\n",
      "/\\/\\/\\/\\/\\/\\/\\/\\/\\/\\/\\/\\/\\/\\/\\/\\/\\/\\/\\/\\/\\/\\/\\/\\/\\/\\/\\/\\/\\/\\\n",
      "REQUEST COMPLETE\n"
     ]
    }
   ],
   "source": [
    "# for state in state_dict.keys():\n",
    "#     response= requests.post('https://www.brewersassociation.org/wp-admin/admin-ajax.php',\n",
    "#                  data= {\n",
    "#                      \"action\": \"get_breweries\",\n",
    "#                     \"_id\": state,\n",
    "#                     \"search_by\": \"statename\"\n",
    "#                  })\n",
    "#     state_dict[state]= response\n",
    "\n",
    "response_list= []\n",
    "\n",
    "for state in state_list:\n",
    "    response= requests.post('https://www.brewersassociation.org/wp-admin/admin-ajax.php',\n",
    "                 data= {\n",
    "                     \"action\": \"get_breweries\",\n",
    "                    \"_id\": state,\n",
    "                    \"search_by\": \"statename\"\n",
    "                 })\n",
    "    if response.status_code == 200:\n",
    "        response_list.append(response)\n",
    "        print(f\"{state} found!\")\n",
    "    else:\n",
    "        print(f\"Not found. Skipping {state}...\")\n",
    "\n",
    "print(\"/\\\\\"*30)\n",
    "print(\"REQUEST COMPLETE\")"
   ]
  },
  {
   "cell_type": "markdown",
   "metadata": {},
   "source": [
    "## Convert to BeautifulSoup object and prettify for easier reading"
   ]
  },
  {
   "cell_type": "code",
   "execution_count": 12,
   "metadata": {
    "scrolled": true
   },
   "outputs": [],
   "source": [
    "soup_list= [bs.BeautifulSoup(i.text,'html.parser') for i in response_list]"
   ]
  },
  {
   "cell_type": "markdown",
   "metadata": {},
   "source": [
    "## Locate all the brewery classes"
   ]
  },
  {
   "cell_type": "code",
   "execution_count": 13,
   "metadata": {},
   "outputs": [],
   "source": [
    "breweries= [soup.find_all(attrs= {\"class\":\"brewery\"}) for soup in soup_list]"
   ]
  },
  {
   "cell_type": "markdown",
   "metadata": {},
   "source": [
    "## Convert to DataFrame\n",
    "\n",
    "Having issues with this step right now because I made lists of lists... like a chump..."
   ]
  },
  {
   "cell_type": "code",
   "execution_count": 17,
   "metadata": {
    "scrolled": true
   },
   "outputs": [],
   "source": [
    "p= re.compile(\"<li>(.*?), ([A-Z][A-Z]) (\\d{5})?\")\n",
    "\n",
    "Brewery_list= []\n",
    "Address_list= []\n",
    "City_list= []\n",
    "State_list= []\n",
    "ZIP_Code_list= []\n",
    "\n",
    "fail_list= []\n",
    "\n",
    "for state in breweries:\n",
    "    for i in state:\n",
    "#Since some breweries lack a ZIP Code, it throws an error.\n",
    "        try:\n",
    "            city_state_zip= i.find_all('li')[2]\n",
    "#ZIP_Code_list should be produced first to throw the error before populating the other fields.\n",
    "#This ensures all lists are the same length and can easily be added to the state_df.\n",
    "            ZIP_Code_list.append(re.search(p, str(city_state_zip)).group(3))\n",
    "            Brewery_list.append(i.find_all(attrs={\"class\":\"name\"})[0].string)\n",
    "            Address_list.append(i.find_all(attrs={\"class\":\"address\"})[0].string.rstrip())\n",
    "            City_list.append(re.search(p, str(city_state_zip)).group(1))\n",
    "            State_list.append(re.search(p, str(city_state_zip)).group(2))\n",
    "        except AttributeError:\n",
    "            fail_list.append(i.find_all(attrs={\"class\":\"name\"})[0].string)"
   ]
  },
  {
   "cell_type": "code",
   "execution_count": 18,
   "metadata": {
    "scrolled": true
   },
   "outputs": [],
   "source": [
    "state_df= pd.DataFrame(\n",
    "    {\n",
    "            \"Brewery\": Brewery_list,\n",
    "            \"Address\": Address_list,\n",
    "            \"City\": City_list,\n",
    "            \"State\": State_list,\n",
    "            \"ZIP Code\": ZIP_Code_list\n",
    "    })"
   ]
  },
  {
   "cell_type": "code",
   "execution_count": 19,
   "metadata": {
    "scrolled": true
   },
   "outputs": [
    {
     "data": {
      "text/html": [
       "<div>\n",
       "<style scoped>\n",
       "    .dataframe tbody tr th:only-of-type {\n",
       "        vertical-align: middle;\n",
       "    }\n",
       "\n",
       "    .dataframe tbody tr th {\n",
       "        vertical-align: top;\n",
       "    }\n",
       "\n",
       "    .dataframe thead th {\n",
       "        text-align: right;\n",
       "    }\n",
       "</style>\n",
       "<table border=\"1\" class=\"dataframe\">\n",
       "  <thead>\n",
       "    <tr style=\"text-align: right;\">\n",
       "      <th></th>\n",
       "      <th>Brewery</th>\n",
       "      <th>Address</th>\n",
       "      <th>City</th>\n",
       "      <th>State</th>\n",
       "      <th>ZIP Code</th>\n",
       "    </tr>\n",
       "  </thead>\n",
       "  <tbody>\n",
       "    <tr>\n",
       "      <th>0</th>\n",
       "      <td>5 Rivers Brewing LLC</td>\n",
       "      <td></td>\n",
       "      <td>Spanish Fort</td>\n",
       "      <td>AL</td>\n",
       "      <td>36527</td>\n",
       "    </tr>\n",
       "    <tr>\n",
       "      <th>1</th>\n",
       "      <td>Avondale Brewing Co</td>\n",
       "      <td>201 41st St S</td>\n",
       "      <td>Birmingham</td>\n",
       "      <td>AL</td>\n",
       "      <td>35222</td>\n",
       "    </tr>\n",
       "    <tr>\n",
       "      <th>2</th>\n",
       "      <td>Back Forty Beer Co</td>\n",
       "      <td>200 N 6th St</td>\n",
       "      <td>Gadsden</td>\n",
       "      <td>AL</td>\n",
       "      <td>35901</td>\n",
       "    </tr>\n",
       "    <tr>\n",
       "      <th>3</th>\n",
       "      <td>Back Forty Beer Company - Birmingham</td>\n",
       "      <td>3201 1st Avenue N</td>\n",
       "      <td>Birmingham</td>\n",
       "      <td>AL</td>\n",
       "      <td>35222</td>\n",
       "    </tr>\n",
       "    <tr>\n",
       "      <th>4</th>\n",
       "      <td>Below the Radar Brewing Co</td>\n",
       "      <td>220 Holmes Ave NE</td>\n",
       "      <td>Huntsville</td>\n",
       "      <td>AL</td>\n",
       "      <td>35801</td>\n",
       "    </tr>\n",
       "  </tbody>\n",
       "</table>\n",
       "</div>"
      ],
      "text/plain": [
       "                                Brewery            Address          City  \\\n",
       "0                  5 Rivers Brewing LLC                     Spanish Fort   \n",
       "1                   Avondale Brewing Co      201 41st St S    Birmingham   \n",
       "2                    Back Forty Beer Co       200 N 6th St       Gadsden   \n",
       "3  Back Forty Beer Company - Birmingham  3201 1st Avenue N    Birmingham   \n",
       "4            Below the Radar Brewing Co  220 Holmes Ave NE    Huntsville   \n",
       "\n",
       "  State ZIP Code  \n",
       "0    AL    36527  \n",
       "1    AL    35222  \n",
       "2    AL    35901  \n",
       "3    AL    35222  \n",
       "4    AL    35801  "
      ]
     },
     "execution_count": 19,
     "metadata": {},
     "output_type": "execute_result"
    }
   ],
   "source": [
    "state_df.head()"
   ]
  },
  {
   "cell_type": "code",
   "execution_count": 21,
   "metadata": {
    "scrolled": true
   },
   "outputs": [
    {
     "data": {
      "text/html": [
       "<div>\n",
       "<style scoped>\n",
       "    .dataframe tbody tr th:only-of-type {\n",
       "        vertical-align: middle;\n",
       "    }\n",
       "\n",
       "    .dataframe tbody tr th {\n",
       "        vertical-align: top;\n",
       "    }\n",
       "\n",
       "    .dataframe thead th {\n",
       "        text-align: right;\n",
       "    }\n",
       "</style>\n",
       "<table border=\"1\" class=\"dataframe\">\n",
       "  <thead>\n",
       "    <tr style=\"text-align: right;\">\n",
       "      <th></th>\n",
       "      <th>Brewery</th>\n",
       "      <th>Address</th>\n",
       "      <th>City</th>\n",
       "      <th>State</th>\n",
       "      <th>ZIP Code</th>\n",
       "    </tr>\n",
       "  </thead>\n",
       "  <tbody>\n",
       "    <tr>\n",
       "      <th>count</th>\n",
       "      <td>8501</td>\n",
       "      <td>8501</td>\n",
       "      <td>8501</td>\n",
       "      <td>8501</td>\n",
       "      <td>8427</td>\n",
       "    </tr>\n",
       "    <tr>\n",
       "      <th>unique</th>\n",
       "      <td>8338</td>\n",
       "      <td>7452</td>\n",
       "      <td>3154</td>\n",
       "      <td>50</td>\n",
       "      <td>4958</td>\n",
       "    </tr>\n",
       "    <tr>\n",
       "      <th>top</th>\n",
       "      <td>Ballast Point Brewing Company</td>\n",
       "      <td></td>\n",
       "      <td>Portland</td>\n",
       "      <td>CA</td>\n",
       "      <td>92121</td>\n",
       "    </tr>\n",
       "    <tr>\n",
       "      <th>freq</th>\n",
       "      <td>6</td>\n",
       "      <td>981</td>\n",
       "      <td>100</td>\n",
       "      <td>961</td>\n",
       "      <td>18</td>\n",
       "    </tr>\n",
       "  </tbody>\n",
       "</table>\n",
       "</div>"
      ],
      "text/plain": [
       "                              Brewery Address      City State ZIP Code\n",
       "count                            8501    8501      8501  8501     8427\n",
       "unique                           8338    7452      3154    50     4958\n",
       "top     Ballast Point Brewing Company          Portland    CA    92121\n",
       "freq                                6     981       100   961       18"
      ]
     },
     "execution_count": 21,
     "metadata": {},
     "output_type": "execute_result"
    }
   ],
   "source": [
    "state_df.describe()"
   ]
  },
  {
   "cell_type": "code",
   "execution_count": 22,
   "metadata": {
    "scrolled": true
   },
   "outputs": [
    {
     "name": "stdout",
     "output_type": "stream",
     "text": [
      "8\n"
     ]
    },
    {
     "data": {
      "text/plain": [
       "['Cerveza Aldarra',\n",
       " 'Pirate Republic Brewing',\n",
       " 'Mount Vernon Brewery',\n",
       " 'Cheeky Monkey Brewery and Cidery',\n",
       " 'Cowaramup Brewing Company',\n",
       " 'Eagle Bay Brewing Co',\n",
       " 'Feral Brewing Company',\n",
       " 'Northbridge Brewing Co']"
      ]
     },
     "execution_count": 22,
     "metadata": {},
     "output_type": "execute_result"
    }
   ],
   "source": [
    "print(len(fail_list))\n",
    "fail_list"
   ]
  },
  {
   "cell_type": "code",
   "execution_count": 23,
   "metadata": {},
   "outputs": [],
   "source": [
    "state_df.to_csv(\"Resources/Brewers_Association_Data\")"
   ]
  }
 ],
 "metadata": {
  "kernelspec": {
   "display_name": "Python 3",
   "language": "python",
   "name": "python3"
  },
  "language_info": {
   "codemirror_mode": {
    "name": "ipython",
    "version": 3
   },
   "file_extension": ".py",
   "mimetype": "text/x-python",
   "name": "python",
   "nbconvert_exporter": "python",
   "pygments_lexer": "ipython3",
   "version": "3.6.7"
  }
 },
 "nbformat": 4,
 "nbformat_minor": 2
}
