{
 "cells": [
  {
   "cell_type": "markdown",
   "metadata": {},
   "source": [
    "## Import dependencies"
   ]
  },
  {
   "cell_type": "code",
   "execution_count": 1,
   "metadata": {},
   "outputs": [],
   "source": [
    "import requests\n",
    "import bs4 as bs\n",
    "import re\n",
    "import pandas as pd"
   ]
  },
  {
   "cell_type": "markdown",
   "metadata": {},
   "source": [
    "## Define State Dictionary for iteration"
   ]
  },
  {
   "cell_type": "code",
   "execution_count": 2,
   "metadata": {},
   "outputs": [],
   "source": [
    "state_list= [\"Alabama\",\"Alaska\",\"Arizona\",\"Arkansas\",\"California\",\"Colorado\",\"Connecticut\",\"Delaware\",\"Florida\",\"Georgia\",\n",
    "\"Hawaii\" ,\"Idaho\" ,\"Illinois\" ,\"Indiana\" ,\"Iowa\" ,\"Kansas\" ,\"Kentucky\" ,\"Louisiana\" ,\"Maine\" ,\"Maryland\" ,\"Massachusetts\", \n",
    "\"Michigan\" ,\"Minnesota\" ,\"Mississippi\" ,\"Missouri\" ,\"Montana\" ,\"Nebraska\" ,\"Nevada\" ,\"New Hampshire\" ,\"New Jersey\" ,\n",
    "\"New Mexico\" ,\"New York\" ,\"North Carolina\" ,\"North Dakota\" ,\"Ohio\" ,\"Oklahoma\" ,\"Oregon\" ,\"Pennsylvania\" ,\"Rhode Island\" ,\n",
    "\"South Carolina\" ,\"South Dakota\" ,\"Tennessee\" ,\"Texas\" ,\"Utah\" ,\"Vermont\" ,\"Virginia\" ,\"Washington\" ,\"West Virginia\" ,\n",
    "\"Wisconsin\" ,\"Wyoming\"]\n",
    "\n",
    "state_list_test= [\"Alabama\",\"Alaska\",\"North Carolina\",\"South Dakota\",\"Colorado\"]"
   ]
  },
  {
   "cell_type": "markdown",
   "metadata": {},
   "source": [
    "## Iterate the request for each state"
   ]
  },
  {
   "cell_type": "code",
   "execution_count": 3,
   "metadata": {},
   "outputs": [
    {
     "name": "stdout",
     "output_type": "stream",
     "text": [
      "Alabama found!\n",
      "Alaska found!\n",
      "North Carolina found!\n",
      "South Dakota found!\n",
      "Colorado found!\n",
      "/\\/\\/\\/\\/\\/\\/\\/\\/\\/\\/\\/\\/\\/\\/\\/\\/\\/\\/\\/\\/\\/\\/\\/\\/\\/\\/\\/\\/\\/\\\n",
      "REQUEST COMPLETE\n"
     ]
    }
   ],
   "source": [
    "# for state in state_dict.keys():\n",
    "#     response= requests.post('https://www.brewersassociation.org/wp-admin/admin-ajax.php',\n",
    "#                  data= {\n",
    "#                      \"action\": \"get_breweries\",\n",
    "#                     \"_id\": state,\n",
    "#                     \"search_by\": \"statename\"\n",
    "#                  })\n",
    "#     state_dict[state]= response\n",
    "\n",
    "response_list= []\n",
    "\n",
    "for state in state_list_test:\n",
    "    response= requests.post('https://www.brewersassociation.org/wp-admin/admin-ajax.php',\n",
    "                 data= {\n",
    "                     \"action\": \"get_breweries\",\n",
    "                    \"_id\": state,\n",
    "                    \"search_by\": \"statename\"\n",
    "                 })\n",
    "    if response.status_code == 200:\n",
    "        response_list.append(response)\n",
    "        print(f\"{state} found!\")\n",
    "    else:\n",
    "        print(f\"Not found. Skipping {state}...\")\n",
    "\n",
    "print(\"/\\\\\"*30)\n",
    "print(\"REQUEST COMPLETE\")"
   ]
  },
  {
   "cell_type": "markdown",
   "metadata": {},
   "source": [
    "## Convert to BeautifulSoup object and prettify for easier reading"
   ]
  },
  {
   "cell_type": "code",
   "execution_count": 4,
   "metadata": {
    "scrolled": true
   },
   "outputs": [],
   "source": [
    "soup_list= [bs.BeautifulSoup(i.text,'html.parser') for i in response_list]"
   ]
  },
  {
   "cell_type": "markdown",
   "metadata": {},
   "source": [
    "## Locate all the brewery classes"
   ]
  },
  {
   "cell_type": "code",
   "execution_count": 5,
   "metadata": {},
   "outputs": [],
   "source": [
    "breweries= [soup.find_all(attrs= {\"class\":\"brewery\"}) for soup in soup_list]"
   ]
  },
  {
   "cell_type": "code",
   "execution_count": 6,
   "metadata": {
    "scrolled": true
   },
   "outputs": [
    {
     "name": "stdout",
     "output_type": "stream",
     "text": [
      "50\n",
      "44\n",
      "329\n",
      "35\n",
      "468\n"
     ]
    }
   ],
   "source": [
    "for i in breweries:\n",
    "    print(len(i))"
   ]
  },
  {
   "cell_type": "markdown",
   "metadata": {},
   "source": [
    "## Locate the names and addresses in each brewery class"
   ]
  },
  {
   "cell_type": "code",
   "execution_count": 7,
   "metadata": {},
   "outputs": [
    {
     "name": "stdout",
     "output_type": "stream",
     "text": [
      "['5 Rivers Brewing LLC', 'Avondale Brewing Co', 'Back Forty Beer Co', 'Back Forty Beer Company - Birmingham', 'Below the Radar Brewing Co']\n",
      "['49th State Brewing Co', '49th State Brewing Co - Anchorage', 'Alaskan Brewing Co.', 'Anchorage Brewing Co', 'Arkose Brewery']\n",
      "['1323 R & D', '1718 Ocracoke Brewing', '217 Brew Works', '34 Degree North Experiment Station', '3rd Degree Brewhouse']\n",
      "['A Homestead Brew', \"Ben's Brewing Co\", 'Big Sioux Brewing Company', 'Brewery In Planning - Piedmont', 'Brewery in Planning - Sioux Falls, SD']\n",
      "['10 Barrel Brewing Co - Denver', '105 West Brewing Co', '12Degree Brewing', '14er Brewing Company', '1876 Ale Works, LLC']\n"
     ]
    }
   ],
   "source": [
    "breweries_name= [[i.find_all(attrs={\"class\":\"name\"})[0].string for i in state] for state in breweries]\n",
    "\n",
    "for i in breweries_name:\n",
    "    print(i[0:5])"
   ]
  },
  {
   "cell_type": "code",
   "execution_count": 8,
   "metadata": {
    "scrolled": true
   },
   "outputs": [
    {
     "name": "stdout",
     "output_type": "stream",
     "text": [
      "['', '201 41st St S', '200 N 6th St', '3201 1st Avenue N', '220 Holmes Ave NE']\n",
      "['248 Parks Hwy 5 Mile', '717 W 3rd Ave', '5429 Shaune Dr', '148 W 91st Ave', '650 E Steel Loop']\n",
      "['1323 Capital Blvd 1323 R and D', '1129 Irvin Garrish Hwy', '217 South St S', '4802 Main St', '1625 N Main St']\n",
      "['26685 486th Ave', '222 W 3rd St', '', '', '']\n",
      "['2620 Walnut St', '1043 Park St', '820 Main St', '3120 Blake St', '3352 Templeton Gap Rd']\n"
     ]
    }
   ],
   "source": [
    "breweries_address= [[i.find_all(attrs={\"class\":\"address\"})[0].string.rstrip() for i in state] for state in breweries]\n",
    "    \n",
    "for i in breweries_address:\n",
    "    print(i[0:5])"
   ]
  },
  {
   "cell_type": "code",
   "execution_count": 9,
   "metadata": {
    "scrolled": true
   },
   "outputs": [
    {
     "name": "stdout",
     "output_type": "stream",
     "text": [
      "['Spanish Fort', 'Birmingham', 'Gadsden', 'Birmingham', 'Huntsville']\n",
      "['Healy', 'Anchorage', 'Juneau', 'Anchorage', 'Palmer']\n",
      "['Raleigh', 'Ocracoke', 'Wilson', 'Shallotte', 'Fuquay Varina']\n",
      "['Valley Springs', 'Yankton', 'Humboldt', 'Piedmont', 'Sioux Falls']\n",
      "['Denver', 'Castle Rock', 'Louisville', 'Denver', 'Colorado Springs']\n",
      "['AL', 'AL', 'AL', 'AL', 'AL']\n",
      "['AK', 'AK', 'AK', 'AK', 'AK']\n",
      "['NC', 'NC', 'NC', 'NC', 'NC']\n",
      "['SD', 'SD', 'SD', 'SD', 'SD']\n",
      "['CO', 'CO', 'CO', 'CO', 'CO']\n",
      "['36527', '35222', '35901', '35222', '35801']\n",
      "['99743', '99501', '99801', '99515', '99645']\n",
      "['27603', '27960', '27893', '28470', '27526']\n",
      "['57068', '57078', '57035', '57769', '57103']\n",
      "['80205', '80109', '80027', '80205', '80907']\n"
     ]
    }
   ],
   "source": [
    "city_state_zip= [[i.find_all('li')[2] for i in state] for state in breweries]\n",
    "\n",
    "p= re.compile(\"<li>(.*?), ([A-Z][A-Z]) (\\d{5})?\")\n",
    "\n",
    "# city= [re.search(p, str(i)).group(1) for i in city_state_zip[4]]\n",
    "city= [[re.search(p, str(i)).group(1) for i in state] for state in city_state_zip]\n",
    "state= [[re.search(p, str(i)).group(2) for i in state] for state in city_state_zip]\n",
    "zipcode= [[re.search(p, str(i)).group(3) for i in state] for state in city_state_zip]\n",
    "\n",
    "for i in city:\n",
    "    print(i[0:5])\n",
    "for i in state:\n",
    "    print(i[0:5])\n",
    "for i in zipcode:\n",
    "    print(i[0:5])"
   ]
  },
  {
   "cell_type": "markdown",
   "metadata": {},
   "source": [
    "## Convert to DataFrame\n",
    "\n",
    "Having issues with this step right now because I made lists of lists... like a chump..."
   ]
  },
  {
   "cell_type": "code",
   "execution_count": 10,
   "metadata": {},
   "outputs": [],
   "source": [
    "# states_df= pd.DataFrame({\n",
    "#     \"Brewery\": [i for i in breweries_name],\n",
    "#     \"Address\": breweries_address,\n",
    "#     \"City\": city,\n",
    "#     \"State\": state,\n",
    "#     \"ZIP Code\": zipcode\n",
    "# })\n",
    "\n",
    "# states_df.head()"
   ]
  }
 ],
 "metadata": {
  "kernelspec": {
   "display_name": "Python 3",
   "language": "python",
   "name": "python3"
  },
  "language_info": {
   "codemirror_mode": {
    "name": "ipython",
    "version": 3
   },
   "file_extension": ".py",
   "mimetype": "text/x-python",
   "name": "python",
   "nbconvert_exporter": "python",
   "pygments_lexer": "ipython3",
   "version": "3.6.7"
  }
 },
 "nbformat": 4,
 "nbformat_minor": 2
}
