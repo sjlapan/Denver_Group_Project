{
 "cells": [
  {
   "cell_type": "code",
   "execution_count": 30,
   "metadata": {},
   "outputs": [],
   "source": [
    "import pandas as pd\n",
    "import numpy as np\n",
    "import matplotlib.pyplot as plt"
   ]
  },
  {
   "cell_type": "code",
   "execution_count": 2,
   "metadata": {},
   "outputs": [
    {
     "data": {
      "text/html": [
       "<div>\n",
       "<style scoped>\n",
       "    .dataframe tbody tr th:only-of-type {\n",
       "        vertical-align: middle;\n",
       "    }\n",
       "\n",
       "    .dataframe tbody tr th {\n",
       "        vertical-align: top;\n",
       "    }\n",
       "\n",
       "    .dataframe thead th {\n",
       "        text-align: right;\n",
       "    }\n",
       "</style>\n",
       "<table border=\"1\" class=\"dataframe\">\n",
       "  <thead>\n",
       "    <tr style=\"text-align: right;\">\n",
       "      <th></th>\n",
       "      <th>STATE</th>\n",
       "      <th>ZIP Code</th>\n",
       "      <th>NUMBER OF RETURNS</th>\n",
       "      <th>NUMBER OF RETURNS WITH TOTAL INCOME</th>\n",
       "      <th>TOTAL INCOME AMOUNT</th>\n",
       "      <th>NUMBER OF RETURNS WITH SALARIES AND WAGES</th>\n",
       "      <th>SALARIES AND WAGES AMOUNT</th>\n",
       "      <th>Brewery</th>\n",
       "      <th>Address</th>\n",
       "      <th>City</th>\n",
       "    </tr>\n",
       "  </thead>\n",
       "  <tbody>\n",
       "    <tr>\n",
       "      <th>0</th>\n",
       "      <td>AL</td>\n",
       "      <td>35004.0</td>\n",
       "      <td>5210.0</td>\n",
       "      <td>5210.0</td>\n",
       "      <td>290260.0</td>\n",
       "      <td>4550.0</td>\n",
       "      <td>234833.0</td>\n",
       "      <td>NaN</td>\n",
       "      <td>NaN</td>\n",
       "      <td>NaN</td>\n",
       "    </tr>\n",
       "    <tr>\n",
       "      <th>1</th>\n",
       "      <td>AL</td>\n",
       "      <td>35005.0</td>\n",
       "      <td>3100.0</td>\n",
       "      <td>3100.0</td>\n",
       "      <td>121690.0</td>\n",
       "      <td>2660.0</td>\n",
       "      <td>98565.0</td>\n",
       "      <td>NaN</td>\n",
       "      <td>NaN</td>\n",
       "      <td>NaN</td>\n",
       "    </tr>\n",
       "    <tr>\n",
       "      <th>2</th>\n",
       "      <td>AL</td>\n",
       "      <td>35006.0</td>\n",
       "      <td>1200.0</td>\n",
       "      <td>1200.0</td>\n",
       "      <td>57418.0</td>\n",
       "      <td>1040.0</td>\n",
       "      <td>43707.0</td>\n",
       "      <td>NaN</td>\n",
       "      <td>NaN</td>\n",
       "      <td>NaN</td>\n",
       "    </tr>\n",
       "    <tr>\n",
       "      <th>3</th>\n",
       "      <td>AL</td>\n",
       "      <td>35007.0</td>\n",
       "      <td>11940.0</td>\n",
       "      <td>11940.0</td>\n",
       "      <td>697882.0</td>\n",
       "      <td>10180.0</td>\n",
       "      <td>545418.0</td>\n",
       "      <td>siluria brewing company</td>\n",
       "      <td>145 1st ave w</td>\n",
       "      <td>Alabaster</td>\n",
       "    </tr>\n",
       "    <tr>\n",
       "      <th>4</th>\n",
       "      <td>AL</td>\n",
       "      <td>35010.0</td>\n",
       "      <td>7910.0</td>\n",
       "      <td>7910.0</td>\n",
       "      <td>384319.0</td>\n",
       "      <td>6700.0</td>\n",
       "      <td>266658.0</td>\n",
       "      <td>NaN</td>\n",
       "      <td>NaN</td>\n",
       "      <td>NaN</td>\n",
       "    </tr>\n",
       "  </tbody>\n",
       "</table>\n",
       "</div>"
      ],
      "text/plain": [
       "  STATE  ZIP Code  NUMBER OF RETURNS  NUMBER OF RETURNS WITH TOTAL INCOME  \\\n",
       "0    AL   35004.0             5210.0                               5210.0   \n",
       "1    AL   35005.0             3100.0                               3100.0   \n",
       "2    AL   35006.0             1200.0                               1200.0   \n",
       "3    AL   35007.0            11940.0                              11940.0   \n",
       "4    AL   35010.0             7910.0                               7910.0   \n",
       "\n",
       "   TOTAL INCOME AMOUNT  NUMBER OF RETURNS WITH SALARIES AND WAGES  \\\n",
       "0             290260.0                                     4550.0   \n",
       "1             121690.0                                     2660.0   \n",
       "2              57418.0                                     1040.0   \n",
       "3             697882.0                                    10180.0   \n",
       "4             384319.0                                     6700.0   \n",
       "\n",
       "   SALARIES AND WAGES AMOUNT                  Brewery        Address  \\\n",
       "0                   234833.0                      NaN            NaN   \n",
       "1                    98565.0                      NaN            NaN   \n",
       "2                    43707.0                      NaN            NaN   \n",
       "3                   545418.0  siluria brewing company  145 1st ave w   \n",
       "4                   266658.0                      NaN            NaN   \n",
       "\n",
       "        City  \n",
       "0        NaN  \n",
       "1        NaN  \n",
       "2        NaN  \n",
       "3  Alabaster  \n",
       "4        NaN  "
      ]
     },
     "execution_count": 2,
     "metadata": {},
     "output_type": "execute_result"
    }
   ],
   "source": [
    "beer_tax_data = pd.read_csv(\"resources/brewers_association_data_with_tax_data_2.csv\", index_col = 0)\n",
    "beer_tax_data.head()"
   ]
  },
  {
   "cell_type": "code",
   "execution_count": 6,
   "metadata": {},
   "outputs": [],
   "source": [
    "# Maybe I need to create a dataframe that aggregates just the tax data by state, then re-merge that with a dataframe\n",
    "# that groups breweries by state?\n",
    "\n",
    "state_tax_df = beer_tax_data[[\"STATE\", \"ZIP Code\", \"NUMBER OF RETURNS WITH TOTAL INCOME\", \"TOTAL INCOME AMOUNT\",\n",
    "                             \"NUMBER OF RETURNS WITH SALARIES AND WAGES\", \"SALARIES AND WAGES AMOUNT\"]]\n",
    "state_brewer_data = beer_tax_data[[\"STATE\", \"ZIP Code\", \"Brewery\", \"Address\", \"City\"]]"
   ]
  },
  {
   "cell_type": "code",
   "execution_count": 7,
   "metadata": {},
   "outputs": [
    {
     "data": {
      "text/html": [
       "<div>\n",
       "<style scoped>\n",
       "    .dataframe tbody tr th:only-of-type {\n",
       "        vertical-align: middle;\n",
       "    }\n",
       "\n",
       "    .dataframe tbody tr th {\n",
       "        vertical-align: top;\n",
       "    }\n",
       "\n",
       "    .dataframe thead th {\n",
       "        text-align: right;\n",
       "    }\n",
       "</style>\n",
       "<table border=\"1\" class=\"dataframe\">\n",
       "  <thead>\n",
       "    <tr style=\"text-align: right;\">\n",
       "      <th></th>\n",
       "      <th>STATE</th>\n",
       "      <th>ZIP Code</th>\n",
       "      <th>NUMBER OF RETURNS WITH TOTAL INCOME</th>\n",
       "      <th>TOTAL INCOME AMOUNT</th>\n",
       "      <th>NUMBER OF RETURNS WITH SALARIES AND WAGES</th>\n",
       "      <th>SALARIES AND WAGES AMOUNT</th>\n",
       "    </tr>\n",
       "  </thead>\n",
       "  <tbody>\n",
       "    <tr>\n",
       "      <th>0</th>\n",
       "      <td>AL</td>\n",
       "      <td>35004.0</td>\n",
       "      <td>5210.0</td>\n",
       "      <td>290260.0</td>\n",
       "      <td>4550.0</td>\n",
       "      <td>234833.0</td>\n",
       "    </tr>\n",
       "    <tr>\n",
       "      <th>1</th>\n",
       "      <td>AL</td>\n",
       "      <td>35005.0</td>\n",
       "      <td>3100.0</td>\n",
       "      <td>121690.0</td>\n",
       "      <td>2660.0</td>\n",
       "      <td>98565.0</td>\n",
       "    </tr>\n",
       "    <tr>\n",
       "      <th>2</th>\n",
       "      <td>AL</td>\n",
       "      <td>35006.0</td>\n",
       "      <td>1200.0</td>\n",
       "      <td>57418.0</td>\n",
       "      <td>1040.0</td>\n",
       "      <td>43707.0</td>\n",
       "    </tr>\n",
       "    <tr>\n",
       "      <th>3</th>\n",
       "      <td>AL</td>\n",
       "      <td>35007.0</td>\n",
       "      <td>11940.0</td>\n",
       "      <td>697882.0</td>\n",
       "      <td>10180.0</td>\n",
       "      <td>545418.0</td>\n",
       "    </tr>\n",
       "    <tr>\n",
       "      <th>4</th>\n",
       "      <td>AL</td>\n",
       "      <td>35010.0</td>\n",
       "      <td>7910.0</td>\n",
       "      <td>384319.0</td>\n",
       "      <td>6700.0</td>\n",
       "      <td>266658.0</td>\n",
       "    </tr>\n",
       "  </tbody>\n",
       "</table>\n",
       "</div>"
      ],
      "text/plain": [
       "  STATE  ZIP Code  NUMBER OF RETURNS WITH TOTAL INCOME  TOTAL INCOME AMOUNT  \\\n",
       "0    AL   35004.0                               5210.0             290260.0   \n",
       "1    AL   35005.0                               3100.0             121690.0   \n",
       "2    AL   35006.0                               1200.0              57418.0   \n",
       "3    AL   35007.0                              11940.0             697882.0   \n",
       "4    AL   35010.0                               7910.0             384319.0   \n",
       "\n",
       "   NUMBER OF RETURNS WITH SALARIES AND WAGES  SALARIES AND WAGES AMOUNT  \n",
       "0                                     4550.0                   234833.0  \n",
       "1                                     2660.0                    98565.0  \n",
       "2                                     1040.0                    43707.0  \n",
       "3                                    10180.0                   545418.0  \n",
       "4                                     6700.0                   266658.0  "
      ]
     },
     "execution_count": 7,
     "metadata": {},
     "output_type": "execute_result"
    }
   ],
   "source": [
    "state_tax_df.head()"
   ]
  },
  {
   "cell_type": "code",
   "execution_count": 9,
   "metadata": {},
   "outputs": [
    {
     "data": {
      "text/plain": [
       "STATE                                        32745\n",
       "ZIP Code                                     32735\n",
       "NUMBER OF RETURNS WITH TOTAL INCOME          32681\n",
       "TOTAL INCOME AMOUNT                          32681\n",
       "NUMBER OF RETURNS WITH SALARIES AND WAGES    32681\n",
       "SALARIES AND WAGES AMOUNT                    32681\n",
       "dtype: int64"
      ]
     },
     "execution_count": 9,
     "metadata": {},
     "output_type": "execute_result"
    }
   ],
   "source": [
    "state_tax_df.count()"
   ]
  },
  {
   "cell_type": "code",
   "execution_count": 10,
   "metadata": {},
   "outputs": [
    {
     "data": {
      "text/plain": [
       "STATE                                        32681\n",
       "ZIP Code                                     32681\n",
       "NUMBER OF RETURNS WITH TOTAL INCOME          32681\n",
       "TOTAL INCOME AMOUNT                          32681\n",
       "NUMBER OF RETURNS WITH SALARIES AND WAGES    32681\n",
       "SALARIES AND WAGES AMOUNT                    32681\n",
       "dtype: int64"
      ]
     },
     "execution_count": 10,
     "metadata": {},
     "output_type": "execute_result"
    }
   ],
   "source": [
    "state_tax_no_na_df = state_tax_df.dropna(how = \"any\")\n",
    "state_tax_no_na_df.count()"
   ]
  },
  {
   "cell_type": "code",
   "execution_count": 8,
   "metadata": {},
   "outputs": [
    {
     "data": {
      "text/html": [
       "<div>\n",
       "<style scoped>\n",
       "    .dataframe tbody tr th:only-of-type {\n",
       "        vertical-align: middle;\n",
       "    }\n",
       "\n",
       "    .dataframe tbody tr th {\n",
       "        vertical-align: top;\n",
       "    }\n",
       "\n",
       "    .dataframe thead th {\n",
       "        text-align: right;\n",
       "    }\n",
       "</style>\n",
       "<table border=\"1\" class=\"dataframe\">\n",
       "  <thead>\n",
       "    <tr style=\"text-align: right;\">\n",
       "      <th></th>\n",
       "      <th>STATE</th>\n",
       "      <th>ZIP Code</th>\n",
       "      <th>Brewery</th>\n",
       "      <th>Address</th>\n",
       "      <th>City</th>\n",
       "    </tr>\n",
       "  </thead>\n",
       "  <tbody>\n",
       "    <tr>\n",
       "      <th>0</th>\n",
       "      <td>AL</td>\n",
       "      <td>35004.0</td>\n",
       "      <td>NaN</td>\n",
       "      <td>NaN</td>\n",
       "      <td>NaN</td>\n",
       "    </tr>\n",
       "    <tr>\n",
       "      <th>1</th>\n",
       "      <td>AL</td>\n",
       "      <td>35005.0</td>\n",
       "      <td>NaN</td>\n",
       "      <td>NaN</td>\n",
       "      <td>NaN</td>\n",
       "    </tr>\n",
       "    <tr>\n",
       "      <th>2</th>\n",
       "      <td>AL</td>\n",
       "      <td>35006.0</td>\n",
       "      <td>NaN</td>\n",
       "      <td>NaN</td>\n",
       "      <td>NaN</td>\n",
       "    </tr>\n",
       "    <tr>\n",
       "      <th>3</th>\n",
       "      <td>AL</td>\n",
       "      <td>35007.0</td>\n",
       "      <td>siluria brewing company</td>\n",
       "      <td>145 1st ave w</td>\n",
       "      <td>Alabaster</td>\n",
       "    </tr>\n",
       "    <tr>\n",
       "      <th>4</th>\n",
       "      <td>AL</td>\n",
       "      <td>35010.0</td>\n",
       "      <td>NaN</td>\n",
       "      <td>NaN</td>\n",
       "      <td>NaN</td>\n",
       "    </tr>\n",
       "  </tbody>\n",
       "</table>\n",
       "</div>"
      ],
      "text/plain": [
       "  STATE  ZIP Code                  Brewery        Address       City\n",
       "0    AL   35004.0                      NaN            NaN        NaN\n",
       "1    AL   35005.0                      NaN            NaN        NaN\n",
       "2    AL   35006.0                      NaN            NaN        NaN\n",
       "3    AL   35007.0  siluria brewing company  145 1st ave w  Alabaster\n",
       "4    AL   35010.0                      NaN            NaN        NaN"
      ]
     },
     "execution_count": 8,
     "metadata": {},
     "output_type": "execute_result"
    }
   ],
   "source": [
    "state_brewer_data.head()"
   ]
  },
  {
   "cell_type": "code",
   "execution_count": 11,
   "metadata": {},
   "outputs": [
    {
     "data": {
      "text/plain": [
       "STATE       32745\n",
       "ZIP Code    32735\n",
       "Brewery      7287\n",
       "Address      7286\n",
       "City         7287\n",
       "dtype: int64"
      ]
     },
     "execution_count": 11,
     "metadata": {},
     "output_type": "execute_result"
    }
   ],
   "source": [
    "state_brewer_data.count()"
   ]
  },
  {
   "cell_type": "code",
   "execution_count": 12,
   "metadata": {},
   "outputs": [
    {
     "data": {
      "text/plain": [
       "STATE       7287\n",
       "ZIP Code    7277\n",
       "Brewery     7287\n",
       "Address     7286\n",
       "City        7287\n",
       "dtype: int64"
      ]
     },
     "execution_count": 12,
     "metadata": {},
     "output_type": "execute_result"
    }
   ],
   "source": [
    "state_brewer_no_na_df = state_brewer_data.dropna(subset=[\"STATE\", \"Brewery\"], how = \"any\")\n",
    "state_brewer_no_na_df.count()"
   ]
  },
  {
   "cell_type": "code",
   "execution_count": 35,
   "metadata": {},
   "outputs": [
    {
     "name": "stdout",
     "output_type": "stream",
     "text": [
      "847\n"
     ]
    }
   ],
   "source": [
    "CA_breweries = state_brewer_no_na_df.loc[state_brewer_no_na_df[\"STATE\"] == \"CA\"]\n",
    "print(len(CA_breweries))\n",
    "\n",
    "# CA is our outlier on brewery count"
   ]
  },
  {
   "cell_type": "code",
   "execution_count": 19,
   "metadata": {},
   "outputs": [
    {
     "data": {
      "text/html": [
       "<div>\n",
       "<style scoped>\n",
       "    .dataframe tbody tr th:only-of-type {\n",
       "        vertical-align: middle;\n",
       "    }\n",
       "\n",
       "    .dataframe tbody tr th {\n",
       "        vertical-align: top;\n",
       "    }\n",
       "\n",
       "    .dataframe thead th {\n",
       "        text-align: right;\n",
       "    }\n",
       "</style>\n",
       "<table border=\"1\" class=\"dataframe\">\n",
       "  <thead>\n",
       "    <tr style=\"text-align: right;\">\n",
       "      <th></th>\n",
       "      <th>STATE</th>\n",
       "      <th>ZIP Code</th>\n",
       "      <th>Brewery</th>\n",
       "      <th>Address</th>\n",
       "      <th>City</th>\n",
       "    </tr>\n",
       "  </thead>\n",
       "  <tbody>\n",
       "    <tr>\n",
       "      <th>0</th>\n",
       "      <td>AK</td>\n",
       "      <td>41</td>\n",
       "      <td>41</td>\n",
       "      <td>41</td>\n",
       "      <td>41</td>\n",
       "    </tr>\n",
       "    <tr>\n",
       "      <th>1</th>\n",
       "      <td>AL</td>\n",
       "      <td>42</td>\n",
       "      <td>42</td>\n",
       "      <td>41</td>\n",
       "      <td>42</td>\n",
       "    </tr>\n",
       "    <tr>\n",
       "      <th>2</th>\n",
       "      <td>AR</td>\n",
       "      <td>39</td>\n",
       "      <td>39</td>\n",
       "      <td>39</td>\n",
       "      <td>39</td>\n",
       "    </tr>\n",
       "    <tr>\n",
       "      <th>3</th>\n",
       "      <td>AZ</td>\n",
       "      <td>118</td>\n",
       "      <td>118</td>\n",
       "      <td>118</td>\n",
       "      <td>118</td>\n",
       "    </tr>\n",
       "    <tr>\n",
       "      <th>4</th>\n",
       "      <td>CA</td>\n",
       "      <td>845</td>\n",
       "      <td>847</td>\n",
       "      <td>847</td>\n",
       "      <td>847</td>\n",
       "    </tr>\n",
       "  </tbody>\n",
       "</table>\n",
       "</div>"
      ],
      "text/plain": [
       "  STATE  ZIP Code  Brewery  Address  City\n",
       "0    AK        41       41       41    41\n",
       "1    AL        42       42       41    42\n",
       "2    AR        39       39       39    39\n",
       "3    AZ       118      118      118   118\n",
       "4    CA       845      847      847   847"
      ]
     },
     "execution_count": 19,
     "metadata": {},
     "output_type": "execute_result"
    }
   ],
   "source": [
    "brewer_state_groups = state_brewer_no_na_df.groupby(by=\"STATE\")\n",
    "state_brews = brewer_state_groups.count()\n",
    "\n",
    "brewers_by_state_df = pd.DataFrame(state_brews)\n",
    "brewers_by_state_df.reset_index(inplace=True)\n",
    "brewers_by_state_df.head()"
   ]
  },
  {
   "cell_type": "code",
   "execution_count": 25,
   "metadata": {},
   "outputs": [
    {
     "data": {
      "text/html": [
       "<div>\n",
       "<style scoped>\n",
       "    .dataframe tbody tr th:only-of-type {\n",
       "        vertical-align: middle;\n",
       "    }\n",
       "\n",
       "    .dataframe tbody tr th {\n",
       "        vertical-align: top;\n",
       "    }\n",
       "\n",
       "    .dataframe thead th {\n",
       "        text-align: right;\n",
       "    }\n",
       "</style>\n",
       "<table border=\"1\" class=\"dataframe\">\n",
       "  <thead>\n",
       "    <tr style=\"text-align: right;\">\n",
       "      <th></th>\n",
       "      <th>STATE</th>\n",
       "      <th>ZIP Code</th>\n",
       "      <th>NUMBER OF RETURNS WITH TOTAL INCOME</th>\n",
       "      <th>TOTAL INCOME AMOUNT</th>\n",
       "      <th>NUMBER OF RETURNS WITH SALARIES AND WAGES</th>\n",
       "      <th>SALARIES AND WAGES AMOUNT</th>\n",
       "    </tr>\n",
       "  </thead>\n",
       "  <tbody>\n",
       "    <tr>\n",
       "      <th>0</th>\n",
       "      <td>AK</td>\n",
       "      <td>99671.184524</td>\n",
       "      <td>2588.988095</td>\n",
       "      <td>183958.494048</td>\n",
       "      <td>2198.571429</td>\n",
       "      <td>127301.089286</td>\n",
       "    </tr>\n",
       "    <tr>\n",
       "      <th>1</th>\n",
       "      <td>AL</td>\n",
       "      <td>35952.172414</td>\n",
       "      <td>3469.950739</td>\n",
       "      <td>200435.201970</td>\n",
       "      <td>2918.587849</td>\n",
       "      <td>140634.338259</td>\n",
       "    </tr>\n",
       "    <tr>\n",
       "      <th>2</th>\n",
       "      <td>AR</td>\n",
       "      <td>72314.294455</td>\n",
       "      <td>2655.411090</td>\n",
       "      <td>163030.388145</td>\n",
       "      <td>2250.516252</td>\n",
       "      <td>105676.304015</td>\n",
       "    </tr>\n",
       "    <tr>\n",
       "      <th>3</th>\n",
       "      <td>AZ</td>\n",
       "      <td>85616.058685</td>\n",
       "      <td>8370.093897</td>\n",
       "      <td>531552.845070</td>\n",
       "      <td>6929.859155</td>\n",
       "      <td>361805.767606</td>\n",
       "    </tr>\n",
       "    <tr>\n",
       "      <th>4</th>\n",
       "      <td>CA</td>\n",
       "      <td>93539.706845</td>\n",
       "      <td>11992.881944</td>\n",
       "      <td>978355.903274</td>\n",
       "      <td>9985.466270</td>\n",
       "      <td>667623.095238</td>\n",
       "    </tr>\n",
       "  </tbody>\n",
       "</table>\n",
       "</div>"
      ],
      "text/plain": [
       "  STATE      ZIP Code  NUMBER OF RETURNS WITH TOTAL INCOME  \\\n",
       "0    AK  99671.184524                          2588.988095   \n",
       "1    AL  35952.172414                          3469.950739   \n",
       "2    AR  72314.294455                          2655.411090   \n",
       "3    AZ  85616.058685                          8370.093897   \n",
       "4    CA  93539.706845                         11992.881944   \n",
       "\n",
       "   TOTAL INCOME AMOUNT  NUMBER OF RETURNS WITH SALARIES AND WAGES  \\\n",
       "0        183958.494048                                2198.571429   \n",
       "1        200435.201970                                2918.587849   \n",
       "2        163030.388145                                2250.516252   \n",
       "3        531552.845070                                6929.859155   \n",
       "4        978355.903274                                9985.466270   \n",
       "\n",
       "   SALARIES AND WAGES AMOUNT  \n",
       "0              127301.089286  \n",
       "1              140634.338259  \n",
       "2              105676.304015  \n",
       "3              361805.767606  \n",
       "4              667623.095238  "
      ]
     },
     "execution_count": 25,
     "metadata": {},
     "output_type": "execute_result"
    }
   ],
   "source": [
    "tax_state_groups = state_tax_no_na_df.groupby(by=\"STATE\")\n",
    "state_tax_means = tax_state_groups.mean()\n",
    "tax_by_state_df = pd.DataFrame(state_tax_means)\n",
    "tax_by_state_df.reset_index(inplace=True)\n",
    "tax_by_state_df.head()"
   ]
  },
  {
   "cell_type": "code",
   "execution_count": 29,
   "metadata": {},
   "outputs": [
    {
     "data": {
      "text/html": [
       "<div>\n",
       "<style scoped>\n",
       "    .dataframe tbody tr th:only-of-type {\n",
       "        vertical-align: middle;\n",
       "    }\n",
       "\n",
       "    .dataframe tbody tr th {\n",
       "        vertical-align: top;\n",
       "    }\n",
       "\n",
       "    .dataframe thead th {\n",
       "        text-align: right;\n",
       "    }\n",
       "</style>\n",
       "<table border=\"1\" class=\"dataframe\">\n",
       "  <thead>\n",
       "    <tr style=\"text-align: right;\">\n",
       "      <th></th>\n",
       "      <th>STATE</th>\n",
       "      <th>Mean # Total Income Returns</th>\n",
       "      <th>Mean Total Income</th>\n",
       "      <th>Mean # Returns with Salaries and Wages</th>\n",
       "      <th>Mean Salaries and Wages</th>\n",
       "      <th>Brewery Count</th>\n",
       "    </tr>\n",
       "  </thead>\n",
       "  <tbody>\n",
       "    <tr>\n",
       "      <th>0</th>\n",
       "      <td>AK</td>\n",
       "      <td>2588.988095</td>\n",
       "      <td>183958.494048</td>\n",
       "      <td>2198.571429</td>\n",
       "      <td>127301.089286</td>\n",
       "      <td>41</td>\n",
       "    </tr>\n",
       "    <tr>\n",
       "      <th>1</th>\n",
       "      <td>AL</td>\n",
       "      <td>3469.950739</td>\n",
       "      <td>200435.201970</td>\n",
       "      <td>2918.587849</td>\n",
       "      <td>140634.338259</td>\n",
       "      <td>42</td>\n",
       "    </tr>\n",
       "    <tr>\n",
       "      <th>2</th>\n",
       "      <td>AR</td>\n",
       "      <td>2655.411090</td>\n",
       "      <td>163030.388145</td>\n",
       "      <td>2250.516252</td>\n",
       "      <td>105676.304015</td>\n",
       "      <td>39</td>\n",
       "    </tr>\n",
       "    <tr>\n",
       "      <th>3</th>\n",
       "      <td>AZ</td>\n",
       "      <td>8370.093897</td>\n",
       "      <td>531552.845070</td>\n",
       "      <td>6929.859155</td>\n",
       "      <td>361805.767606</td>\n",
       "      <td>118</td>\n",
       "    </tr>\n",
       "    <tr>\n",
       "      <th>4</th>\n",
       "      <td>CA</td>\n",
       "      <td>11992.881944</td>\n",
       "      <td>978355.903274</td>\n",
       "      <td>9985.466270</td>\n",
       "      <td>667623.095238</td>\n",
       "      <td>847</td>\n",
       "    </tr>\n",
       "  </tbody>\n",
       "</table>\n",
       "</div>"
      ],
      "text/plain": [
       "  STATE  Mean # Total Income Returns  Mean Total Income  \\\n",
       "0    AK                  2588.988095      183958.494048   \n",
       "1    AL                  3469.950739      200435.201970   \n",
       "2    AR                  2655.411090      163030.388145   \n",
       "3    AZ                  8370.093897      531552.845070   \n",
       "4    CA                 11992.881944      978355.903274   \n",
       "\n",
       "   Mean # Returns with Salaries and Wages  Mean Salaries and Wages  \\\n",
       "0                             2198.571429            127301.089286   \n",
       "1                             2918.587849            140634.338259   \n",
       "2                             2250.516252            105676.304015   \n",
       "3                             6929.859155            361805.767606   \n",
       "4                             9985.466270            667623.095238   \n",
       "\n",
       "   Brewery Count  \n",
       "0             41  \n",
       "1             42  \n",
       "2             39  \n",
       "3            118  \n",
       "4            847  "
      ]
     },
     "execution_count": 29,
     "metadata": {},
     "output_type": "execute_result"
    }
   ],
   "source": [
    "state_summary_df = pd.merge(tax_by_state_df, brewers_by_state_df, on = \"STATE\")\n",
    "state_summary_df.drop([\"ZIP Code_x\", \"ZIP Code_y\", \"Address\", \"City\"], axis = 1, inplace = True)\n",
    "state_summary_df.rename(columns = {\n",
    "    \"NUMBER OF RETURNS WITH TOTAL INCOME\": \"Mean # Total Income Returns\",\n",
    "    \"TOTAL INCOME AMOUNT\": \"Mean Total Income\",\n",
    "    \"NUMBER OF RETURNS WITH SALARIES AND WAGES\": \"Mean # Returns with Salaries and Wages\",\n",
    "    \"SALARIES AND WAGES AMOUNT\": \"Mean Salaries and Wages\",\n",
    "    \"Brewery\": \"Brewery Count\"\n",
    "}, inplace=True)\n",
    "state_summary_df.head()"
   ]
  },
  {
   "cell_type": "code",
   "execution_count": 31,
   "metadata": {},
   "outputs": [
    {
     "data": {
      "text/plain": [
       "<matplotlib.collections.PathCollection at 0x19e623ab710>"
      ]
     },
     "execution_count": 31,
     "metadata": {},
     "output_type": "execute_result"
    },
    {
     "data": {
      "image/png": "[encoded data removed]",
      "text/plain": [
       "<Figure size 432x288 with 1 Axes>"
      ]
     },
     "metadata": {
      "needs_background": "light"
     },
     "output_type": "display_data"
    }
   ],
   "source": [
    "plt.scatter(state_summary_df[\"Mean # Total Income Returns\"], state_summary_df[\"Brewery Count\"])"
   ]
  },
  {
   "cell_type": "code",
   "execution_count": 32,
   "metadata": {},
   "outputs": [
    {
     "data": {
      "text/plain": [
       "<matplotlib.collections.PathCollection at 0x19e624402e8>"
      ]
     },
     "execution_count": 32,
     "metadata": {},
     "output_type": "execute_result"
    },
    {
     "data": {
      "image/png": "[encoded data removed]",
      "text/plain": [
       "<Figure size 432x288 with 1 Axes>"
      ]
     },
     "metadata": {
      "needs_background": "light"
     },
     "output_type": "display_data"
    }
   ],
   "source": [
    "plt.scatter(state_summary_df[\"Mean Total Income\"], state_summary_df[\"Brewery Count\"])"
   ]
  },
  {
   "cell_type": "code",
   "execution_count": 33,
   "metadata": {},
   "outputs": [
    {
     "data": {
      "text/plain": [
       "<matplotlib.collections.PathCollection at 0x19e63466a90>"
      ]
     },
     "execution_count": 33,
     "metadata": {},
     "output_type": "execute_result"
    },
    {
     "data": {
      "image/png": "[encoded data removed]",
      "text/plain": [
       "<Figure size 432x288 with 1 Axes>"
      ]
     },
     "metadata": {
      "needs_background": "light"
     },
     "output_type": "display_data"
    }
   ],
   "source": [
    "plt.scatter(state_summary_df[\"Mean Salaries and Wages\"], state_summary_df[\"Brewery Count\"])"
   ]
  },
  {
   "cell_type": "code",
   "execution_count": null,
   "metadata": {},
   "outputs": [],
   "source": []
  }
 ],
 "metadata": {
  "kernelspec": {
   "display_name": "Python 3",
   "language": "python",
   "name": "python3"
  },
  "language_info": {
   "codemirror_mode": {
    "name": "ipython",
    "version": 3
   },
   "file_extension": ".py",
   "mimetype": "text/x-python",
   "name": "python",
   "nbconvert_exporter": "python",
   "pygments_lexer": "ipython3",
   "version": "3.6.7"
  }
 },
 "nbformat": 4,
 "nbformat_minor": 2
}
