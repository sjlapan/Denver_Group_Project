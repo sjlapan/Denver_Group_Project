{
 "cells": [
  {
   "cell_type": "markdown",
   "metadata": {},
   "source": [
    "# Breweries Association Data\n",
    "This notebook:\n",
    "* scrapes the data for breweries in each state as curated by [the Brewers Association's website](https://www.brewersassociation.org/directories/breweries/ \"Official brewery directory, curated by the Brewers Association\").\n",
    "* selects information and populates information to a DataFrame\n",
    "    * Brewery Name\n",
    "    * Address\n",
    "    * City\n",
    "    * State\n",
    "    * ZIP Code\n",
    "* saves the data to a csv"
   ]
  },
  {
   "cell_type": "markdown",
   "metadata": {},
   "source": [
    "### Import dependencies"
   ]
  },
  {
   "cell_type": "code",
   "execution_count": 12,
   "metadata": {},
   "outputs": [],
   "source": [
    "import requests\n",
    "import bs4 as bs\n",
    "import re\n",
    "import pandas as pd\n",
    "import json"
   ]
  },
  {
   "cell_type": "markdown",
   "metadata": {},
   "source": [
    "### Define State Dictionary for iteration"
   ]
  },
  {
   "cell_type": "code",
   "execution_count": 2,
   "metadata": {},
   "outputs": [],
   "source": [
    "state_list= [\"Alabama\",\"Alaska\",\"Arizona\",\"Arkansas\",\"California\",\"Colorado\",\"Connecticut\",\"Delaware\",\"Florida\",\"Georgia\",\n",
    "\"Hawaii\" ,\"Idaho\" ,\"Illinois\" ,\"Indiana\" ,\"Iowa\" ,\"Kansas\" ,\"Kentucky\" ,\"Louisiana\" ,\"Maine\" ,\"Maryland\" ,\"Massachusetts\", \n",
    "\"Michigan\" ,\"Minnesota\" ,\"Mississippi\" ,\"Missouri\" ,\"Montana\" ,\"Nebraska\" ,\"Nevada\" ,\"New Hampshire\" ,\"New Jersey\" ,\n",
    "\"New Mexico\" ,\"New York\" ,\"North Carolina\" ,\"North Dakota\" ,\"Ohio\" ,\"Oklahoma\" ,\"Oregon\" ,\"Pennsylvania\" ,\"Rhode Island\" ,\n",
    "\"South Carolina\" ,\"South Dakota\" ,\"Tennessee\" ,\"Texas\" ,\"Utah\" ,\"Vermont\" ,\"Virginia\" ,\"Washington\" ,\"West Virginia\" ,\n",
    "\"Wisconsin\" ,\"Wyoming\"]\n",
    "\n",
    "state_list_test= [\"Alabama\",\"Alaska\",\"North Carolina\",\"South Dakota\",\"Colorado\"]"
   ]
  },
  {
   "cell_type": "markdown",
   "metadata": {},
   "source": [
    "### Iterate the request for each state"
   ]
  },
  {
   "cell_type": "code",
   "execution_count": 5,
   "metadata": {},
   "outputs": [],
   "source": [
    "response= requests.post('https://www.brewersassociation.org/wp-admin/admin-ajax.php',\n",
    "                 data= {\n",
    "                     \"action\": \"get_breweries\",\n",
    "                    \"_id\": \"Nevada\",\n",
    "                    \"search_by\": \"statename\"\n",
    "                 })"
   ]
  },
  {
   "cell_type": "code",
   "execution_count": 15,
   "metadata": {},
   "outputs": [
    {
     "name": "stdout",
     "output_type": "stream",
     "text": [
      "<div id='status-bar' class='well well-small'><p>We found <strong>51</strong> Breweries in Nevada</p></div><div class=\"brewery\">\n",
      "\t\t\t\t\t\t<ul class=\"vcard simple brewery-info\">\n",
      "\t\t\t\t\t\t\t<li class=\"name\">10 Torr Distilling and Brewing</li><li class=\"address\">490 Mill St </li><li>Reno, NV 89502 | <a href='http://www.google.com/maps/place/490 Mill St++Reno+NV+United States' target='_blank'>Map</a></li><li class=\"telephone\">Phone: (775) 530-7014</li><li class=\"brewery_type\">Type: <a href=\"https://www.brewersassociation.org/statistics/market-segments#micro\" target=\"_blank\">Micro</a></li><li class=\"url\"><a href=\"http://www.10torr.com\" target=\"_blank\" >www.10torr.com</a></li></ul><ul class=\"vcard simple col2 logos\"><a href=\"https://www.brewersassociation.org/business-tools/marketing-advertising/independent-craft-brewer-seal/\" target=\"_blank\"><img src=\"https://s3-us-west-2.amazonaws.com/brewersassoc/wp-content/uploads/2017/06/independent-craft-brewer-seal62x120.png\" alt=\"Independent Craft Brewers Seal\" class=\"craft-seal\" /></a><img src=\"https://www.brewersassociation.org/wp-content/uploads/2016/11/BA_member.png\" class=\"ba\" alt=\"Brewers Association Member\" /></ul></div><div class=\"brewery\">\n",
      "\t\t\t\t\t\t<ul class=\"vcard simple brewery-info\">\n",
      "\t\t\t\t\t\t\t<li class=\"name\">Able Baker Brewing</li><li class=\"address\">1051 Mary Crest Rd #K </li><li>Henderson, NV 89104 | <a href='http://www.google.com/maps/place/1051 Mary Crest Rd #K++Henderson+NV+United States' target='_blank'>Map</a></li><li class=\"telephone\">Phone: (702) 581-7742</li><li class=\"brewery_type\">Type: <a href=\"https://www.brewersassociation.org/statistics/market-segments#contract\" target=\"_blank\">Contract</a></li><li class=\"url\"><a href=\"http://www.ablebakerbrewing.com\" target=\"_blank\" >www.ablebakerbrewing.com</a></li></ul><ul class=\"vcard simple col2 logos\"><img src=\"https://www.brewersassociation.org/wp-content/uploads/2016/11/ba_associate.png\" class=\"ba\" alt=\"BA Associate Member\" /></ul></div><div class=\"brewery\">\n",
      "\t\t\t\t\t\t<ul class=\"vcard simple brewery-info\">\n",
      "\t\t\t\t\t\t\t<li class=\"name\">Alibi Ale Works</li><li class=\"address\">204 E Enterprise St </li><li>Incline Village, NV 89451-9456 | <a href='http://www.google.com/maps/place/204 E Enterprise St++Incline Village+NV+United States' target='_blank'>Map</a></li><li class=\"telephone\">Phone: (775) 298-7001</li><li class=\"brewery_type\">Type: <a href=\"https://www.brewersassociation.org/statistics/market-segments#micro\" target=\"_blank\">Micro</a></li><li class=\"url\"><a href=\"http://www.alibialeworks.com\" target=\"_blank\" >www.alibialeworks.com</a></li></ul><ul class=\"vcard simple col2 logos\"><a href=\"https://www.brewersassociation.org/business-tools/marketing-advertising/independent-craft-brewer-seal/\" target=\"_blank\"><img src=\"https://s3-us-west-2.amazonaws.com/brewersassoc/wp-content/uploads/2017/06/independent-craft-brewer-seal62x120.png\" alt=\"Independent Craft Brewers Seal\" class=\"craft-seal\" /></a><img src=\"https://www.brewersassociation.org/wp-content/uploads/2016/11/BA_member.png\" class=\"ba\" alt=\"Brewers Association Member\" /></ul></div><div class=\"brewery\">\n",
      "\t\t\t\t\t\t<ul class=\"vcard simple brewery-info\">\n",
      "\t\t\t\t\t\t\t<li class=\"name\">Astronomy Aleworks</li><li class=\"address\">7350 Eastgate Rd Ste 170 </li><li>Henderson, NV 89011 | <a href='http://www.google.com/maps/place/7350 Eastgate Rd Ste 170++Henderson+NV+United States' target='_blank'>Map</a></li><li class=\"telephone\">Phone: (702) 375-4968</li><li class=\"brewery_type\">Type: <a href=\"https://www.brewersassociation.org/statistics/market-segments#micro\" target=\"_blank\">Micro</a></li><li class=\"url\"><a href=\"http://astronomyaleworks.com\" target=\"_blank\" >astronomyaleworks.com</a></li></ul><ul class=\"vcard simple col2 logos\"><a href=\"https://www.brewersassociation.org/business-tools/marketing-advertising/independent-craft-brewer-seal/\" target=\"_blank\"><img src=\"https://s3-us-west-2.amazonaws.com/brewersassoc/wp-content/uploads/2017/06/independent-craft-brewer-seal62x120.png\" alt=\"Independent Craft Brewers Seal\" class=\"craft-seal\" /></a><img src=\"https://www.brewersassociation.org/wp-content/uploads/2016/11/BA_member.png\" class=\"ba\" alt=\"Brewers Association Member\" /></ul></div><div class=\"brewery\">\n",
      "\t\t\t\t\t\t<ul class=\"vcard simple brewery-info\">\n",
      "\t\t\t\t\t\t\t<li class=\"name\">Bad Beat Brewing</li><li class=\"address\">7380 Eastgate Rd Ste 110 </li><li>Henderson, NV 89011-4012 | <a href='http://www.google.com/maps/place/7380 Eastgate Rd Ste 110++Henderson+NV+United States' target='_blank'>Map</a></li><li class=\"telephone\">Phone: 702-463-4199</li><li class=\"brewery_type\">Type: <a href=\"https://www.brewersassociation.org/statistics/market-segments#micro\" target=\"_blank\">Micro</a></li><li class=\"url\"><a href=\"http://www.badbeatbrewing.com\" target=\"_blank\" >www.badbeatbrewing.com</a></li></ul><ul class=\"vcard simple col2 logos\"><a href=\"https://www.brewersassociation.org/business-tools/marketing-advertising/independent-craft-brewer-seal/\" target=\"_blank\"><img src=\"https://s3-us-west-2.amazonaws.com/brewersassoc/wp-content/uploads/2017/06/independent-craft-brewer-seal62x120.png\" alt=\"Independent Craft Brewers Seal\" class=\"craft-seal\" /></a></ul></div><div class=\"brewery\">\n",
      "\t\t\t\t\t\t<ul class=\"vcard simple brewery-info\">\n",
      "\t\t\t\t\t\t\t<li class=\"name\">Banger Brewing Co</li><li class=\"address\">450 Fremont St Ste 135 </li><li>Las Vegas, NV 89101-5649 | <a href='http://www.google.com/maps/place/450 Fremont St Ste 135++Las Vegas+NV+United States' target='_blank'>Map</a></li><li class=\"telephone\">Phone: (702) 456-2739</li><li class=\"brewery_type\">Type: <a href=\"https://www.brewersassociation.org/statistics/market-segments#micro\" target=\"_blank\">Micro</a></li><li class=\"url\"><a href=\"http://www.bangerbrewing.com\" target=\"_blank\" >www.bangerbrewing.com</a></li></ul><ul class=\"vcard simple col2 logos\"><a href=\"https://www.brewersassociation.org/business-tools/marketing-advertising/independent-craft-brewer-seal/\" target=\"_blank\"><img src=\"https://s3-us-west-2.amazonaws.com/brewersassoc/wp-content/uploads/2017/06/independent-craft-brewer-seal62x120.png\" alt=\"Independent Craft Brewers Seal\" class=\"craft-seal\" /></a><img src=\"https://www.brewersassociation.org/wp-content/uploads/2016/11/BA_member.png\" class=\"ba\" alt=\"Brewers Association Member\" /></ul></div><div class=\"brewery\">\n",
      "\t\t\t\t\t\t<ul class=\"vcard simple brewery-info\">\n",
      "\t\t\t\t\t\t\t<li class=\"name\">Barley's Casino and Brewing Co</li><li class=\"address\">4500 E Sunset Rd Ste 30 </li><li>Henderson, NV 89014-2253 | <a href='http://www.google.com/maps/place/4500 E Sunset Rd Ste 30++Henderson+NV+United States' target='_blank'>Map</a></li><li class=\"telephone\">Phone: (702) 458-2739</li><li class=\"brewery_type\">Type: <a href=\"https://www.brewersassociation.org/statistics/market-segments#brewpub\" target=\"_blank\">Brewpub</a></li><li class=\"url\"><a href=\"http://www.wildfire.sclv.com/barleys\" target=\"_blank\" >www.wildfire.sclv.com/barleys</a></li></ul><ul class=\"vcard simple col2 logos\"><a href=\"https://www.brewersassociation.org/business-tools/marketing-advertising/independent-craft-brewer-seal/\" target=\"_blank\"><img src=\"https://s3-us-west-2.amazonaws.com/brewersassoc/wp-content/uploads/2017/06/independent-craft-brewer-seal62x120.png\" alt=\"Independent Craft Brewers Seal\" class=\"craft-seal\" /></a></ul></div><div class=\"brewery\">\n",
      "\t\t\t\t\t\t<ul class=\"vcard simple brewery-info\">\n",
      "\t\t\t\t\t\t\t<li class=\"name\">Battle Born® Beer</li><li class=\"address\">100 N Arlington Ave Ste 100 </li><li>Reno, NV 89501-1233 | <a href='http://www.google.com/maps/place/100 N Arlington Ave Ste 100++Reno+NV+United States' target='_blank'>Map</a></li><li class=\"telephone\">Phone: (818) 317-3128</li><li class=\"brewery_type\">Type: <a href=\"https://www.brewersassociation.org/statistics/market-segments#contract\" target=\"_blank\">Contract</a></li><li class=\"url\"><a href=\"http://battleborn.beer\" target=\"_blank\" >battleborn.beer</a></li></ul><ul class=\"vcard simple col2 logos\"></ul></div><div class=\"brewery\">\n",
      "\t\t\t\t\t\t<ul class=\"vcard simple brewery-info\">\n",
      "\t\t\t\t\t\t\t<li class=\"name\">Beer District Brewing</li><li class=\"address\"> </li><li>Las Vegas, NV 89101</li><li class=\"brewery_type\">Type: <a href=\"https://www.brewersassociation.org/statistics/market-segments#planning\" target=\"_blank\">Planning</a></li></ul><ul class=\"vcard simple col2 logos\"><img src=\"https://www.brewersassociation.org/wp-content/uploads/2016/11/ba_associate.png\" class=\"ba\" alt=\"BA Associate Member\" /></ul></div><div class=\"brewery\">\n",
      "\t\t\t\t\t\t<ul class=\"vcard simple brewery-info\">\n",
      "\t\t\t\t\t\t\t<li class=\"name\">Big Dog's Brewing Co</li><li class=\"address\">4547 N Rancho Dr Ste A </li><li>Las Vegas, NV 89130-3432 | <a href='http://www.google.com/maps/place/4547 N Rancho Dr Ste A++Las Vegas+NV+United States' target='_blank'>Map</a></li><li class=\"telephone\">Phone: (702) 368-3715</li><li class=\"brewery_type\">Type: <a href=\"https://www.brewersassociation.org/statistics/market-segments#brewpub\" target=\"_blank\">Brewpub</a></li><li class=\"url\"><a href=\"http://www.bigdogsbrews.com\" target=\"_blank\" >www.bigdogsbrews.com</a></li></ul><ul class=\"vcard simple col2 logos\"><a href=\"https://www.brewersassociation.org/business-tools/marketing-advertising/independent-craft-brewer-seal/\" target=\"_blank\"><img src=\"https://s3-us-west-2.amazonaws.com/brewersassoc/wp-content/uploads/2017/06/independent-craft-brewer-seal62x120.png\" alt=\"Independent Craft Brewers Seal\" class=\"craft-seal\" /></a><img src=\"https://www.brewersassociation.org/wp-content/uploads/2016/11/BA_member.png\" class=\"ba\" alt=\"Brewers Association Member\" /></ul></div><div class=\"brewery\">\n",
      "\t\t\t\t\t\t<ul class=\"vcard simple brewery-info\">\n",
      "\t\t\t\t\t\t\t<li class=\"name\">BJs Restaurant & Brewery - Reno</li><li class=\"address\">13999 S Virginia St </li><li>Reno, NV 89511-8917 | <a href='http://www.google.com/maps/place/13999 S Virginia St++Reno+NV+United States' target='_blank'>Map</a></li><li class=\"telephone\">Phone: (775) 853-7575</li><li class=\"brewery_type\">Type: <a href=\"https://www.brewersassociation.org/statistics/market-segments#brewpub\" target=\"_blank\">Brewpub</a></li><li class=\"url\"><a href=\"http://www.bjsbrewhouse.com\" target=\"_blank\" >www.bjsbrewhouse.com</a></li><li class='ownership'><em>Greater than 25% ownership by BJs Chicago Pizza & Brewery, Inc., which is a craft brewer.</em></li></ul><ul class=\"vcard simple col2 logos\"><a href=\"https://www.brewersassociation.org/business-tools/marketing-advertising/independent-craft-brewer-seal/\" target=\"_blank\"><img src=\"https://s3-us-west-2.amazonaws.com/brewersassoc/wp-content/uploads/2017/06/independent-craft-brewer-seal62x120.png\" alt=\"Independent Craft Brewers Seal\" class=\"craft-seal\" /></a><img src=\"https://www.brewersassociation.org/wp-content/uploads/2016/11/BA_member.png\" class=\"ba\" alt=\"Brewers Association Member\" /></ul></div><div class=\"brewery\">\n",
      "\t\t\t\t\t\t<ul class=\"vcard simple brewery-info\">\n",
      "\t\t\t\t\t\t\t<li class=\"name\">Boulder Dam Brewing Company</li><li class=\"address\">453 Nevada Way </li><li>Boulder City, NV 89005-2424 | <a href='http://www.google.com/maps/place/453 Nevada Way++Boulder City+NV+United States' target='_blank'>Map</a></li><li class=\"brewery_type\">Type: <a href=\"https://www.brewersassociation.org/statistics/market-segments#brewpub\" target=\"_blank\">Brewpub</a></li></ul><ul class=\"vcard simple col2 logos\"><a href=\"https://www.brewersassociation.org/business-tools/marketing-advertising/independent-craft-brewer-seal/\" target=\"_blank\"><img src=\"https://s3-us-west-2.amazonaws.com/brewersassoc/wp-content/uploads/2017/06/independent-craft-brewer-seal62x120.png\" alt=\"Independent Craft Brewers Seal\" class=\"craft-seal\" /></a><img src=\"https://www.brewersassociation.org/wp-content/uploads/2016/11/BA_member.png\" class=\"ba\" alt=\"Brewers Association Member\" /></ul></div><div class=\"brewery\">\n",
      "\t\t\t\t\t\t<ul class=\"vcard simple brewery-info\">\n",
      "\t\t\t\t\t\t\t<li class=\"name\">Brasserie Saint James</li><li class=\"address\">901 S Center St </li><li>Reno, NV 89501-2307 | <a href='http://www.google.com/maps/place/901 S Center St++Reno+NV+United States' target='_blank'>Map</a></li><li class=\"telephone\">Phone: (775) 348-8888</li><li class=\"brewery_type\">Type: <a href=\"https://www.brewersassociation.org/statistics/market-segments#brewpub\" target=\"_blank\">Brewpub</a></li><li class=\"url\"><a href=\"http://www.brasseriesaintjames.com\" target=\"_blank\" >www.brasseriesaintjames.com</a></li></ul><ul class=\"vcard simple col2 logos\"><a href=\"https://www.brewersassociation.org/business-tools/marketing-advertising/independent-craft-brewer-seal/\" target=\"_blank\"><img src=\"https://s3-us-west-2.amazonaws.com/brewersassoc/wp-content/uploads/2017/06/independent-craft-brewer-seal62x120.png\" alt=\"Independent Craft Brewers Seal\" class=\"craft-seal\" /></a><img src=\"https://www.brewersassociation.org/wp-content/uploads/2016/11/BA_member.png\" class=\"ba\" alt=\"Brewers Association Member\" /></ul></div><div class=\"brewery\">\n",
      "\t\t\t\t\t\t<ul class=\"vcard simple brewery-info\">\n",
      "\t\t\t\t\t\t\t<li class=\"name\">Brasserie Saint James - The Saint Barrelhouse</li><li class=\"address\">761 S. Virginia St </li><li>Reno, NV 89501-2307 | <a href='http://www.google.com/maps/place/761 S. Virginia St++Reno+NV+United States' target='_blank'>Map</a></li><li class=\"telephone\">Phone: (775) 348-8888</li><li class=\"brewery_type\">Type: <a href=\"https://www.brewersassociation.org/statistics/market-segments#micro\" target=\"_blank\">Micro</a></li><li class='ownership'><em>Greater than 25% ownership by Brasserie Saint James, which is a craft brewer.</em></li></ul><ul class=\"vcard simple col2 logos\"><a href=\"https://www.brewersassociation.org/business-tools/marketing-advertising/independent-craft-brewer-seal/\" target=\"_blank\"><img src=\"https://s3-us-west-2.amazonaws.com/brewersassoc/wp-content/uploads/2017/06/independent-craft-brewer-seal62x120.png\" alt=\"Independent Craft Brewers Seal\" class=\"craft-seal\" /></a><img src=\"https://www.brewersassociation.org/wp-content/uploads/2016/11/BA_member.png\" class=\"ba\" alt=\"Brewers Association Member\" /></ul></div><div class=\"brewery\">\n",
      "\t\t\t\t\t\t<ul class=\"vcard simple brewery-info\">\n",
      "\t\t\t\t\t\t\t<li class=\"name\">Brewery In Planning - Las Vegas</li><li class=\"address\"> </li><li>Las Vegas, NV 89144-4473</li><li class=\"brewery_type\">Type: <a href=\"https://www.brewersassociation.org/statistics/market-segments#planning\" target=\"_blank\">Planning</a></li></ul><ul class=\"vcard simple col2 logos\"><img src=\"https://www.brewersassociation.org/wp-content/uploads/2016/11/ba_associate.png\" class=\"ba\" alt=\"BA Associate Member\" /></ul></div><div class=\"brewery\">\n",
      "\t\t\t\t\t\t<ul class=\"vcard simple brewery-info\">\n",
      "\t\t\t\t\t\t\t<li class=\"name\">Brewery in Planning - Las Vegas, NV</li><li class=\"address\"> </li><li>Las Vegas, NV 89144</li><li class=\"telephone\">Phone: (702) 308-3440</li><li class=\"brewery_type\">Type: <a href=\"https://www.brewersassociation.org/statistics/market-segments#planning\" target=\"_blank\">Planning</a></li></ul><ul class=\"vcard simple col2 logos\"><img src=\"https://www.brewersassociation.org/wp-content/uploads/2016/11/ba_associate.png\" class=\"ba\" alt=\"BA Associate Member\" /></ul></div><div class=\"brewery\">\n",
      "\t\t\t\t\t\t<ul class=\"vcard simple brewery-info\">\n",
      "\t\t\t\t\t\t\t<li class=\"name\">Chicago Brewing Co - NV</li><li class=\"address\">2201 S Fort Apache Rd </li><li>Las Vegas, NV 89117-5704 | <a href='http://www.google.com/maps/place/2201 S Fort Apache Rd++Las Vegas+NV+United States' target='_blank'>Map</a></li><li class=\"telephone\">Phone: (702) 254-3333</li><li class=\"brewery_type\">Type: <a href=\"https://www.brewersassociation.org/statistics/market-segments#brewpub\" target=\"_blank\">Brewpub</a></li><li class=\"url\"><a href=\"http://www.chicagobrewingcolv.com\" target=\"_blank\" >www.chicagobrewingcolv.com</a></li></ul><ul class=\"vcard simple col2 logos\"><a href=\"https://www.brewersassociation.org/business-tools/marketing-advertising/independent-craft-brewer-seal/\" target=\"_blank\"><img src=\"https://s3-us-west-2.amazonaws.com/brewersassoc/wp-content/uploads/2017/06/independent-craft-brewer-seal62x120.png\" alt=\"Independent Craft Brewers Seal\" class=\"craft-seal\" /></a><img src=\"https://www.brewersassociation.org/wp-content/uploads/2016/11/BA_member.png\" class=\"ba\" alt=\"Brewers Association Member\" /></ul></div><div class=\"brewery\">\n",
      "\t\t\t\t\t\t<ul class=\"vcard simple brewery-info\">\n",
      "\t\t\t\t\t\t\t<li class=\"name\">CraftHaus Brewery</li><li class=\"address\">7350 Eastgate Rd Ste 110 </li><li>Henderson, NV 89011-4071 | <a href='http://www.google.com/maps/place/7350 Eastgate Rd Ste 110++Henderson+NV+United States' target='_blank'>Map</a></li><li class=\"telephone\">Phone: (702) 415-9184</li><li class=\"brewery_type\">Type: <a href=\"https://www.brewersassociation.org/statistics/market-segments#micro\" target=\"_blank\">Micro</a></li><li class=\"url\"><a href=\"http://www.crafthausbrewery.com\" target=\"_blank\" >www.crafthausbrewery.com</a></li></ul><ul class=\"vcard simple col2 logos\"><a href=\"https://www.brewersassociation.org/business-tools/marketing-advertising/independent-craft-brewer-seal/\" target=\"_blank\"><img src=\"https://s3-us-west-2.amazonaws.com/brewersassoc/wp-content/uploads/2017/06/independent-craft-brewer-seal62x120.png\" alt=\"Independent Craft Brewers Seal\" class=\"craft-seal\" /></a><img src=\"https://www.brewersassociation.org/wp-content/uploads/2016/11/BA_member.png\" class=\"ba\" alt=\"Brewers Association Member\" /></ul></div><div class=\"brewery\">\n",
      "\t\t\t\t\t\t<ul class=\"vcard simple brewery-info\">\n",
      "\t\t\t\t\t\t\t<li class=\"name\">Ellis Island Casino and Brewery</li><li class=\"address\">4178 Koval Ln </li><li>Las Vegas, NV 89109-4568 | <a href='http://www.google.com/maps/place/4178 Koval Ln++Las Vegas+NV+United States' target='_blank'>Map</a></li><li class=\"telephone\">Phone: (626) 354-5251</li><li class=\"brewery_type\">Type: <a href=\"https://www.brewersassociation.org/statistics/market-segments#brewpub\" target=\"_blank\">Brewpub</a></li></ul><ul class=\"vcard simple col2 logos\"><a href=\"https://www.brewersassociation.org/business-tools/marketing-advertising/independent-craft-brewer-seal/\" target=\"_blank\"><img src=\"https://s3-us-west-2.amazonaws.com/brewersassoc/wp-content/uploads/2017/06/independent-craft-brewer-seal62x120.png\" alt=\"Independent Craft Brewers Seal\" class=\"craft-seal\" /></a><img src=\"https://www.brewersassociation.org/wp-content/uploads/2016/11/BA_member.png\" class=\"ba\" alt=\"Brewers Association Member\" /></ul></div><div class=\"brewery\">\n",
      "\t\t\t\t\t\t<ul class=\"vcard simple brewery-info\">\n",
      "\t\t\t\t\t\t\t<li class=\"name\">Gordon Biersch Brewery Restaurant - Las Vegas</li><li class=\"address\">3987 Paradise Rd </li><li>Las Vegas, NV 89169-4607 | <a href='http://www.google.com/maps/place/3987 Paradise Rd++Las Vegas+NV+United States' target='_blank'>Map</a></li><li class=\"telephone\">Phone: (702) 312-5247</li><li class=\"brewery_type\">Type: <a href=\"https://www.brewersassociation.org/statistics/market-segments#brewpub\" target=\"_blank\">Brewpub</a></li><li class=\"url\"><a href=\"http://www.craftworksrestaurants.com\" target=\"_blank\" >www.craftworksrestaurants.com</a></li><li class='ownership'><em>Greater than 25% ownership by CraftWorks Brewery, which is a craft brewer.</em></li></ul><ul class=\"vcard simple col2 logos\"><a href=\"https://www.brewersassociation.org/business-tools/marketing-advertising/independent-craft-brewer-seal/\" target=\"_blank\"><img src=\"https://s3-us-west-2.amazonaws.com/brewersassoc/wp-content/uploads/2017/06/independent-craft-brewer-seal62x120.png\" alt=\"Independent Craft Brewers Seal\" class=\"craft-seal\" /></a><img src=\"https://www.brewersassociation.org/wp-content/uploads/2016/11/BA_member.png\" class=\"ba\" alt=\"Brewers Association Member\" /></ul></div><div class=\"brewery\">\n",
      "\t\t\t\t\t\t<ul class=\"vcard simple brewery-info\">\n",
      "\t\t\t\t\t\t\t<li class=\"name\">Great Basin Brewing Co</li><li class=\"address\">846 Victorian Ave </li><li>Sparks, NV 89431-5275 | <a href='http://www.google.com/maps/place/846 Victorian Ave++Sparks+NV+United States' target='_blank'>Map</a></li><li class=\"telephone\">Phone: (775) 355-7711</li><li class=\"brewery_type\">Type: <a href=\"https://www.brewersassociation.org/statistics/market-segments#brewpub\" target=\"_blank\">Brewpub</a></li><li class=\"url\"><a href=\"http://www.greatbasinbrewingco.com\" target=\"_blank\" >www.greatbasinbrewingco.com</a></li></ul><ul class=\"vcard simple col2 logos\"><a href=\"https://www.brewersassociation.org/business-tools/marketing-advertising/independent-craft-brewer-seal/\" target=\"_blank\"><img src=\"https://s3-us-west-2.amazonaws.com/brewersassoc/wp-content/uploads/2017/06/independent-craft-brewer-seal62x120.png\" alt=\"Independent Craft Brewers Seal\" class=\"craft-seal\" /></a><img src=\"https://www.brewersassociation.org/wp-content/uploads/2016/11/BA_member.png\" class=\"ba\" alt=\"Brewers Association Member\" /></ul></div><div class=\"brewery\">\n",
      "\t\t\t\t\t\t<ul class=\"vcard simple brewery-info\">\n",
      "\t\t\t\t\t\t\t<li class=\"name\">Great Basin Brewing Co</li><li class=\"address\">5525 S Virginia St </li><li>Reno, NV 89502-6085 | <a href='http://www.google.com/maps/place/5525 S Virginia St++Reno+NV+United States' target='_blank'>Map</a></li><li class=\"telephone\">Phone: (775) 284-7711</li><li class=\"brewery_type\">Type: <a href=\"https://www.brewersassociation.org/statistics/market-segments#brewpub\" target=\"_blank\">Brewpub</a></li><li class=\"url\"><a href=\"http://www.greatbasinbrewingco.com\" target=\"_blank\" >www.greatbasinbrewingco.com</a></li><li class='ownership'><em>Greater than 25% ownership by Great Basin Brewing Co, which is a craft brewer.</em></li></ul><ul class=\"vcard simple col2 logos\"><a href=\"https://www.brewersassociation.org/business-tools/marketing-advertising/independent-craft-brewer-seal/\" target=\"_blank\"><img src=\"https://s3-us-west-2.amazonaws.com/brewersassoc/wp-content/uploads/2017/06/independent-craft-brewer-seal62x120.png\" alt=\"Independent Craft Brewers Seal\" class=\"craft-seal\" /></a><img src=\"https://www.brewersassociation.org/wp-content/uploads/2016/11/BA_member.png\" class=\"ba\" alt=\"Brewers Association Member\" /></ul></div><div class=\"brewery\">\n",
      "\t\t\t\t\t\t<ul class=\"vcard simple brewery-info\">\n",
      "\t\t\t\t\t\t\t<li class=\"name\">Great Basin Brewing Co - Production Facility</li><li class=\"address\">1155 S Rock Blvd Ste 490 </li><li>Reno, NV 89502-7174 | <a href='http://www.google.com/maps/place/1155 S Rock Blvd Ste 490++Reno+NV+United States' target='_blank'>Map</a></li><li class=\"telephone\">Phone: (775) 355-7711</li><li class=\"brewery_type\">Type: <a href=\"https://www.brewersassociation.org/statistics/market-segments#micro\" target=\"_blank\">Micro</a></li><li class=\"url\"><a href=\"http://www.greatbasinbrewingco.com\" target=\"_blank\" >www.greatbasinbrewingco.com</a></li><li class='ownership'><em>Greater than 25% ownership by Great Basin Brewing Co, which is a craft brewer.</em></li></ul><ul class=\"vcard simple col2 logos\"><a href=\"https://www.brewersassociation.org/business-tools/marketing-advertising/independent-craft-brewer-seal/\" target=\"_blank\"><img src=\"https://s3-us-west-2.amazonaws.com/brewersassoc/wp-content/uploads/2017/06/independent-craft-brewer-seal62x120.png\" alt=\"Independent Craft Brewers Seal\" class=\"craft-seal\" /></a><img src=\"https://www.brewersassociation.org/wp-content/uploads/2016/11/BA_member.png\" class=\"ba\" alt=\"Brewers Association Member\" /></ul></div><div class=\"brewery\">\n",
      "\t\t\t\t\t\t<ul class=\"vcard simple brewery-info\">\n",
      "\t\t\t\t\t\t\t<li class=\"name\">Hop Nuts Brewing</li><li class=\"address\">1120 S Main St Ste 150 </li><li>Las Vegas, NV 89104-1080 | <a href='http://www.google.com/maps/place/1120 S Main St Ste 150++Las Vegas+NV+United States' target='_blank'>Map</a></li><li class=\"telephone\">Phone: (702) 816-5371</li><li class=\"brewery_type\">Type: <a href=\"https://www.brewersassociation.org/statistics/market-segments#micro\" target=\"_blank\">Micro</a></li><li class=\"url\"><a href=\"http://www.hopnutsbrewing.com\" target=\"_blank\" >www.hopnutsbrewing.com</a></li></ul><ul class=\"vcard simple col2 logos\"><a href=\"https://www.brewersassociation.org/business-tools/marketing-advertising/independent-craft-brewer-seal/\" target=\"_blank\"><img src=\"https://s3-us-west-2.amazonaws.com/brewersassoc/wp-content/uploads/2017/06/independent-craft-brewer-seal62x120.png\" alt=\"Independent Craft Brewers Seal\" class=\"craft-seal\" /></a></ul></div><div class=\"brewery\">\n",
      "\t\t\t\t\t\t<ul class=\"vcard simple brewery-info\">\n",
      "\t\t\t\t\t\t\t<li class=\"name\">IMBIB Custom Brews</li><li class=\"address\">785 E 2nd St </li><li>Reno, NV 89502-1018 | <a href='http://www.google.com/maps/place/785 E 2nd St++Reno+NV+United States' target='_blank'>Map</a></li><li class=\"telephone\">Phone: (775) 303-3385</li><li class=\"brewery_type\">Type: <a href=\"https://www.brewersassociation.org/statistics/market-segments#micro\" target=\"_blank\">Micro</a></li><li class=\"url\"><a href=\"http://www.imbib.beer\" target=\"_blank\" >www.imbib.beer</a></li></ul><ul class=\"vcard simple col2 logos\"><a href=\"https://www.brewersassociation.org/business-tools/marketing-advertising/independent-craft-brewer-seal/\" target=\"_blank\"><img src=\"https://s3-us-west-2.amazonaws.com/brewersassoc/wp-content/uploads/2017/06/independent-craft-brewer-seal62x120.png\" alt=\"Independent Craft Brewers Seal\" class=\"craft-seal\" /></a><img src=\"https://www.brewersassociation.org/wp-content/uploads/2016/11/BA_member.png\" class=\"ba\" alt=\"Brewers Association Member\" /></ul></div><div class=\"brewery\">\n",
      "\t\t\t\t\t\t<ul class=\"vcard simple brewery-info\">\n",
      "\t\t\t\t\t\t\t<li class=\"name\">Joseph James Brewing Co, Inc</li><li class=\"address\">155 N Gibson Rd </li><li>Henderson, NV 89014-6713 | <a href='http://www.google.com/maps/place/155 N Gibson Rd++Henderson+NV+United States' target='_blank'>Map</a></li><li class=\"telephone\">Phone: (702) 454-2739</li><li class=\"brewery_type\">Type: <a href=\"https://www.brewersassociation.org/statistics/market-segments#micro\" target=\"_blank\">Micro</a></li><li class=\"url\"><a href=\"http://www.jjbrewco.com\" target=\"_blank\" >www.jjbrewco.com</a></li><li class='ownership'><em>Greater than 25% ownership by Gold Buckle Brewing Company, which is a craft brewer.</em></li></ul><ul class=\"vcard simple col2 logos\"><a href=\"https://www.brewersassociation.org/business-tools/marketing-advertising/independent-craft-brewer-seal/\" target=\"_blank\"><img src=\"https://s3-us-west-2.amazonaws.com/brewersassoc/wp-content/uploads/2017/06/independent-craft-brewer-seal62x120.png\" alt=\"Independent Craft Brewers Seal\" class=\"craft-seal\" /></a><img src=\"https://www.brewersassociation.org/wp-content/uploads/2016/11/BA_member.png\" class=\"ba\" alt=\"Brewers Association Member\" /></ul></div><div class=\"brewery\">\n",
      "\t\t\t\t\t\t<ul class=\"vcard simple brewery-info\">\n",
      "\t\t\t\t\t\t\t<li class=\"name\">Lead Dog Brewing</li><li class=\"address\">415 E 4th St </li><li>Reno, NV 89512-3315 | <a href='http://www.google.com/maps/place/415 E 4th St++Reno+NV+United States' target='_blank'>Map</a></li><li class=\"telephone\">Phone: (775) 391-5110</li><li class=\"brewery_type\">Type: <a href=\"https://www.brewersassociation.org/statistics/market-segments#micro\" target=\"_blank\">Micro</a></li><li class=\"url\"><a href=\"http://www.leaddogbrewing.com\" target=\"_blank\" >www.leaddogbrewing.com</a></li></ul><ul class=\"vcard simple col2 logos\"><a href=\"https://www.brewersassociation.org/business-tools/marketing-advertising/independent-craft-brewer-seal/\" target=\"_blank\"><img src=\"https://s3-us-west-2.amazonaws.com/brewersassoc/wp-content/uploads/2017/06/independent-craft-brewer-seal62x120.png\" alt=\"Independent Craft Brewers Seal\" class=\"craft-seal\" /></a><img src=\"https://www.brewersassociation.org/wp-content/uploads/2016/11/BA_member.png\" class=\"ba\" alt=\"Brewers Association Member\" /></ul></div><div class=\"brewery\">\n",
      "\t\t\t\t\t\t<ul class=\"vcard simple brewery-info\">\n",
      "\t\t\t\t\t\t\t<li class=\"name\">Little Vixen Brewing</li><li class=\"address\"> </li><li>Las Vegas, NV 89138-6120</li><li class=\"telephone\">Phone: (775) 997-5936</li><li class=\"brewery_type\">Type: <a href=\"https://www.brewersassociation.org/statistics/market-segments#planning\" target=\"_blank\">Planning</a></li></ul><ul class=\"vcard simple col2 logos\"><img src=\"https://www.brewersassociation.org/wp-content/uploads/2016/11/ba_associate.png\" class=\"ba\" alt=\"BA Associate Member\" /></ul></div><div class=\"brewery\">\n",
      "\t\t\t\t\t\t<ul class=\"vcard simple brewery-info\">\n",
      "\t\t\t\t\t\t\t<li class=\"name\">Lovelady Brewing Company</li><li class=\"address\">20 S Water St </li><li>Henderson, NV 89015-7223 | <a href='http://www.google.com/maps/place/20 S Water St++Henderson+NV+United States' target='_blank'>Map</a></li><li class=\"telephone\">Phone: (702) 857-8469</li><li class=\"brewery_type\">Type: <a href=\"https://www.brewersassociation.org/statistics/market-segments#micro\" target=\"_blank\">Micro</a></li><li class=\"url\"><a href=\"http://www.loveladybrewing.com\" target=\"_blank\" >www.loveladybrewing.com</a></li></ul><ul class=\"vcard simple col2 logos\"><a href=\"https://www.brewersassociation.org/business-tools/marketing-advertising/independent-craft-brewer-seal/\" target=\"_blank\"><img src=\"https://s3-us-west-2.amazonaws.com/brewersassoc/wp-content/uploads/2017/06/independent-craft-brewer-seal62x120.png\" alt=\"Independent Craft Brewers Seal\" class=\"craft-seal\" /></a><img src=\"https://www.brewersassociation.org/wp-content/uploads/2016/11/BA_member.png\" class=\"ba\" alt=\"Brewers Association Member\" /></ul></div><div class=\"brewery\">\n",
      "\t\t\t\t\t\t<ul class=\"vcard simple brewery-info\">\n",
      "\t\t\t\t\t\t\t<li class=\"name\">Matties</li><li class=\"address\">2535 Mountain City Hwy </li><li>Elko, NV 89801-4496 | <a href='http://www.google.com/maps/place/2535 Mountain City Hwy++Elko+NV+United States' target='_blank'>Map</a></li><li class=\"telephone\">Phone: (775) 753-5100</li><li class=\"brewery_type\">Type: <a href=\"https://www.brewersassociation.org/statistics/market-segments#bar\" target=\"_blank\">Bar</a></li><li class=\"url\"><a href=\"http://www.mattiesbar-n-grill.com/\" target=\"_blank\" >http://www.mattiesbar-n-grill.com/</a></li></ul><ul class=\"vcard simple col2 logos\"></ul></div><div class=\"brewery\">\n",
      "\t\t\t\t\t\t<ul class=\"vcard simple brewery-info\">\n",
      "\t\t\t\t\t\t\t<li class=\"name\">Nevadan Brewing Company</li><li class=\"address\"> </li><li>Las Vegas, NV 89139-5939</li><li class=\"telephone\">Phone: (702) 845-5768</li><li class=\"brewery_type\">Type: <a href=\"https://www.brewersassociation.org/statistics/market-segments#planning\" target=\"_blank\">Planning</a></li><li class=\"url\"><a href=\"http://nevadanbrewing.com\" target=\"_blank\" >nevadanbrewing.com</a></li></ul><ul class=\"vcard simple col2 logos\"><img src=\"https://www.brewersassociation.org/wp-content/uploads/2016/11/ba_associate.png\" class=\"ba\" alt=\"BA Associate Member\" /></ul></div><div class=\"brewery\">\n",
      "\t\t\t\t\t\t<ul class=\"vcard simple brewery-info\">\n",
      "\t\t\t\t\t\t\t<li class=\"name\">Occidental Brewing</li><li class=\"address\">865 S Rock Blvd </li><li>Sparks, NV 89431 | <a href='http://www.google.com/maps/place/865 S Rock Blvd++Sparks+NV+United States' target='_blank'>Map</a></li><li class=\"telephone\">Phone: (775) 398-4200</li><li class=\"brewery_type\">Type: <a href=\"https://www.brewersassociation.org/statistics/market-segments#brewpub\" target=\"_blank\">Brewpub</a></li><li class='ownership'><em>Greater than 25% ownership by Occidental Brewing, which is a craft brewer.</em></li></ul><ul class=\"vcard simple col2 logos\"><a href=\"https://www.brewersassociation.org/business-tools/marketing-advertising/independent-craft-brewer-seal/\" target=\"_blank\"><img src=\"https://s3-us-west-2.amazonaws.com/brewersassoc/wp-content/uploads/2017/06/independent-craft-brewer-seal62x120.png\" alt=\"Independent Craft Brewers Seal\" class=\"craft-seal\" /></a><img src=\"https://www.brewersassociation.org/wp-content/uploads/2016/11/BA_member.png\" class=\"ba\" alt=\"Brewers Association Member\" /></ul></div><div class=\"brewery\">\n",
      "\t\t\t\t\t\t<ul class=\"vcard simple brewery-info\">\n",
      "\t\t\t\t\t\t\t<li class=\"name\">Pigeon Head Brewery</li><li class=\"address\">840 E 5th St </li><li>Reno, NV 89512-3508 | <a href='http://www.google.com/maps/place/840 E 5th St++Reno+NV+United States' target='_blank'>Map</a></li><li class=\"telephone\">Phone: (775) 276-6766</li><li class=\"brewery_type\">Type: <a href=\"https://www.brewersassociation.org/statistics/market-segments#micro\" target=\"_blank\">Micro</a></li><li class=\"url\"><a href=\"http://www.pigeonheadbrewery.com\" target=\"_blank\" >www.pigeonheadbrewery.com</a></li></ul><ul class=\"vcard simple col2 logos\"><a href=\"https://www.brewersassociation.org/business-tools/marketing-advertising/independent-craft-brewer-seal/\" target=\"_blank\"><img src=\"https://s3-us-west-2.amazonaws.com/brewersassoc/wp-content/uploads/2017/06/independent-craft-brewer-seal62x120.png\" alt=\"Independent Craft Brewers Seal\" class=\"craft-seal\" /></a><img src=\"https://www.brewersassociation.org/wp-content/uploads/2016/11/BA_member.png\" class=\"ba\" alt=\"Brewers Association Member\" /></ul></div><div class=\"brewery\">\n",
      "\t\t\t\t\t\t<ul class=\"vcard simple brewery-info\">\n",
      "\t\t\t\t\t\t\t<li class=\"name\">Pints Brewery and Sports Bar</li><li class=\"address\">2100 S Casino Dr </li><li>Laughlin, NV 89029 | <a href='http://www.google.com/maps/place/2100 S Casino Dr++Laughlin+NV+United States' target='_blank'>Map</a></li><li class=\"telephone\">Phone: (702) 298-4000</li><li class=\"brewery_type\">Type: <a href=\"https://www.brewersassociation.org/statistics/market-segments#brewpub\" target=\"_blank\">Brewpub</a></li><li class=\"url\"><a href=\"http://www.coloradobelle.com\" target=\"_blank\" >www.coloradobelle.com</a></li></ul><ul class=\"vcard simple col2 logos\"><a href=\"https://www.brewersassociation.org/business-tools/marketing-advertising/independent-craft-brewer-seal/\" target=\"_blank\"><img src=\"https://s3-us-west-2.amazonaws.com/brewersassoc/wp-content/uploads/2017/06/independent-craft-brewer-seal62x120.png\" alt=\"Independent Craft Brewers Seal\" class=\"craft-seal\" /></a></ul></div><div class=\"brewery\">\n",
      "\t\t\t\t\t\t<ul class=\"vcard simple brewery-info\">\n",
      "\t\t\t\t\t\t\t<li class=\"name\">PT's Brewing Co.</li><li class=\"address\">3101 N Tenaya Way </li><li>Las Vegas, NV 89128-0437 | <a href='http://www.google.com/maps/place/3101 N Tenaya Way++Las Vegas+NV+United States' target='_blank'>Map</a></li><li class=\"brewery_type\">Type: <a href=\"https://www.brewersassociation.org/statistics/market-segments#micro\" target=\"_blank\">Micro</a></li></ul><ul class=\"vcard simple col2 logos\"><a href=\"https://www.brewersassociation.org/business-tools/marketing-advertising/independent-craft-brewer-seal/\" target=\"_blank\"><img src=\"https://s3-us-west-2.amazonaws.com/brewersassoc/wp-content/uploads/2017/06/independent-craft-brewer-seal62x120.png\" alt=\"Independent Craft Brewers Seal\" class=\"craft-seal\" /></a><img src=\"https://www.brewersassociation.org/wp-content/uploads/2016/11/BA_member.png\" class=\"ba\" alt=\"Brewers Association Member\" /></ul></div><div class=\"brewery\">\n",
      "\t\t\t\t\t\t<ul class=\"vcard simple brewery-info\">\n",
      "\t\t\t\t\t\t\t<li class=\"name\">Record Street Brewing Co</li><li class=\"address\">9850 Copenhagen  </li><li>Reno, NV 89521 | <a href='http://www.google.com/maps/place/9850 Copenhagen ++Reno+NV+United States' target='_blank'>Map</a></li><li class=\"telephone\">Phone: (775) 200-8943</li><li class=\"brewery_type\">Type: <a href=\"https://www.brewersassociation.org/statistics/market-segments#contract\" target=\"_blank\">Contract</a></li></ul><ul class=\"vcard simple col2 logos\"><img src=\"https://www.brewersassociation.org/wp-content/uploads/2016/11/ba_associate.png\" class=\"ba\" alt=\"BA Associate Member\" /></ul></div><div class=\"brewery\">\n",
      "\t\t\t\t\t\t<ul class=\"vcard simple brewery-info\">\n",
      "\t\t\t\t\t\t\t<li class=\"name\">Revision Brewing Company</li><li class=\"address\">380 S Rock Blvd </li><li>Sparks, NV 89431-5545 | <a href='http://www.google.com/maps/place/380 S Rock Blvd++Sparks+NV+United States' target='_blank'>Map</a></li><li class=\"telephone\">Phone: (775) 331-2739</li><li class=\"brewery_type\">Type: <a href=\"https://www.brewersassociation.org/statistics/market-segments#micro\" target=\"_blank\">Micro</a></li><li class=\"url\"><a href=\"http://www.revisionbrewing.com\" target=\"_blank\" >www.revisionbrewing.com</a></li></ul><ul class=\"vcard simple col2 logos\"><a href=\"https://www.brewersassociation.org/business-tools/marketing-advertising/independent-craft-brewer-seal/\" target=\"_blank\"><img src=\"https://s3-us-west-2.amazonaws.com/brewersassoc/wp-content/uploads/2017/06/independent-craft-brewer-seal62x120.png\" alt=\"Independent Craft Brewers Seal\" class=\"craft-seal\" /></a><img src=\"https://www.brewersassociation.org/wp-content/uploads/2016/11/BA_member.png\" class=\"ba\" alt=\"Brewers Association Member\" /></ul></div><div class=\"brewery\">\n",
      "\t\t\t\t\t\t<ul class=\"vcard simple brewery-info\">\n",
      "\t\t\t\t\t\t\t<li class=\"name\">Ruby Mountain Brewing Co</li><li class=\"address\">HC 60 Box 100 </li><li>Wells, NV 89835-9802 | <a href='http://www.google.com/maps/place/HC 60 Box 100++Wells+NV+United States' target='_blank'>Map</a></li><li class=\"telephone\">Phone: (775) 752-2337</li><li class=\"brewery_type\">Type: <a href=\"https://www.brewersassociation.org/statistics/market-segments#micro\" target=\"_blank\">Micro</a></li><li class=\"url\"><a href=\"http://www.rubymountainbrewing.com\" target=\"_blank\" >www.rubymountainbrewing.com</a></li></ul><ul class=\"vcard simple col2 logos\"><a href=\"https://www.brewersassociation.org/business-tools/marketing-advertising/independent-craft-brewer-seal/\" target=\"_blank\"><img src=\"https://s3-us-west-2.amazonaws.com/brewersassoc/wp-content/uploads/2017/06/independent-craft-brewer-seal62x120.png\" alt=\"Independent Craft Brewers Seal\" class=\"craft-seal\" /></a><img src=\"https://www.brewersassociation.org/wp-content/uploads/2016/11/BA_member.png\" class=\"ba\" alt=\"Brewers Association Member\" /></ul></div><div class=\"brewery\">\n",
      "\t\t\t\t\t\t<ul class=\"vcard simple brewery-info\">\n",
      "\t\t\t\t\t\t\t<li class=\"name\">Shoe Tree Brewing Co.</li><li class=\"address\">1496 Old Hot Springs Rd </li><li>Carson City, NV 89706-0627 | <a href='http://www.google.com/maps/place/1496 Old Hot Springs Rd++Carson City+NV+United States' target='_blank'>Map</a></li><li class=\"telephone\">Phone: (775) 222-0108</li><li class=\"brewery_type\">Type: <a href=\"https://www.brewersassociation.org/statistics/market-segments#micro\" target=\"_blank\">Micro</a></li><li class=\"url\"><a href=\"http://www.shoetreebrewing.com\" target=\"_blank\" >www.shoetreebrewing.com</a></li></ul><ul class=\"vcard simple col2 logos\"><a href=\"https://www.brewersassociation.org/business-tools/marketing-advertising/independent-craft-brewer-seal/\" target=\"_blank\"><img src=\"https://s3-us-west-2.amazonaws.com/brewersassoc/wp-content/uploads/2017/06/independent-craft-brewer-seal62x120.png\" alt=\"Independent Craft Brewers Seal\" class=\"craft-seal\" /></a><img src=\"https://www.brewersassociation.org/wp-content/uploads/2016/11/BA_member.png\" class=\"ba\" alt=\"Brewers Association Member\" /></ul></div><div class=\"brewery\">\n",
      "\t\t\t\t\t\t<ul class=\"vcard simple brewery-info\">\n",
      "\t\t\t\t\t\t\t<li class=\"name\">Silver Peak Restaurant and Brewery</li><li class=\"address\">124 Wonder St </li><li>Reno, NV 89502-2424 | <a href='http://www.google.com/maps/place/124 Wonder St++Reno+NV+United States' target='_blank'>Map</a></li><li class=\"telephone\">Phone: (775) 324-1864</li><li class=\"brewery_type\">Type: <a href=\"https://www.brewersassociation.org/statistics/market-segments#brewpub\" target=\"_blank\">Brewpub</a></li><li class=\"url\"><a href=\"http://www.silverpeakbrewery.com\" target=\"_blank\" >www.silverpeakbrewery.com</a></li></ul><ul class=\"vcard simple col2 logos\"><a href=\"https://www.brewersassociation.org/business-tools/marketing-advertising/independent-craft-brewer-seal/\" target=\"_blank\"><img src=\"https://s3-us-west-2.amazonaws.com/brewersassoc/wp-content/uploads/2017/06/independent-craft-brewer-seal62x120.png\" alt=\"Independent Craft Brewers Seal\" class=\"craft-seal\" /></a><img src=\"https://www.brewersassociation.org/wp-content/uploads/2016/11/BA_member.png\" class=\"ba\" alt=\"Brewers Association Member\" /></ul></div><div class=\"brewery\">\n",
      "\t\t\t\t\t\t<ul class=\"vcard simple brewery-info\">\n",
      "\t\t\t\t\t\t\t<li class=\"name\">Sin City Beer Co</li><li class=\"address\">3663 Las Vegas Blvd S Ste 504 Miracle Mile Shops</li><li>Las Vegas, NV 89109-1951 | <a href='http://www.google.com/maps/place/3663 Las Vegas Blvd S Ste 504+Miracle Mile Shops+Las Vegas+NV+United States' target='_blank'>Map</a></li><li class=\"telephone\">Phone: (702) 809-4939</li><li class=\"brewery_type\">Type: <a href=\"https://www.brewersassociation.org/statistics/market-segments#contract\" target=\"_blank\">Contract</a></li><li class=\"url\"><a href=\"http://www.sincitybeer.com\" target=\"_blank\" >www.sincitybeer.com</a></li></ul><ul class=\"vcard simple col2 logos\"><img src=\"https://www.brewersassociation.org/wp-content/uploads/2016/11/ba_associate.png\" class=\"ba\" alt=\"BA Associate Member\" /></ul></div><div class=\"brewery\">\n",
      "\t\t\t\t\t\t<ul class=\"vcard simple brewery-info\">\n",
      "\t\t\t\t\t\t\t<li class=\"name\">StoneyHead Brewing LLC</li><li class=\"address\">5301 Longley Ln Ste 84C </li><li>Reno, NV 89511-1873 | <a href='http://www.google.com/maps/place/5301 Longley Ln Ste 84C++Reno+NV+United States' target='_blank'>Map</a></li><li class=\"telephone\">Phone: (775) 829-2337</li><li class=\"brewery_type\">Type: <a href=\"https://www.brewersassociation.org/statistics/market-segments#micro\" target=\"_blank\">Micro</a></li><li class=\"url\"><a href=\"http://www.stoneyheadbrewing.com\" target=\"_blank\" >www.stoneyheadbrewing.com</a></li></ul><ul class=\"vcard simple col2 logos\"><a href=\"https://www.brewersassociation.org/business-tools/marketing-advertising/independent-craft-brewer-seal/\" target=\"_blank\"><img src=\"https://s3-us-west-2.amazonaws.com/brewersassoc/wp-content/uploads/2017/06/independent-craft-brewer-seal62x120.png\" alt=\"Independent Craft Brewers Seal\" class=\"craft-seal\" /></a><img src=\"https://www.brewersassociation.org/wp-content/uploads/2016/11/BA_member.png\" class=\"ba\" alt=\"Brewers Association Member\" /></ul></div><div class=\"brewery\">\n",
      "\t\t\t\t\t\t<ul class=\"vcard simple brewery-info\">\n",
      "\t\t\t\t\t\t\t<li class=\"name\">Tenaya Creek Brewery</li><li class=\"address\">831 W Bonanza Rd </li><li>Las Vegas, NV 89106-3526 | <a href='http://www.google.com/maps/place/831 W Bonanza Rd++Las Vegas+NV+United States' target='_blank'>Map</a></li><li class=\"telephone\">Phone: (702) 362-7335</li><li class=\"brewery_type\">Type: <a href=\"https://www.brewersassociation.org/statistics/market-segments#micro\" target=\"_blank\">Micro</a></li><li class=\"url\"><a href=\"http://www.tenayacreek.com\" target=\"_blank\" >www.tenayacreek.com</a></li></ul><ul class=\"vcard simple col2 logos\"><a href=\"https://www.brewersassociation.org/business-tools/marketing-advertising/independent-craft-brewer-seal/\" target=\"_blank\"><img src=\"https://s3-us-west-2.amazonaws.com/brewersassoc/wp-content/uploads/2017/06/independent-craft-brewer-seal62x120.png\" alt=\"Independent Craft Brewers Seal\" class=\"craft-seal\" /></a><img src=\"https://www.brewersassociation.org/wp-content/uploads/2016/11/BA_member.png\" class=\"ba\" alt=\"Brewers Association Member\" /></ul></div><div class=\"brewery\">\n",
      "\t\t\t\t\t\t<ul class=\"vcard simple brewery-info\">\n",
      "\t\t\t\t\t\t\t<li class=\"name\">The Brew Brothers/Eldorado Hotel and Casino</li><li class=\"address\">345 N Virginia St </li><li>Reno, NV 89501-1136 | <a href='http://www.google.com/maps/place/345 N Virginia St++Reno+NV+United States' target='_blank'>Map</a></li><li class=\"telephone\">Phone: (775) 786-5700</li><li class=\"brewery_type\">Type: <a href=\"https://www.brewersassociation.org/statistics/market-segments#micro\" target=\"_blank\">Micro</a></li><li class=\"url\"><a href=\"http://www.eldoradoresorts.com\" target=\"_blank\" >www.eldoradoresorts.com</a></li></ul><ul class=\"vcard simple col2 logos\"><a href=\"https://www.brewersassociation.org/business-tools/marketing-advertising/independent-craft-brewer-seal/\" target=\"_blank\"><img src=\"https://s3-us-west-2.amazonaws.com/brewersassoc/wp-content/uploads/2017/06/independent-craft-brewer-seal62x120.png\" alt=\"Independent Craft Brewers Seal\" class=\"craft-seal\" /></a><img src=\"https://www.brewersassociation.org/wp-content/uploads/2016/11/BA_member.png\" class=\"ba\" alt=\"Brewers Association Member\" /></ul></div><div class=\"brewery\">\n",
      "\t\t\t\t\t\t<ul class=\"vcard simple brewery-info\">\n",
      "\t\t\t\t\t\t\t<li class=\"name\">The Brewer's Cabinet</li><li class=\"address\">475 S Arlington Ave Ste 1C </li><li>Reno, NV 89501-2099 | <a href='http://www.google.com/maps/place/475 S Arlington Ave Ste 1C++Reno+NV+United States' target='_blank'>Map</a></li><li class=\"telephone\">Phone: (775) 348-7481</li><li class=\"brewery_type\">Type: <a href=\"https://www.brewersassociation.org/statistics/market-segments#micro\" target=\"_blank\">Micro</a></li><li class=\"url\"><a href=\"http://www.thebrewerscabinet.com\" target=\"_blank\" >www.thebrewerscabinet.com</a></li></ul><ul class=\"vcard simple col2 logos\"><a href=\"https://www.brewersassociation.org/business-tools/marketing-advertising/independent-craft-brewer-seal/\" target=\"_blank\"><img src=\"https://s3-us-west-2.amazonaws.com/brewersassoc/wp-content/uploads/2017/06/independent-craft-brewer-seal62x120.png\" alt=\"Independent Craft Brewers Seal\" class=\"craft-seal\" /></a><img src=\"https://www.brewersassociation.org/wp-content/uploads/2016/11/BA_member.png\" class=\"ba\" alt=\"Brewers Association Member\" /></ul></div><div class=\"brewery\">\n",
      "\t\t\t\t\t\t<ul class=\"vcard simple brewery-info\">\n",
      "\t\t\t\t\t\t\t<li class=\"name\">The Depot Craft Brewery Distillery</li><li class=\"address\">325 E 4th St </li><li>Reno, NV 89512-3313 | <a href='http://www.google.com/maps/place/325 E 4th St++Reno+NV+United States' target='_blank'>Map</a></li><li class=\"telephone\">Phone: (775) 737-4330</li><li class=\"brewery_type\">Type: <a href=\"https://www.brewersassociation.org/statistics/market-segments#brewpub\" target=\"_blank\">Brewpub</a></li><li class=\"url\"><a href=\"http://www.thedepotreno.com\" target=\"_blank\" >www.thedepotreno.com</a></li></ul><ul class=\"vcard simple col2 logos\"><a href=\"https://www.brewersassociation.org/business-tools/marketing-advertising/independent-craft-brewer-seal/\" target=\"_blank\"><img src=\"https://s3-us-west-2.amazonaws.com/brewersassoc/wp-content/uploads/2017/06/independent-craft-brewer-seal62x120.png\" alt=\"Independent Craft Brewers Seal\" class=\"craft-seal\" /></a></ul></div><div class=\"brewery\">\n",
      "\t\t\t\t\t\t<ul class=\"vcard simple brewery-info\">\n",
      "\t\t\t\t\t\t\t<li class=\"name\">The Fox Brewpub</li><li class=\"address\">310 S Carson St </li><li>Carson City, NV 89701-4754 | <a href='http://www.google.com/maps/place/310 S Carson St++Carson City+NV+United States' target='_blank'>Map</a></li><li class=\"telephone\">Phone: (775) 883-1369</li><li class=\"brewery_type\">Type: <a href=\"https://www.brewersassociation.org/statistics/market-segments#brewpub\" target=\"_blank\">Brewpub</a></li><li class=\"url\"><a href=\"http://www.foxbrewpub.com\" target=\"_blank\" >www.foxbrewpub.com</a></li></ul><ul class=\"vcard simple col2 logos\"><a href=\"https://www.brewersassociation.org/business-tools/marketing-advertising/independent-craft-brewer-seal/\" target=\"_blank\"><img src=\"https://s3-us-west-2.amazonaws.com/brewersassoc/wp-content/uploads/2017/06/independent-craft-brewer-seal62x120.png\" alt=\"Independent Craft Brewers Seal\" class=\"craft-seal\" /></a><img src=\"https://www.brewersassociation.org/wp-content/uploads/2016/11/BA_member.png\" class=\"ba\" alt=\"Brewers Association Member\" /></ul></div><div class=\"brewery\">\n",
      "\t\t\t\t\t\t<ul class=\"vcard simple brewery-info\">\n",
      "\t\t\t\t\t\t\t<li class=\"name\">Tonopah Brewing Co</li><li class=\"address\">315 S Main St </li><li>Tonopah, NV 89049 | <a href='http://www.google.com/maps/place/315 S Main St++Tonopah+NV+United States' target='_blank'>Map</a></li><li class=\"telephone\">Phone: (775) 482-2000</li><li class=\"brewery_type\">Type: <a href=\"https://www.brewersassociation.org/statistics/market-segments#brewpub\" target=\"_blank\">Brewpub</a></li><li class=\"url\"><a href=\"http://www.tonopahbrewing.com\" target=\"_blank\" >www.tonopahbrewing.com</a></li></ul><ul class=\"vcard simple col2 logos\"><a href=\"https://www.brewersassociation.org/business-tools/marketing-advertising/independent-craft-brewer-seal/\" target=\"_blank\"><img src=\"https://s3-us-west-2.amazonaws.com/brewersassoc/wp-content/uploads/2017/06/independent-craft-brewer-seal62x120.png\" alt=\"Independent Craft Brewers Seal\" class=\"craft-seal\" /></a><img src=\"https://www.brewersassociation.org/wp-content/uploads/2016/11/BA_member.png\" class=\"ba\" alt=\"Brewers Association Member\" /></ul></div><div class=\"brewery\">\n",
      "\t\t\t\t\t\t<ul class=\"vcard simple brewery-info\">\n",
      "\t\t\t\t\t\t\t<li class=\"name\">Triple 7 Restaurant & Brewery at Main St Station</li><li class=\"address\">200 N Main St Main Street Station Casino</li><li>Las Vegas, NV 89101-2910 | <a href='http://www.google.com/maps/place/200 N Main St+Main Street Station Casino+Las Vegas+NV+United States' target='_blank'>Map</a></li><li class=\"telephone\">Phone: (702) 387-1896</li><li class=\"brewery_type\">Type: <a href=\"https://www.brewersassociation.org/statistics/market-segments#brewpub\" target=\"_blank\">Brewpub</a></li><li class=\"url\"><a href=\"http://www.mainstreetcasino.com\" target=\"_blank\" >www.mainstreetcasino.com</a></li></ul><ul class=\"vcard simple col2 logos\"><a href=\"https://www.brewersassociation.org/business-tools/marketing-advertising/independent-craft-brewer-seal/\" target=\"_blank\"><img src=\"https://s3-us-west-2.amazonaws.com/brewersassoc/wp-content/uploads/2017/06/independent-craft-brewer-seal62x120.png\" alt=\"Independent Craft Brewers Seal\" class=\"craft-seal\" /></a></ul></div><div class=\"brewery\">\n",
      "\t\t\t\t\t\t<ul class=\"vcard simple brewery-info\">\n",
      "\t\t\t\t\t\t\t<li class=\"name\">Two Bald Guys Beverage Co</li><li class=\"address\">18090 Hazelnut Dr </li><li>Reno, NV 89508-6898 | <a href='http://www.google.com/maps/place/18090 Hazelnut Dr++Reno+NV+United States' target='_blank'>Map</a></li><li class=\"brewery_type\">Type: <a href=\"https://www.brewersassociation.org/statistics/market-segments#contract\" target=\"_blank\">Contract</a></li><li class=\"url\"><a href=\"http://www.drinktwobaldguys.com\" target=\"_blank\" >www.drinktwobaldguys.com</a></li></ul><ul class=\"vcard simple col2 logos\"></ul></div><div class=\"brewery\">\n",
      "\t\t\t\t\t\t<ul class=\"vcard simple brewery-info\">\n",
      "\t\t\t\t\t\t\t<li class=\"name\">Virginia City Brewery & Taphouse</li><li class=\"address\">62 North C Street </li><li>Virginia City, NV 89440 | <a href='http://www.google.com/maps/place/62 North C Street++Virginia City+NV+United States' target='_blank'>Map</a></li><li class=\"telephone\">Phone: (775) 847-7064</li><li class=\"brewery_type\">Type: <a href=\"https://www.brewersassociation.org/statistics/market-segments#brewpub\" target=\"_blank\">Brewpub</a></li><li class=\"url\"><a href=\"http://www.virginiacitybreweryandtaphouse.com\" target=\"_blank\" >www.virginiacitybreweryandtaphouse.com</a></li><li class='ownership'><em>Greater than 25% ownership by Tonopah Brewing Co, which is a craft brewer.</em></li></ul><ul class=\"vcard simple col2 logos\"><a href=\"https://www.brewersassociation.org/business-tools/marketing-advertising/independent-craft-brewer-seal/\" target=\"_blank\"><img src=\"https://s3-us-west-2.amazonaws.com/brewersassoc/wp-content/uploads/2017/06/independent-craft-brewer-seal62x120.png\" alt=\"Independent Craft Brewers Seal\" class=\"craft-seal\" /></a><img src=\"https://www.brewersassociation.org/wp-content/uploads/2016/11/BA_member.png\" class=\"ba\" alt=\"Brewers Association Member\" /></ul></div>\n"
     ]
    }
   ],
   "source": [
    "print(response.text)"
   ]
  },
  {
   "cell_type": "code",
   "execution_count": 4,
   "metadata": {},
   "outputs": [
    {
     "name": "stdout",
     "output_type": "stream",
     "text": [
      "Alabama found!\n",
      "Alaska found!\n",
      "Arizona found!\n",
      "Arkansas found!\n",
      "California found!\n",
      "Colorado found!\n",
      "Connecticut found!\n",
      "Delaware found!\n",
      "Florida found!\n",
      "Georgia found!\n",
      "Hawaii found!\n",
      "Idaho found!\n",
      "Illinois found!\n",
      "Indiana found!\n",
      "Iowa found!\n",
      "Kansas found!\n",
      "Kentucky found!\n",
      "Louisiana found!\n",
      "Maine found!\n",
      "Maryland found!\n",
      "Massachusetts found!\n",
      "Michigan found!\n",
      "Minnesota found!\n",
      "Mississippi found!\n",
      "Missouri found!\n",
      "Montana found!\n",
      "Nebraska found!\n",
      "Nevada found!\n",
      "New Hampshire found!\n",
      "New Jersey found!\n",
      "New Mexico found!\n",
      "New York found!\n",
      "North Carolina found!\n",
      "North Dakota found!\n",
      "Ohio found!\n",
      "Oklahoma found!\n",
      "Oregon found!\n",
      "Pennsylvania found!\n",
      "Rhode Island found!\n",
      "South Carolina found!\n",
      "South Dakota found!\n",
      "Tennessee found!\n",
      "Texas found!\n",
      "Utah found!\n",
      "Vermont found!\n",
      "Virginia found!\n",
      "Washington found!\n",
      "West Virginia found!\n",
      "Wisconsin found!\n",
      "Wyoming found!\n",
      "/\\/\\/\\/\\/\\/\\/\\/\\/\\/\\/\\/\\/\\/\\/\\/\\/\\/\\/\\/\\/\\/\\/\\/\\/\\/\\/\\/\\/\\/\\\n",
      "REQUEST COMPLETE\n"
     ]
    }
   ],
   "source": [
    "response_list= []\n",
    "\n",
    "for state in state_list:\n",
    "    response= requests.post('https://www.brewersassociation.org/wp-admin/admin-ajax.php',\n",
    "                 data= {\n",
    "                     \"action\": \"get_breweries\",\n",
    "                    \"_id\": state,\n",
    "                    \"search_by\": \"statename\"\n",
    "                 })\n",
    "    if response.status_code == 200:\n",
    "        response_list.append(response)\n",
    "        print(f\"{state} found!\")\n",
    "    else:\n",
    "        print(f\"Not found. Skipping {state}...\")\n",
    "\n",
    "print(\"/\\\\\"*30)\n",
    "print(\"REQUEST COMPLETE\")"
   ]
  },
  {
   "cell_type": "markdown",
   "metadata": {},
   "source": [
    "### Convert to BeautifulSoup object and prettify for easier reading"
   ]
  },
  {
   "cell_type": "code",
   "execution_count": 5,
   "metadata": {
    "scrolled": true
   },
   "outputs": [],
   "source": [
    "soup_list= [bs.BeautifulSoup(i.text,'html.parser') for i in response_list]"
   ]
  },
  {
   "cell_type": "markdown",
   "metadata": {},
   "source": [
    "### Locate all the brewery classes"
   ]
  },
  {
   "cell_type": "code",
   "execution_count": 6,
   "metadata": {},
   "outputs": [],
   "source": [
    "breweries= [soup.find_all(attrs= {\"class\":\"brewery\"}) for soup in soup_list]"
   ]
  },
  {
   "cell_type": "markdown",
   "metadata": {},
   "source": [
    "### Convert to DataFrame\n",
    "\n",
    "Having issues with this step right now because I made lists of lists... like a chump..."
   ]
  },
  {
   "cell_type": "code",
   "execution_count": 7,
   "metadata": {
    "scrolled": true
   },
   "outputs": [],
   "source": [
    "p= re.compile(\"<li>(.*?), ([A-Z][A-Z]) (\\d{5})?\")\n",
    "\n",
    "Brewery_list= []\n",
    "Address_list= []\n",
    "City_list= []\n",
    "State_list= []\n",
    "ZIP_Code_list= []\n",
    "\n",
    "fail_list= []\n",
    "\n",
    "for state in breweries:\n",
    "    for i in state:\n",
    "#Since some breweries lack a ZIP Code, it throws an error.\n",
    "        try:\n",
    "            city_state_zip= i.find_all('li')[2]\n",
    "#ZIP_Code_list should be produced first to throw the error before populating the other fields.\n",
    "#This ensures all lists are the same length and can easily be added to the state_df.\n",
    "            ZIP_Code_list.append(re.search(p, str(city_state_zip)).group(3))\n",
    "            Brewery_list.append(i.find_all(attrs={\"class\":\"name\"})[0].string)\n",
    "            Address_list.append(i.find_all(attrs={\"class\":\"address\"})[0].string.rstrip())\n",
    "            City_list.append(re.search(p, str(city_state_zip)).group(1))\n",
    "            State_list.append(re.search(p, str(city_state_zip)).group(2))\n",
    "        except AttributeError:\n",
    "            fail_list.append(i.find_all(attrs={\"class\":\"name\"})[0].string)"
   ]
  },
  {
   "cell_type": "code",
   "execution_count": 8,
   "metadata": {
    "scrolled": true
   },
   "outputs": [],
   "source": [
    "state_df= pd.DataFrame(\n",
    "    {\n",
    "            \"Brewery\": Brewery_list,\n",
    "            \"Address\": Address_list,\n",
    "            \"City\": City_list,\n",
    "            \"State\": State_list,\n",
    "            \"ZIP Code\": ZIP_Code_list\n",
    "    })"
   ]
  },
  {
   "cell_type": "code",
   "execution_count": 9,
   "metadata": {
    "scrolled": true
   },
   "outputs": [
    {
     "data": {
      "text/html": [
       "<div>\n",
       "<style scoped>\n",
       "    .dataframe tbody tr th:only-of-type {\n",
       "        vertical-align: middle;\n",
       "    }\n",
       "\n",
       "    .dataframe tbody tr th {\n",
       "        vertical-align: top;\n",
       "    }\n",
       "\n",
       "    .dataframe thead th {\n",
       "        text-align: right;\n",
       "    }\n",
       "</style>\n",
       "<table border=\"1\" class=\"dataframe\">\n",
       "  <thead>\n",
       "    <tr style=\"text-align: right;\">\n",
       "      <th></th>\n",
       "      <th>Brewery</th>\n",
       "      <th>Address</th>\n",
       "      <th>City</th>\n",
       "      <th>State</th>\n",
       "      <th>ZIP Code</th>\n",
       "    </tr>\n",
       "  </thead>\n",
       "  <tbody>\n",
       "    <tr>\n",
       "      <th>0</th>\n",
       "      <td>5 Rivers Brewing LLC</td>\n",
       "      <td></td>\n",
       "      <td>Spanish Fort</td>\n",
       "      <td>AL</td>\n",
       "      <td>36527</td>\n",
       "    </tr>\n",
       "    <tr>\n",
       "      <th>1</th>\n",
       "      <td>Avondale Brewing Co</td>\n",
       "      <td>201 41st St S</td>\n",
       "      <td>Birmingham</td>\n",
       "      <td>AL</td>\n",
       "      <td>35222</td>\n",
       "    </tr>\n",
       "    <tr>\n",
       "      <th>2</th>\n",
       "      <td>Back Forty Beer Co</td>\n",
       "      <td>200 N 6th St</td>\n",
       "      <td>Gadsden</td>\n",
       "      <td>AL</td>\n",
       "      <td>35901</td>\n",
       "    </tr>\n",
       "    <tr>\n",
       "      <th>3</th>\n",
       "      <td>Back Forty Beer Company - Birmingham</td>\n",
       "      <td>3201 1st Avenue N</td>\n",
       "      <td>Birmingham</td>\n",
       "      <td>AL</td>\n",
       "      <td>35222</td>\n",
       "    </tr>\n",
       "    <tr>\n",
       "      <th>4</th>\n",
       "      <td>Below the Radar Brewing Co</td>\n",
       "      <td>220 Holmes Ave NE</td>\n",
       "      <td>Huntsville</td>\n",
       "      <td>AL</td>\n",
       "      <td>35801</td>\n",
       "    </tr>\n",
       "  </tbody>\n",
       "</table>\n",
       "</div>"
      ],
      "text/plain": [
       "                                Brewery            Address          City  \\\n",
       "0                  5 Rivers Brewing LLC                     Spanish Fort   \n",
       "1                   Avondale Brewing Co      201 41st St S    Birmingham   \n",
       "2                    Back Forty Beer Co       200 N 6th St       Gadsden   \n",
       "3  Back Forty Beer Company - Birmingham  3201 1st Avenue N    Birmingham   \n",
       "4            Below the Radar Brewing Co  220 Holmes Ave NE    Huntsville   \n",
       "\n",
       "  State ZIP Code  \n",
       "0    AL    36527  \n",
       "1    AL    35222  \n",
       "2    AL    35901  \n",
       "3    AL    35222  \n",
       "4    AL    35801  "
      ]
     },
     "execution_count": 9,
     "metadata": {},
     "output_type": "execute_result"
    }
   ],
   "source": [
    "state_df.head()"
   ]
  },
  {
   "cell_type": "code",
   "execution_count": 10,
   "metadata": {
    "scrolled": true
   },
   "outputs": [
    {
     "data": {
      "text/html": [
       "<div>\n",
       "<style scoped>\n",
       "    .dataframe tbody tr th:only-of-type {\n",
       "        vertical-align: middle;\n",
       "    }\n",
       "\n",
       "    .dataframe tbody tr th {\n",
       "        vertical-align: top;\n",
       "    }\n",
       "\n",
       "    .dataframe thead th {\n",
       "        text-align: right;\n",
       "    }\n",
       "</style>\n",
       "<table border=\"1\" class=\"dataframe\">\n",
       "  <thead>\n",
       "    <tr style=\"text-align: right;\">\n",
       "      <th></th>\n",
       "      <th>Brewery</th>\n",
       "      <th>Address</th>\n",
       "      <th>City</th>\n",
       "      <th>State</th>\n",
       "      <th>ZIP Code</th>\n",
       "    </tr>\n",
       "  </thead>\n",
       "  <tbody>\n",
       "    <tr>\n",
       "      <th>count</th>\n",
       "      <td>8503</td>\n",
       "      <td>8503</td>\n",
       "      <td>8503</td>\n",
       "      <td>8503</td>\n",
       "      <td>8429</td>\n",
       "    </tr>\n",
       "    <tr>\n",
       "      <th>unique</th>\n",
       "      <td>8340</td>\n",
       "      <td>7452</td>\n",
       "      <td>3154</td>\n",
       "      <td>50</td>\n",
       "      <td>4960</td>\n",
       "    </tr>\n",
       "    <tr>\n",
       "      <th>top</th>\n",
       "      <td>Ballast Point Brewing Company</td>\n",
       "      <td></td>\n",
       "      <td>Portland</td>\n",
       "      <td>CA</td>\n",
       "      <td>92121</td>\n",
       "    </tr>\n",
       "    <tr>\n",
       "      <th>freq</th>\n",
       "      <td>6</td>\n",
       "      <td>983</td>\n",
       "      <td>100</td>\n",
       "      <td>961</td>\n",
       "      <td>18</td>\n",
       "    </tr>\n",
       "  </tbody>\n",
       "</table>\n",
       "</div>"
      ],
      "text/plain": [
       "                              Brewery Address      City State ZIP Code\n",
       "count                            8503    8503      8503  8503     8429\n",
       "unique                           8340    7452      3154    50     4960\n",
       "top     Ballast Point Brewing Company          Portland    CA    92121\n",
       "freq                                6     983       100   961       18"
      ]
     },
     "execution_count": 10,
     "metadata": {},
     "output_type": "execute_result"
    }
   ],
   "source": [
    "state_df.describe()"
   ]
  },
  {
   "cell_type": "code",
   "execution_count": 11,
   "metadata": {
    "scrolled": true
   },
   "outputs": [
    {
     "name": "stdout",
     "output_type": "stream",
     "text": [
      "8\n"
     ]
    },
    {
     "data": {
      "text/plain": [
       "['Cerveza Aldarra',\n",
       " 'Pirate Republic Brewing',\n",
       " 'Mount Vernon Brewery',\n",
       " 'Cheeky Monkey Brewery and Cidery',\n",
       " 'Cowaramup Brewing Company',\n",
       " 'Eagle Bay Brewing Co',\n",
       " 'Feral Brewing Company',\n",
       " 'Northbridge Brewing Co']"
      ]
     },
     "execution_count": 11,
     "metadata": {},
     "output_type": "execute_result"
    }
   ],
   "source": [
    "print(len(fail_list))\n",
    "fail_list"
   ]
  },
  {
   "cell_type": "markdown",
   "metadata": {},
   "source": [
    "### Save to csv"
   ]
  },
  {
   "cell_type": "code",
   "execution_count": 12,
   "metadata": {},
   "outputs": [],
   "source": [
    "state_df.to_csv(\"Resources/Brewers_Association_Data.csv\")"
   ]
  }
 ],
 "metadata": {
  "kernelspec": {
   "display_name": "Python 3",
   "language": "python",
   "name": "python3"
  },
  "language_info": {
   "codemirror_mode": {
    "name": "ipython",
    "version": 3
   },
   "file_extension": ".py",
   "mimetype": "text/x-python",
   "name": "python",
   "nbconvert_exporter": "python",
   "pygments_lexer": "ipython3",
   "version": "3.6.7"
  }
 },
 "nbformat": 4,
 "nbformat_minor": 2
}
