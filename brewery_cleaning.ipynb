{
 "cells": [
  {
   "cell_type": "code",
   "execution_count": 1,
   "metadata": {},
   "outputs": [],
   "source": [
    "import pandas as pd\n",
    "import numpy as np"
   ]
  },
  {
   "cell_type": "code",
   "execution_count": 2,
   "metadata": {},
   "outputs": [
    {
     "data": {
      "text/html": [
       "<div>\n",
       "<style scoped>\n",
       "    .dataframe tbody tr th:only-of-type {\n",
       "        vertical-align: middle;\n",
       "    }\n",
       "\n",
       "    .dataframe tbody tr th {\n",
       "        vertical-align: top;\n",
       "    }\n",
       "\n",
       "    .dataframe thead th {\n",
       "        text-align: right;\n",
       "    }\n",
       "</style>\n",
       "<table border=\"1\" class=\"dataframe\">\n",
       "  <thead>\n",
       "    <tr style=\"text-align: right;\">\n",
       "      <th></th>\n",
       "      <th>address</th>\n",
       "      <th>categories</th>\n",
       "      <th>city</th>\n",
       "      <th>country</th>\n",
       "      <th>key</th>\n",
       "      <th>lat</th>\n",
       "      <th>long</th>\n",
       "      <th>name</th>\n",
       "      <th>phones</th>\n",
       "      <th>postalCode</th>\n",
       "      <th>province</th>\n",
       "      <th>websites</th>\n",
       "    </tr>\n",
       "  </thead>\n",
       "  <tbody>\n",
       "    <tr>\n",
       "      <th>0</th>\n",
       "      <td>407 Radam Ln</td>\n",
       "      <td>brewery</td>\n",
       "      <td>Austin</td>\n",
       "      <td>US</td>\n",
       "      <td>us/tx/austin/407radamln</td>\n",
       "      <td>NaN</td>\n",
       "      <td>NaN</td>\n",
       "      <td>(512) Brewing Co</td>\n",
       "      <td>5127072337</td>\n",
       "      <td>78745</td>\n",
       "      <td>TX</td>\n",
       "      <td>NaN</td>\n",
       "    </tr>\n",
       "    <tr>\n",
       "      <th>1</th>\n",
       "      <td>1135 N W Galveston Ave</td>\n",
       "      <td>Brewery and Bar</td>\n",
       "      <td>Bend</td>\n",
       "      <td>US</td>\n",
       "      <td>us/or/bend/1135nwgalvestonave</td>\n",
       "      <td>NaN</td>\n",
       "      <td>NaN</td>\n",
       "      <td>10 Barrel Brewing Company, 10 Barrel Brewing Co</td>\n",
       "      <td>(541) 585-1007, 5415851007</td>\n",
       "      <td>97703</td>\n",
       "      <td>OR</td>\n",
       "      <td>10barrel.com</td>\n",
       "    </tr>\n",
       "    <tr>\n",
       "      <th>2</th>\n",
       "      <td>830 W Bannock St</td>\n",
       "      <td>brewery, Restaurant, Pub, Brewery, pub, Brewer...</td>\n",
       "      <td>Boise</td>\n",
       "      <td>US</td>\n",
       "      <td>us/id/boise/830wbannockst</td>\n",
       "      <td>43.617711</td>\n",
       "      <td>-116.202883</td>\n",
       "      <td>10 Barrel Brewing, 10 Barrel Brewing Co.</td>\n",
       "      <td>(208) 344-5870, 2083445870, 2.08344587E9</td>\n",
       "      <td>83702</td>\n",
       "      <td>ID</td>\n",
       "      <td>10barrel.com</td>\n",
       "    </tr>\n",
       "    <tr>\n",
       "      <th>3</th>\n",
       "      <td>1022 Texan Trl</td>\n",
       "      <td>Wine Tours &amp; Tastings, Food &amp; Drink, Tours, Br...</td>\n",
       "      <td>Grapevine</td>\n",
       "      <td>US</td>\n",
       "      <td>us/tx/grapevine/1022texantrl</td>\n",
       "      <td>32.938385</td>\n",
       "      <td>-97.064340</td>\n",
       "      <td>10 Gallon Tours</td>\n",
       "      <td>18174031832, 817 403-1832</td>\n",
       "      <td>76051</td>\n",
       "      <td>TX</td>\n",
       "      <td>http://www.10gallontours.com/</td>\n",
       "    </tr>\n",
       "    <tr>\n",
       "      <th>4</th>\n",
       "      <td>Po Box 135</td>\n",
       "      <td>American Restaurants, Bar &amp; Grill Restaurants,...</td>\n",
       "      <td>Villard</td>\n",
       "      <td>US</td>\n",
       "      <td>us/mn/villard/pobox135</td>\n",
       "      <td>NaN</td>\n",
       "      <td>NaN</td>\n",
       "      <td>10 Mile Tavern</td>\n",
       "      <td>3205542939</td>\n",
       "      <td>56385</td>\n",
       "      <td>MN</td>\n",
       "      <td>http://www.10miletavern.com</td>\n",
       "    </tr>\n",
       "  </tbody>\n",
       "</table>\n",
       "</div>"
      ],
      "text/plain": [
       "                  address                                         categories  \\\n",
       "0            407 Radam Ln                                            brewery   \n",
       "1  1135 N W Galveston Ave                                    Brewery and Bar   \n",
       "2        830 W Bannock St  brewery, Restaurant, Pub, Brewery, pub, Brewer...   \n",
       "3          1022 Texan Trl  Wine Tours & Tastings, Food & Drink, Tours, Br...   \n",
       "4              Po Box 135  American Restaurants, Bar & Grill Restaurants,...   \n",
       "\n",
       "        city country                            key        lat        long  \\\n",
       "0     Austin      US        us/tx/austin/407radamln        NaN         NaN   \n",
       "1       Bend      US  us/or/bend/1135nwgalvestonave        NaN         NaN   \n",
       "2      Boise      US      us/id/boise/830wbannockst  43.617711 -116.202883   \n",
       "3  Grapevine      US   us/tx/grapevine/1022texantrl  32.938385  -97.064340   \n",
       "4    Villard      US         us/mn/villard/pobox135        NaN         NaN   \n",
       "\n",
       "                                              name  \\\n",
       "0                                 (512) Brewing Co   \n",
       "1  10 Barrel Brewing Company, 10 Barrel Brewing Co   \n",
       "2         10 Barrel Brewing, 10 Barrel Brewing Co.   \n",
       "3                                  10 Gallon Tours   \n",
       "4                                   10 Mile Tavern   \n",
       "\n",
       "                                     phones postalCode province  \\\n",
       "0                                5127072337      78745       TX   \n",
       "1                (541) 585-1007, 5415851007      97703       OR   \n",
       "2  (208) 344-5870, 2083445870, 2.08344587E9      83702       ID   \n",
       "3                 18174031832, 817 403-1832      76051       TX   \n",
       "4                                3205542939      56385       MN   \n",
       "\n",
       "                        websites  \n",
       "0                            NaN  \n",
       "1                   10barrel.com  \n",
       "2                   10barrel.com  \n",
       "3  http://www.10gallontours.com/  \n",
       "4    http://www.10miletavern.com  "
      ]
     },
     "execution_count": 2,
     "metadata": {},
     "output_type": "execute_result"
    }
   ],
   "source": [
    "df_1 = pd.read_csv(\"resources/7160_1.csv\")\n",
    "df_1.head()"
   ]
  },
  {
   "cell_type": "code",
   "execution_count": 9,
   "metadata": {},
   "outputs": [
    {
     "data": {
      "text/plain": [
       "address       7375\n",
       "categories    7375\n",
       "city          7375\n",
       "country       7375\n",
       "key           7375\n",
       "lat           5414\n",
       "long          5416\n",
       "name          7375\n",
       "phones        6159\n",
       "postalCode    7272\n",
       "province      7375\n",
       "websites      3548\n",
       "dtype: int64"
      ]
     },
     "execution_count": 9,
     "metadata": {},
     "output_type": "execute_result"
    }
   ],
   "source": [
    "df_1.count()\n",
    "# Lat and lng appear to be limiting factors here, and we really want that data, but zip codes/more data may be more important\n",
    "#clean them individually and merge using pd.concat()?"
   ]
  },
  {
   "cell_type": "code",
   "execution_count": 3,
   "metadata": {},
   "outputs": [
    {
     "data": {
      "text/html": [
       "<div>\n",
       "<style scoped>\n",
       "    .dataframe tbody tr th:only-of-type {\n",
       "        vertical-align: middle;\n",
       "    }\n",
       "\n",
       "    .dataframe tbody tr th {\n",
       "        vertical-align: top;\n",
       "    }\n",
       "\n",
       "    .dataframe thead th {\n",
       "        text-align: right;\n",
       "    }\n",
       "</style>\n",
       "<table border=\"1\" class=\"dataframe\">\n",
       "  <thead>\n",
       "    <tr style=\"text-align: right;\">\n",
       "      <th></th>\n",
       "      <th>id</th>\n",
       "      <th>address</th>\n",
       "      <th>categories</th>\n",
       "      <th>city</th>\n",
       "      <th>country</th>\n",
       "      <th>hours</th>\n",
       "      <th>keys</th>\n",
       "      <th>latitude</th>\n",
       "      <th>longitude</th>\n",
       "      <th>menus</th>\n",
       "      <th>name</th>\n",
       "      <th>postalCode</th>\n",
       "      <th>province</th>\n",
       "      <th>twitter</th>\n",
       "      <th>websites</th>\n",
       "    </tr>\n",
       "  </thead>\n",
       "  <tbody>\n",
       "    <tr>\n",
       "      <th>0</th>\n",
       "      <td>AVweN1T_ByjofQCxwSPL</td>\n",
       "      <td>Syr Airport</td>\n",
       "      <td>Brewery</td>\n",
       "      <td>Syracuse</td>\n",
       "      <td>US</td>\n",
       "      <td>NaN</td>\n",
       "      <td>us/ny/syracuse/syrairport/2098450797</td>\n",
       "      <td>NaN</td>\n",
       "      <td>NaN</td>\n",
       "      <td>NaN</td>\n",
       "      <td>Adirondack Pub</td>\n",
       "      <td>NaN</td>\n",
       "      <td>NY</td>\n",
       "      <td>NaN</td>\n",
       "      <td>NaN</td>\n",
       "    </tr>\n",
       "    <tr>\n",
       "      <th>1</th>\n",
       "      <td>AVwdkF9ZIN2L1WUfxDfw</td>\n",
       "      <td>1320 N Doctor Martin Luther King Dr</td>\n",
       "      <td>Office and Cafeteria Brewer's Hill</td>\n",
       "      <td>Milwaukee</td>\n",
       "      <td>US</td>\n",
       "      <td>NaN</td>\n",
       "      <td>us/wi/milwaukee/1320ndoctormartinlutherkingdr/...</td>\n",
       "      <td>NaN</td>\n",
       "      <td>NaN</td>\n",
       "      <td>NaN</td>\n",
       "      <td>The Waterfront Cafe</td>\n",
       "      <td>53212</td>\n",
       "      <td>WI</td>\n",
       "      <td>NaN</td>\n",
       "      <td>NaN</td>\n",
       "    </tr>\n",
       "    <tr>\n",
       "      <th>2</th>\n",
       "      <td>AVwdlPkf_7pvs4fz7TMr</td>\n",
       "      <td>608 4th St</td>\n",
       "      <td>Brewery Downtown Clovis</td>\n",
       "      <td>Clovis</td>\n",
       "      <td>US</td>\n",
       "      <td>[{\"day\":\"Wed - Sat\",\"hour\":\"5:00 PM - 8:00 PM\"}]</td>\n",
       "      <td>us/ca/clovis/6084thst/-932885010</td>\n",
       "      <td>NaN</td>\n",
       "      <td>NaN</td>\n",
       "      <td>NaN</td>\n",
       "      <td>559 Local Brewing</td>\n",
       "      <td>93612</td>\n",
       "      <td>CA</td>\n",
       "      <td>NaN</td>\n",
       "      <td>http://fresnobrewing.com</td>\n",
       "    </tr>\n",
       "    <tr>\n",
       "      <th>3</th>\n",
       "      <td>AVwcucY0kufWRAb5yWbU</td>\n",
       "      <td>1103 Mills St</td>\n",
       "      <td>breweries &amp; brew pubs</td>\n",
       "      <td>Black Earth</td>\n",
       "      <td>US</td>\n",
       "      <td>NaN</td>\n",
       "      <td>us/wi/blackearth/1103millsst/-757413411</td>\n",
       "      <td>43.138995</td>\n",
       "      <td>-89.747904</td>\n",
       "      <td>NaN</td>\n",
       "      <td>Shack The</td>\n",
       "      <td>53515-9454</td>\n",
       "      <td>WI</td>\n",
       "      <td>NaN</td>\n",
       "      <td>NaN</td>\n",
       "    </tr>\n",
       "    <tr>\n",
       "      <th>4</th>\n",
       "      <td>AVweCkd5kufWRAb5_eaI</td>\n",
       "      <td>130 W Riverside Dr</td>\n",
       "      <td>Brewery and Gastropub Downtown Jeffersonville</td>\n",
       "      <td>Jeffersonville</td>\n",
       "      <td>US</td>\n",
       "      <td>[{\"day\":\"Wed - Thu\",\"hour\":\"3:00 PM - 9:00 PM\"...</td>\n",
       "      <td>us/utica/jeffersonville/130wriversidedr/787280564</td>\n",
       "      <td>NaN</td>\n",
       "      <td>NaN</td>\n",
       "      <td>NaN</td>\n",
       "      <td>Flat12 Bierworks</td>\n",
       "      <td>47130</td>\n",
       "      <td>Utica</td>\n",
       "      <td>flat12bierwerks</td>\n",
       "      <td>http://flat12.me/brewery</td>\n",
       "    </tr>\n",
       "  </tbody>\n",
       "</table>\n",
       "</div>"
      ],
      "text/plain": [
       "                     id                              address  \\\n",
       "0  AVweN1T_ByjofQCxwSPL                          Syr Airport   \n",
       "1  AVwdkF9ZIN2L1WUfxDfw  1320 N Doctor Martin Luther King Dr   \n",
       "2  AVwdlPkf_7pvs4fz7TMr                           608 4th St   \n",
       "3  AVwcucY0kufWRAb5yWbU                        1103 Mills St   \n",
       "4  AVweCkd5kufWRAb5_eaI                   130 W Riverside Dr   \n",
       "\n",
       "                                      categories            city country  \\\n",
       "0                                        Brewery        Syracuse      US   \n",
       "1             Office and Cafeteria Brewer's Hill       Milwaukee      US   \n",
       "2                        Brewery Downtown Clovis          Clovis      US   \n",
       "3                          breweries & brew pubs     Black Earth      US   \n",
       "4  Brewery and Gastropub Downtown Jeffersonville  Jeffersonville      US   \n",
       "\n",
       "                                               hours  \\\n",
       "0                                                NaN   \n",
       "1                                                NaN   \n",
       "2   [{\"day\":\"Wed - Sat\",\"hour\":\"5:00 PM - 8:00 PM\"}]   \n",
       "3                                                NaN   \n",
       "4  [{\"day\":\"Wed - Thu\",\"hour\":\"3:00 PM - 9:00 PM\"...   \n",
       "\n",
       "                                                keys   latitude  longitude  \\\n",
       "0               us/ny/syracuse/syrairport/2098450797        NaN        NaN   \n",
       "1  us/wi/milwaukee/1320ndoctormartinlutherkingdr/...        NaN        NaN   \n",
       "2                   us/ca/clovis/6084thst/-932885010        NaN        NaN   \n",
       "3            us/wi/blackearth/1103millsst/-757413411  43.138995 -89.747904   \n",
       "4  us/utica/jeffersonville/130wriversidedr/787280564        NaN        NaN   \n",
       "\n",
       "  menus                 name  postalCode province          twitter  \\\n",
       "0   NaN       Adirondack Pub         NaN       NY              NaN   \n",
       "1   NaN  The Waterfront Cafe       53212       WI              NaN   \n",
       "2   NaN    559 Local Brewing       93612       CA              NaN   \n",
       "3   NaN            Shack The  53515-9454       WI              NaN   \n",
       "4   NaN     Flat12 Bierworks       47130    Utica  flat12bierwerks   \n",
       "\n",
       "                   websites  \n",
       "0                       NaN  \n",
       "1                       NaN  \n",
       "2  http://fresnobrewing.com  \n",
       "3                       NaN  \n",
       "4  http://flat12.me/brewery  "
      ]
     },
     "execution_count": 3,
     "metadata": {},
     "output_type": "execute_result"
    }
   ],
   "source": [
    "df_2 = pd.read_csv(\"resources/8260_1.csv\")\n",
    "df_2.head()"
   ]
  },
  {
   "cell_type": "code",
   "execution_count": 10,
   "metadata": {},
   "outputs": [
    {
     "data": {
      "text/plain": [
       "id            17823\n",
       "address       17823\n",
       "categories    17823\n",
       "city          17823\n",
       "country       17823\n",
       "hours          8015\n",
       "keys          17823\n",
       "latitude      12324\n",
       "longitude     12324\n",
       "menus          1479\n",
       "name          17823\n",
       "postalCode    17198\n",
       "province      17823\n",
       "twitter        3050\n",
       "websites       6566\n",
       "dtype: int64"
      ]
     },
     "execution_count": 10,
     "metadata": {},
     "output_type": "execute_result"
    }
   ],
   "source": [
    "df_2.count()"
   ]
  },
  {
   "cell_type": "code",
   "execution_count": 12,
   "metadata": {},
   "outputs": [
    {
     "data": {
      "text/plain": [
       "Index(['address', 'categories', 'city', 'country', 'key', 'lat', 'long',\n",
       "       'name', 'phones', 'postalCode', 'province', 'websites'],\n",
       "      dtype='object')"
      ]
     },
     "execution_count": 12,
     "metadata": {},
     "output_type": "execute_result"
    }
   ],
   "source": [
    "df_1.columns"
   ]
  },
  {
   "cell_type": "code",
   "execution_count": 15,
   "metadata": {},
   "outputs": [
    {
     "data": {
      "text/html": [
       "<div>\n",
       "<style scoped>\n",
       "    .dataframe tbody tr th:only-of-type {\n",
       "        vertical-align: middle;\n",
       "    }\n",
       "\n",
       "    .dataframe tbody tr th {\n",
       "        vertical-align: top;\n",
       "    }\n",
       "\n",
       "    .dataframe thead th {\n",
       "        text-align: right;\n",
       "    }\n",
       "</style>\n",
       "<table border=\"1\" class=\"dataframe\">\n",
       "  <thead>\n",
       "    <tr style=\"text-align: right;\">\n",
       "      <th></th>\n",
       "      <th>country</th>\n",
       "      <th>postalCode</th>\n",
       "      <th>province</th>\n",
       "      <th>city</th>\n",
       "      <th>address</th>\n",
       "      <th>lat</th>\n",
       "      <th>long</th>\n",
       "      <th>categories</th>\n",
       "      <th>name</th>\n",
       "    </tr>\n",
       "  </thead>\n",
       "  <tbody>\n",
       "    <tr>\n",
       "      <th>0</th>\n",
       "      <td>US</td>\n",
       "      <td>78745</td>\n",
       "      <td>TX</td>\n",
       "      <td>Austin</td>\n",
       "      <td>407 Radam Ln</td>\n",
       "      <td>NaN</td>\n",
       "      <td>NaN</td>\n",
       "      <td>brewery</td>\n",
       "      <td>(512) Brewing Co</td>\n",
       "    </tr>\n",
       "    <tr>\n",
       "      <th>1</th>\n",
       "      <td>US</td>\n",
       "      <td>97703</td>\n",
       "      <td>OR</td>\n",
       "      <td>Bend</td>\n",
       "      <td>1135 N W Galveston Ave</td>\n",
       "      <td>NaN</td>\n",
       "      <td>NaN</td>\n",
       "      <td>Brewery and Bar</td>\n",
       "      <td>10 Barrel Brewing Company, 10 Barrel Brewing Co</td>\n",
       "    </tr>\n",
       "    <tr>\n",
       "      <th>2</th>\n",
       "      <td>US</td>\n",
       "      <td>83702</td>\n",
       "      <td>ID</td>\n",
       "      <td>Boise</td>\n",
       "      <td>830 W Bannock St</td>\n",
       "      <td>43.617711</td>\n",
       "      <td>-116.202883</td>\n",
       "      <td>brewery, Restaurant, Pub, Brewery, pub, Brewer...</td>\n",
       "      <td>10 Barrel Brewing, 10 Barrel Brewing Co.</td>\n",
       "    </tr>\n",
       "    <tr>\n",
       "      <th>3</th>\n",
       "      <td>US</td>\n",
       "      <td>76051</td>\n",
       "      <td>TX</td>\n",
       "      <td>Grapevine</td>\n",
       "      <td>1022 Texan Trl</td>\n",
       "      <td>32.938385</td>\n",
       "      <td>-97.064340</td>\n",
       "      <td>Wine Tours &amp; Tastings, Food &amp; Drink, Tours, Br...</td>\n",
       "      <td>10 Gallon Tours</td>\n",
       "    </tr>\n",
       "    <tr>\n",
       "      <th>4</th>\n",
       "      <td>US</td>\n",
       "      <td>56385</td>\n",
       "      <td>MN</td>\n",
       "      <td>Villard</td>\n",
       "      <td>Po Box 135</td>\n",
       "      <td>NaN</td>\n",
       "      <td>NaN</td>\n",
       "      <td>American Restaurants, Bar &amp; Grill Restaurants,...</td>\n",
       "      <td>10 Mile Tavern</td>\n",
       "    </tr>\n",
       "  </tbody>\n",
       "</table>\n",
       "</div>"
      ],
      "text/plain": [
       "  country postalCode province       city                 address        lat  \\\n",
       "0      US      78745       TX     Austin            407 Radam Ln        NaN   \n",
       "1      US      97703       OR       Bend  1135 N W Galveston Ave        NaN   \n",
       "2      US      83702       ID      Boise        830 W Bannock St  43.617711   \n",
       "3      US      76051       TX  Grapevine          1022 Texan Trl  32.938385   \n",
       "4      US      56385       MN    Villard              Po Box 135        NaN   \n",
       "\n",
       "         long                                         categories  \\\n",
       "0         NaN                                            brewery   \n",
       "1         NaN                                    Brewery and Bar   \n",
       "2 -116.202883  brewery, Restaurant, Pub, Brewery, pub, Brewer...   \n",
       "3  -97.064340  Wine Tours & Tastings, Food & Drink, Tours, Br...   \n",
       "4         NaN  American Restaurants, Bar & Grill Restaurants,...   \n",
       "\n",
       "                                              name  \n",
       "0                                 (512) Brewing Co  \n",
       "1  10 Barrel Brewing Company, 10 Barrel Brewing Co  \n",
       "2         10 Barrel Brewing, 10 Barrel Brewing Co.  \n",
       "3                                  10 Gallon Tours  \n",
       "4                                   10 Mile Tavern  "
      ]
     },
     "execution_count": 15,
     "metadata": {},
     "output_type": "execute_result"
    }
   ],
   "source": [
    "df_1_selected_columns_df = df_1[[\"country\", \"postalCode\", \"province\", \"city\", \"address\", \"lat\", \"long\", \"categories\", \"name\" ]]\n",
    "df_1_selected_columns_df.head()"
   ]
  },
  {
   "cell_type": "code",
   "execution_count": 17,
   "metadata": {},
   "outputs": [
    {
     "data": {
      "text/plain": [
       "country       7375\n",
       "postalCode    7272\n",
       "province      7375\n",
       "city          7375\n",
       "address       7375\n",
       "lat           5414\n",
       "long          5416\n",
       "categories    7375\n",
       "name          7375\n",
       "dtype: int64"
      ]
     },
     "execution_count": 17,
     "metadata": {},
     "output_type": "execute_result"
    }
   ],
   "source": [
    "df_1_selected_columns_df.count()"
   ]
  },
  {
   "cell_type": "code",
   "execution_count": 18,
   "metadata": {},
   "outputs": [
    {
     "data": {
      "text/plain": [
       "country       7272\n",
       "postalCode    7272\n",
       "province      7272\n",
       "city          7272\n",
       "address       7272\n",
       "lat           5352\n",
       "long          5354\n",
       "categories    7272\n",
       "name          7272\n",
       "dtype: int64"
      ]
     },
     "execution_count": 18,
     "metadata": {},
     "output_type": "execute_result"
    }
   ],
   "source": [
    "# Get rid of rows with NAs in the following columns: country, postalCode, province, city, address\n",
    "\n",
    "df_1_selective_NaN_cleaning_df = df_1_selected_columns_df.dropna(subset = [\"country\", \"postalCode\", \"province\",\\\n",
    "                                                                           \"city\", \"address\"])\n",
    "df_1_selective_NaN_cleaning_df.count()"
   ]
  },
  {
   "cell_type": "code",
   "execution_count": 21,
   "metadata": {},
   "outputs": [
    {
     "data": {
      "text/html": [
       "<div>\n",
       "<style scoped>\n",
       "    .dataframe tbody tr th:only-of-type {\n",
       "        vertical-align: middle;\n",
       "    }\n",
       "\n",
       "    .dataframe tbody tr th {\n",
       "        vertical-align: top;\n",
       "    }\n",
       "\n",
       "    .dataframe thead th {\n",
       "        text-align: right;\n",
       "    }\n",
       "</style>\n",
       "<table border=\"1\" class=\"dataframe\">\n",
       "  <thead>\n",
       "    <tr style=\"text-align: right;\">\n",
       "      <th></th>\n",
       "      <th>country</th>\n",
       "      <th>postalCode</th>\n",
       "      <th>province</th>\n",
       "      <th>city</th>\n",
       "      <th>address</th>\n",
       "      <th>lat</th>\n",
       "      <th>long</th>\n",
       "      <th>categories</th>\n",
       "      <th>name</th>\n",
       "    </tr>\n",
       "  </thead>\n",
       "  <tbody>\n",
       "    <tr>\n",
       "      <th>0</th>\n",
       "      <td>US</td>\n",
       "      <td>78745</td>\n",
       "      <td>TX</td>\n",
       "      <td>Austin</td>\n",
       "      <td>407 Radam Ln</td>\n",
       "      <td>NaN</td>\n",
       "      <td>NaN</td>\n",
       "      <td>brewery</td>\n",
       "      <td>(512) Brewing Co</td>\n",
       "    </tr>\n",
       "    <tr>\n",
       "      <th>1</th>\n",
       "      <td>US</td>\n",
       "      <td>97703</td>\n",
       "      <td>OR</td>\n",
       "      <td>Bend</td>\n",
       "      <td>1135 N W Galveston Ave</td>\n",
       "      <td>NaN</td>\n",
       "      <td>NaN</td>\n",
       "      <td>Brewery and Bar</td>\n",
       "      <td>10 Barrel Brewing Company, 10 Barrel Brewing Co</td>\n",
       "    </tr>\n",
       "    <tr>\n",
       "      <th>2</th>\n",
       "      <td>US</td>\n",
       "      <td>83702</td>\n",
       "      <td>ID</td>\n",
       "      <td>Boise</td>\n",
       "      <td>830 W Bannock St</td>\n",
       "      <td>43.617711</td>\n",
       "      <td>-116.202883</td>\n",
       "      <td>brewery, Restaurant, Pub, Brewery, pub, Brewer...</td>\n",
       "      <td>10 Barrel Brewing, 10 Barrel Brewing Co.</td>\n",
       "    </tr>\n",
       "    <tr>\n",
       "      <th>3</th>\n",
       "      <td>US</td>\n",
       "      <td>76051</td>\n",
       "      <td>TX</td>\n",
       "      <td>Grapevine</td>\n",
       "      <td>1022 Texan Trl</td>\n",
       "      <td>32.938385</td>\n",
       "      <td>-97.064340</td>\n",
       "      <td>Wine Tours &amp; Tastings, Food &amp; Drink, Tours, Br...</td>\n",
       "      <td>10 Gallon Tours</td>\n",
       "    </tr>\n",
       "    <tr>\n",
       "      <th>4</th>\n",
       "      <td>US</td>\n",
       "      <td>56385</td>\n",
       "      <td>MN</td>\n",
       "      <td>Villard</td>\n",
       "      <td>Po Box 135</td>\n",
       "      <td>NaN</td>\n",
       "      <td>NaN</td>\n",
       "      <td>American Restaurants, Bar &amp; Grill Restaurants,...</td>\n",
       "      <td>10 Mile Tavern</td>\n",
       "    </tr>\n",
       "  </tbody>\n",
       "</table>\n",
       "</div>"
      ],
      "text/plain": [
       "  country postalCode province       city                 address        lat  \\\n",
       "0      US      78745       TX     Austin            407 Radam Ln        NaN   \n",
       "1      US      97703       OR       Bend  1135 N W Galveston Ave        NaN   \n",
       "2      US      83702       ID      Boise        830 W Bannock St  43.617711   \n",
       "3      US      76051       TX  Grapevine          1022 Texan Trl  32.938385   \n",
       "4      US      56385       MN    Villard              Po Box 135        NaN   \n",
       "\n",
       "         long                                         categories  \\\n",
       "0         NaN                                            brewery   \n",
       "1         NaN                                    Brewery and Bar   \n",
       "2 -116.202883  brewery, Restaurant, Pub, Brewery, pub, Brewer...   \n",
       "3  -97.064340  Wine Tours & Tastings, Food & Drink, Tours, Br...   \n",
       "4         NaN  American Restaurants, Bar & Grill Restaurants,...   \n",
       "\n",
       "                                              name  \n",
       "0                                 (512) Brewing Co  \n",
       "1  10 Barrel Brewing Company, 10 Barrel Brewing Co  \n",
       "2         10 Barrel Brewing, 10 Barrel Brewing Co.  \n",
       "3                                  10 Gallon Tours  \n",
       "4                                   10 Mile Tavern  "
      ]
     },
     "execution_count": 21,
     "metadata": {},
     "output_type": "execute_result"
    }
   ],
   "source": [
    "df_1_selective_NaN_cleaning_df.head()"
   ]
  },
  {
   "cell_type": "code",
   "execution_count": 22,
   "metadata": {},
   "outputs": [
    {
     "data": {
      "text/plain": [
       "US    7272\n",
       "Name: country, dtype: int64"
      ]
     },
     "execution_count": 22,
     "metadata": {},
     "output_type": "execute_result"
    }
   ],
   "source": [
    "df_1_selective_NaN_cleaning_df[\"country\"].value_counts()"
   ]
  },
  {
   "cell_type": "code",
   "execution_count": 23,
   "metadata": {},
   "outputs": [
    {
     "data": {
      "text/plain": [
       "CA             889\n",
       "NY             457\n",
       "PA             396\n",
       "OH             372\n",
       "ME             325\n",
       "WI             324\n",
       "WA             322\n",
       "TX             308\n",
       "CO             301\n",
       "OR             293\n",
       "MI             266\n",
       "FL             265\n",
       "IL             230\n",
       "NC             177\n",
       "VA             171\n",
       "AZ             153\n",
       "NJ             149\n",
       "IN             144\n",
       "MD             124\n",
       "MO             123\n",
       "MN             108\n",
       "IA             106\n",
       "MA             104\n",
       "TN              95\n",
       "GA              77\n",
       "MT              73\n",
       "AL              67\n",
       "SC              58\n",
       "VT              57\n",
       "NV              56\n",
       "              ... \n",
       "KY              51\n",
       "NE              49\n",
       "NH              49\n",
       "NM              48\n",
       "ID              45\n",
       "LA              35\n",
       "UT              33\n",
       "KS              32\n",
       "WV              32\n",
       "AK              27\n",
       "OK              25\n",
       "HI              24\n",
       "DE              23\n",
       "RI              20\n",
       "WY              16\n",
       "DC              14\n",
       "SD              13\n",
       "AU-WA           13\n",
       "MS              10\n",
       "ND               5\n",
       "Denver           2\n",
       "St. Louis        1\n",
       "Tampa            1\n",
       "ON               1\n",
       "NL               1\n",
       "Sacramento       1\n",
       "San Diego        1\n",
       "Pittsburgh       1\n",
       "Los Angeles      1\n",
       "AB               1\n",
       "Name: province, Length: 62, dtype: int64"
      ]
     },
     "execution_count": 23,
     "metadata": {},
     "output_type": "execute_result"
    }
   ],
   "source": [
    "df_1_selective_NaN_cleaning_df[\"province\"].value_counts()\n",
    "\n",
    "# I'm going to need to remove any province listings that aren't US states. Time for a template."
   ]
  },
  {
   "cell_type": "code",
   "execution_count": 26,
   "metadata": {},
   "outputs": [
    {
     "data": {
      "text/html": [
       "<div>\n",
       "<style scoped>\n",
       "    .dataframe tbody tr th:only-of-type {\n",
       "        vertical-align: middle;\n",
       "    }\n",
       "\n",
       "    .dataframe tbody tr th {\n",
       "        vertical-align: top;\n",
       "    }\n",
       "\n",
       "    .dataframe thead th {\n",
       "        text-align: right;\n",
       "    }\n",
       "</style>\n",
       "<table border=\"1\" class=\"dataframe\">\n",
       "  <thead>\n",
       "    <tr style=\"text-align: right;\">\n",
       "      <th></th>\n",
       "      <th>state_cap</th>\n",
       "      <th>state_name</th>\n",
       "      <th>abbrv</th>\n",
       "      <th>name</th>\n",
       "    </tr>\n",
       "  </thead>\n",
       "  <tbody>\n",
       "    <tr>\n",
       "      <th>0</th>\n",
       "      <td>ALABAMA</td>\n",
       "      <td>Alabama</td>\n",
       "      <td>AL</td>\n",
       "      <td>Ala.</td>\n",
       "    </tr>\n",
       "    <tr>\n",
       "      <th>1</th>\n",
       "      <td>ALASKA</td>\n",
       "      <td>Alaska</td>\n",
       "      <td>AK</td>\n",
       "      <td>Alaska</td>\n",
       "    </tr>\n",
       "    <tr>\n",
       "      <th>2</th>\n",
       "      <td>ARIZONA</td>\n",
       "      <td>Arizona</td>\n",
       "      <td>AZ</td>\n",
       "      <td>Ariz.</td>\n",
       "    </tr>\n",
       "    <tr>\n",
       "      <th>3</th>\n",
       "      <td>ARKANSAS</td>\n",
       "      <td>Arkansas</td>\n",
       "      <td>AR</td>\n",
       "      <td>Ark.</td>\n",
       "    </tr>\n",
       "    <tr>\n",
       "      <th>4</th>\n",
       "      <td>CALIFORNIA</td>\n",
       "      <td>California</td>\n",
       "      <td>CA</td>\n",
       "      <td>Calif.</td>\n",
       "    </tr>\n",
       "  </tbody>\n",
       "</table>\n",
       "</div>"
      ],
      "text/plain": [
       "    state_cap  state_name abbrv    name\n",
       "0     ALABAMA     Alabama    AL    Ala.\n",
       "1      ALASKA      Alaska    AK  Alaska\n",
       "2     ARIZONA     Arizona    AZ   Ariz.\n",
       "3    ARKANSAS    Arkansas    AR    Ark.\n",
       "4  CALIFORNIA  California    CA  Calif."
      ]
     },
     "execution_count": 26,
     "metadata": {},
     "output_type": "execute_result"
    }
   ],
   "source": [
    "state_names_df = pd.read_csv(\"resources/50_us_states_all_data.csv\")\n",
    "state_names_df.head()"
   ]
  },
  {
   "cell_type": "code",
   "execution_count": 28,
   "metadata": {},
   "outputs": [
    {
     "name": "stdout",
     "output_type": "stream",
     "text": [
      "50\n"
     ]
    }
   ],
   "source": [
    "states_list = state_names_df[\"abbrv\"].values.tolist()\n",
    "print(len(states_list))"
   ]
  },
  {
   "cell_type": "code",
   "execution_count": 34,
   "metadata": {},
   "outputs": [
    {
     "data": {
      "text/plain": [
       "CA    889\n",
       "NY    457\n",
       "PA    396\n",
       "OH    372\n",
       "ME    325\n",
       "WI    324\n",
       "WA    322\n",
       "TX    308\n",
       "CO    301\n",
       "OR    293\n",
       "MI    266\n",
       "FL    265\n",
       "IL    230\n",
       "NC    177\n",
       "VA    171\n",
       "AZ    153\n",
       "NJ    149\n",
       "IN    144\n",
       "MD    124\n",
       "MO    123\n",
       "MN    108\n",
       "IA    106\n",
       "MA    104\n",
       "TN     95\n",
       "GA     77\n",
       "MT     73\n",
       "AL     67\n",
       "SC     58\n",
       "VT     57\n",
       "NV     56\n",
       "AR     55\n",
       "CT     52\n",
       "KY     51\n",
       "NH     49\n",
       "NE     49\n",
       "NM     48\n",
       "ID     45\n",
       "LA     35\n",
       "UT     33\n",
       "KS     32\n",
       "WV     32\n",
       "AK     27\n",
       "OK     25\n",
       "HI     24\n",
       "DE     23\n",
       "RI     20\n",
       "WY     16\n",
       "SD     13\n",
       "MS     10\n",
       "ND      5\n",
       "Name: province, dtype: int64"
      ]
     },
     "execution_count": 34,
     "metadata": {},
     "output_type": "execute_result"
    }
   ],
   "source": [
    "df_1_states_only_df = df_1_selective_NaN_cleaning_df[df_1_selective_NaN_cleaning_df[\"province\"].isin(states_list)]\n",
    "df_1_states_only_df[\"province\"].value_counts()"
   ]
  },
  {
   "cell_type": "code",
   "execution_count": 35,
   "metadata": {},
   "outputs": [
    {
     "data": {
      "text/plain": [
       "50"
      ]
     },
     "execution_count": 35,
     "metadata": {},
     "output_type": "execute_result"
    }
   ],
   "source": [
    "len(df_1_states_only_df[\"province\"].value_counts())"
   ]
  },
  {
   "cell_type": "code",
   "execution_count": 36,
   "metadata": {},
   "outputs": [
    {
     "data": {
      "text/html": [
       "<div>\n",
       "<style scoped>\n",
       "    .dataframe tbody tr th:only-of-type {\n",
       "        vertical-align: middle;\n",
       "    }\n",
       "\n",
       "    .dataframe tbody tr th {\n",
       "        vertical-align: top;\n",
       "    }\n",
       "\n",
       "    .dataframe thead th {\n",
       "        text-align: right;\n",
       "    }\n",
       "</style>\n",
       "<table border=\"1\" class=\"dataframe\">\n",
       "  <thead>\n",
       "    <tr style=\"text-align: right;\">\n",
       "      <th></th>\n",
       "      <th>country</th>\n",
       "      <th>postalCode</th>\n",
       "      <th>province</th>\n",
       "      <th>city</th>\n",
       "      <th>address</th>\n",
       "      <th>lat</th>\n",
       "      <th>long</th>\n",
       "      <th>categories</th>\n",
       "      <th>name</th>\n",
       "    </tr>\n",
       "  </thead>\n",
       "  <tbody>\n",
       "    <tr>\n",
       "      <th>0</th>\n",
       "      <td>US</td>\n",
       "      <td>78745</td>\n",
       "      <td>TX</td>\n",
       "      <td>Austin</td>\n",
       "      <td>407 Radam Ln</td>\n",
       "      <td>NaN</td>\n",
       "      <td>NaN</td>\n",
       "      <td>brewery</td>\n",
       "      <td>(512) Brewing Co</td>\n",
       "    </tr>\n",
       "    <tr>\n",
       "      <th>1</th>\n",
       "      <td>US</td>\n",
       "      <td>97703</td>\n",
       "      <td>OR</td>\n",
       "      <td>Bend</td>\n",
       "      <td>1135 N W Galveston Ave</td>\n",
       "      <td>NaN</td>\n",
       "      <td>NaN</td>\n",
       "      <td>Brewery and Bar</td>\n",
       "      <td>10 Barrel Brewing Company, 10 Barrel Brewing Co</td>\n",
       "    </tr>\n",
       "    <tr>\n",
       "      <th>2</th>\n",
       "      <td>US</td>\n",
       "      <td>83702</td>\n",
       "      <td>ID</td>\n",
       "      <td>Boise</td>\n",
       "      <td>830 W Bannock St</td>\n",
       "      <td>43.617711</td>\n",
       "      <td>-116.202883</td>\n",
       "      <td>brewery, Restaurant, Pub, Brewery, pub, Brewer...</td>\n",
       "      <td>10 Barrel Brewing, 10 Barrel Brewing Co.</td>\n",
       "    </tr>\n",
       "    <tr>\n",
       "      <th>3</th>\n",
       "      <td>US</td>\n",
       "      <td>76051</td>\n",
       "      <td>TX</td>\n",
       "      <td>Grapevine</td>\n",
       "      <td>1022 Texan Trl</td>\n",
       "      <td>32.938385</td>\n",
       "      <td>-97.064340</td>\n",
       "      <td>Wine Tours &amp; Tastings, Food &amp; Drink, Tours, Br...</td>\n",
       "      <td>10 Gallon Tours</td>\n",
       "    </tr>\n",
       "    <tr>\n",
       "      <th>4</th>\n",
       "      <td>US</td>\n",
       "      <td>56385</td>\n",
       "      <td>MN</td>\n",
       "      <td>Villard</td>\n",
       "      <td>Po Box 135</td>\n",
       "      <td>NaN</td>\n",
       "      <td>NaN</td>\n",
       "      <td>American Restaurants, Bar &amp; Grill Restaurants,...</td>\n",
       "      <td>10 Mile Tavern</td>\n",
       "    </tr>\n",
       "  </tbody>\n",
       "</table>\n",
       "</div>"
      ],
      "text/plain": [
       "  country postalCode province       city                 address        lat  \\\n",
       "0      US      78745       TX     Austin            407 Radam Ln        NaN   \n",
       "1      US      97703       OR       Bend  1135 N W Galveston Ave        NaN   \n",
       "2      US      83702       ID      Boise        830 W Bannock St  43.617711   \n",
       "3      US      76051       TX  Grapevine          1022 Texan Trl  32.938385   \n",
       "4      US      56385       MN    Villard              Po Box 135        NaN   \n",
       "\n",
       "         long                                         categories  \\\n",
       "0         NaN                                            brewery   \n",
       "1         NaN                                    Brewery and Bar   \n",
       "2 -116.202883  brewery, Restaurant, Pub, Brewery, pub, Brewer...   \n",
       "3  -97.064340  Wine Tours & Tastings, Food & Drink, Tours, Br...   \n",
       "4         NaN  American Restaurants, Bar & Grill Restaurants,...   \n",
       "\n",
       "                                              name  \n",
       "0                                 (512) Brewing Co  \n",
       "1  10 Barrel Brewing Company, 10 Barrel Brewing Co  \n",
       "2         10 Barrel Brewing, 10 Barrel Brewing Co.  \n",
       "3                                  10 Gallon Tours  \n",
       "4                                   10 Mile Tavern  "
      ]
     },
     "execution_count": 36,
     "metadata": {},
     "output_type": "execute_result"
    }
   ],
   "source": [
    "df_1_states_only_df.head()"
   ]
  },
  {
   "cell_type": "code",
   "execution_count": 37,
   "metadata": {},
   "outputs": [
    {
     "data": {
      "text/plain": [
       "country       7234\n",
       "postalCode    7234\n",
       "province      7234\n",
       "city          7234\n",
       "address       7234\n",
       "lat           5334\n",
       "long          5336\n",
       "categories    7234\n",
       "name          7234\n",
       "dtype: int64"
      ]
     },
     "execution_count": 37,
     "metadata": {},
     "output_type": "execute_result"
    }
   ],
   "source": [
    "df_1_states_only_df.count()"
   ]
  },
  {
   "cell_type": "code",
   "execution_count": null,
   "metadata": {},
   "outputs": [],
   "source": []
  },
  {
   "cell_type": "code",
   "execution_count": null,
   "metadata": {},
   "outputs": [],
   "source": []
  },
  {
   "cell_type": "code",
   "execution_count": null,
   "metadata": {},
   "outputs": [],
   "source": []
  },
  {
   "cell_type": "code",
   "execution_count": null,
   "metadata": {},
   "outputs": [],
   "source": []
  },
  {
   "cell_type": "code",
   "execution_count": null,
   "metadata": {},
   "outputs": [],
   "source": []
  },
  {
   "cell_type": "code",
   "execution_count": 14,
   "metadata": {},
   "outputs": [
    {
     "data": {
      "text/plain": [
       "Index(['id', 'address', 'categories', 'city', 'country', 'hours', 'keys',\n",
       "       'latitude', 'longitude', 'menus', 'name', 'postalCode', 'province',\n",
       "       'twitter', 'websites'],\n",
       "      dtype='object')"
      ]
     },
     "execution_count": 14,
     "metadata": {},
     "output_type": "execute_result"
    }
   ],
   "source": [
    "df_2.columns"
   ]
  },
  {
   "cell_type": "code",
   "execution_count": 16,
   "metadata": {},
   "outputs": [
    {
     "data": {
      "text/html": [
       "<div>\n",
       "<style scoped>\n",
       "    .dataframe tbody tr th:only-of-type {\n",
       "        vertical-align: middle;\n",
       "    }\n",
       "\n",
       "    .dataframe tbody tr th {\n",
       "        vertical-align: top;\n",
       "    }\n",
       "\n",
       "    .dataframe thead th {\n",
       "        text-align: right;\n",
       "    }\n",
       "</style>\n",
       "<table border=\"1\" class=\"dataframe\">\n",
       "  <thead>\n",
       "    <tr style=\"text-align: right;\">\n",
       "      <th></th>\n",
       "      <th>country</th>\n",
       "      <th>postalCode</th>\n",
       "      <th>province</th>\n",
       "      <th>city</th>\n",
       "      <th>address</th>\n",
       "      <th>latitude</th>\n",
       "      <th>longitude</th>\n",
       "      <th>categories</th>\n",
       "      <th>name</th>\n",
       "    </tr>\n",
       "  </thead>\n",
       "  <tbody>\n",
       "    <tr>\n",
       "      <th>0</th>\n",
       "      <td>US</td>\n",
       "      <td>NaN</td>\n",
       "      <td>NY</td>\n",
       "      <td>Syracuse</td>\n",
       "      <td>Syr Airport</td>\n",
       "      <td>NaN</td>\n",
       "      <td>NaN</td>\n",
       "      <td>Brewery</td>\n",
       "      <td>Adirondack Pub</td>\n",
       "    </tr>\n",
       "    <tr>\n",
       "      <th>1</th>\n",
       "      <td>US</td>\n",
       "      <td>53212</td>\n",
       "      <td>WI</td>\n",
       "      <td>Milwaukee</td>\n",
       "      <td>1320 N Doctor Martin Luther King Dr</td>\n",
       "      <td>NaN</td>\n",
       "      <td>NaN</td>\n",
       "      <td>Office and Cafeteria Brewer's Hill</td>\n",
       "      <td>The Waterfront Cafe</td>\n",
       "    </tr>\n",
       "    <tr>\n",
       "      <th>2</th>\n",
       "      <td>US</td>\n",
       "      <td>93612</td>\n",
       "      <td>CA</td>\n",
       "      <td>Clovis</td>\n",
       "      <td>608 4th St</td>\n",
       "      <td>NaN</td>\n",
       "      <td>NaN</td>\n",
       "      <td>Brewery Downtown Clovis</td>\n",
       "      <td>559 Local Brewing</td>\n",
       "    </tr>\n",
       "    <tr>\n",
       "      <th>3</th>\n",
       "      <td>US</td>\n",
       "      <td>53515-9454</td>\n",
       "      <td>WI</td>\n",
       "      <td>Black Earth</td>\n",
       "      <td>1103 Mills St</td>\n",
       "      <td>43.138995</td>\n",
       "      <td>-89.747904</td>\n",
       "      <td>breweries &amp; brew pubs</td>\n",
       "      <td>Shack The</td>\n",
       "    </tr>\n",
       "    <tr>\n",
       "      <th>4</th>\n",
       "      <td>US</td>\n",
       "      <td>47130</td>\n",
       "      <td>Utica</td>\n",
       "      <td>Jeffersonville</td>\n",
       "      <td>130 W Riverside Dr</td>\n",
       "      <td>NaN</td>\n",
       "      <td>NaN</td>\n",
       "      <td>Brewery and Gastropub Downtown Jeffersonville</td>\n",
       "      <td>Flat12 Bierworks</td>\n",
       "    </tr>\n",
       "  </tbody>\n",
       "</table>\n",
       "</div>"
      ],
      "text/plain": [
       "  country  postalCode province            city  \\\n",
       "0      US         NaN       NY        Syracuse   \n",
       "1      US       53212       WI       Milwaukee   \n",
       "2      US       93612       CA          Clovis   \n",
       "3      US  53515-9454       WI     Black Earth   \n",
       "4      US       47130    Utica  Jeffersonville   \n",
       "\n",
       "                               address   latitude  longitude  \\\n",
       "0                          Syr Airport        NaN        NaN   \n",
       "1  1320 N Doctor Martin Luther King Dr        NaN        NaN   \n",
       "2                           608 4th St        NaN        NaN   \n",
       "3                        1103 Mills St  43.138995 -89.747904   \n",
       "4                   130 W Riverside Dr        NaN        NaN   \n",
       "\n",
       "                                      categories                 name  \n",
       "0                                        Brewery       Adirondack Pub  \n",
       "1             Office and Cafeteria Brewer's Hill  The Waterfront Cafe  \n",
       "2                        Brewery Downtown Clovis    559 Local Brewing  \n",
       "3                          breweries & brew pubs            Shack The  \n",
       "4  Brewery and Gastropub Downtown Jeffersonville     Flat12 Bierworks  "
      ]
     },
     "execution_count": 16,
     "metadata": {},
     "output_type": "execute_result"
    }
   ],
   "source": [
    "df_2_selected_columns_df = df_2[[\"country\", \"postalCode\", \"province\", \"city\", \"address\", \"latitude\", \"longitude\",\\\n",
    "                                 \"categories\", \"name\" ]]\n",
    "df_2_selected_columns_df.head()\n",
    "\n",
    "# Notice that I'll have to use some regex on postal codes that aren't just the five digit kind."
   ]
  },
  {
   "cell_type": "code",
   "execution_count": 19,
   "metadata": {},
   "outputs": [
    {
     "data": {
      "text/plain": [
       "country       17823\n",
       "postalCode    17198\n",
       "province      17823\n",
       "city          17823\n",
       "address       17823\n",
       "latitude      12324\n",
       "longitude     12324\n",
       "categories    17823\n",
       "name          17823\n",
       "dtype: int64"
      ]
     },
     "execution_count": 19,
     "metadata": {},
     "output_type": "execute_result"
    }
   ],
   "source": [
    "df_2_selected_columns_df.count()"
   ]
  },
  {
   "cell_type": "code",
   "execution_count": 20,
   "metadata": {},
   "outputs": [
    {
     "data": {
      "text/plain": [
       "country       17198\n",
       "postalCode    17198\n",
       "province      17198\n",
       "city          17198\n",
       "address       17198\n",
       "latitude      11839\n",
       "longitude     11839\n",
       "categories    17198\n",
       "name          17198\n",
       "dtype: int64"
      ]
     },
     "execution_count": 20,
     "metadata": {},
     "output_type": "execute_result"
    }
   ],
   "source": [
    "df_2_selective_NaN_cleaning_df = df_2_selected_columns_df.dropna(subset = [\"country\", \"postalCode\", \"province\", \"city\",\\\n",
    "                                                                           \"address\"])\n",
    "df_2_selective_NaN_cleaning_df.count()"
   ]
  },
  {
   "cell_type": "code",
   "execution_count": 38,
   "metadata": {},
   "outputs": [
    {
     "data": {
      "text/plain": [
       "50"
      ]
     },
     "execution_count": 38,
     "metadata": {},
     "output_type": "execute_result"
    }
   ],
   "source": [
    "df_2_states_only_df = df_2_selective_NaN_cleaning_df[df_2_selective_NaN_cleaning_df[\"province\"].isin(states_list)]\n",
    "len(df_2_states_only_df[\"province\"].value_counts())"
   ]
  },
  {
   "cell_type": "code",
   "execution_count": 39,
   "metadata": {},
   "outputs": [
    {
     "data": {
      "text/plain": [
       "country       15574\n",
       "postalCode    15574\n",
       "province      15574\n",
       "city          15574\n",
       "address       15574\n",
       "latitude      10560\n",
       "longitude     10560\n",
       "categories    15574\n",
       "name          15574\n",
       "dtype: int64"
      ]
     },
     "execution_count": 39,
     "metadata": {},
     "output_type": "execute_result"
    }
   ],
   "source": [
    "df_2_states_only_df.count()"
   ]
  },
  {
   "cell_type": "code",
   "execution_count": null,
   "metadata": {},
   "outputs": [],
   "source": []
  },
  {
   "cell_type": "code",
   "execution_count": null,
   "metadata": {},
   "outputs": [],
   "source": []
  },
  {
   "cell_type": "code",
   "execution_count": null,
   "metadata": {},
   "outputs": [],
   "source": []
  },
  {
   "cell_type": "code",
   "execution_count": null,
   "metadata": {},
   "outputs": [],
   "source": []
  },
  {
   "cell_type": "code",
   "execution_count": null,
   "metadata": {},
   "outputs": [],
   "source": [
    "# Check for duplicates between the two datasets after concatenating them."
   ]
  }
 ],
 "metadata": {
  "kernelspec": {
   "display_name": "Python 3",
   "language": "python",
   "name": "python3"
  },
  "language_info": {
   "codemirror_mode": {
    "name": "ipython",
    "version": 3
   },
   "file_extension": ".py",
   "mimetype": "text/x-python",
   "name": "python",
   "nbconvert_exporter": "python",
   "pygments_lexer": "ipython3",
   "version": "3.7.1"
  }
 },
 "nbformat": 4,
 "nbformat_minor": 2
}
