{
 "cells": [
  {
   "cell_type": "code",
   "execution_count": 1,
   "metadata": {},
   "outputs": [],
   "source": [
    "import pandas as pd\n",
    "import numpy as np\n"
   ]
  },
  {
   "cell_type": "code",
   "execution_count": 2,
   "metadata": {},
   "outputs": [
    {
     "data": {
      "text/html": [
       "<div>\n",
       "<style scoped>\n",
       "    .dataframe tbody tr th:only-of-type {\n",
       "        vertical-align: middle;\n",
       "    }\n",
       "\n",
       "    .dataframe tbody tr th {\n",
       "        vertical-align: top;\n",
       "    }\n",
       "\n",
       "    .dataframe thead th {\n",
       "        text-align: right;\n",
       "    }\n",
       "</style>\n",
       "<table border=\"1\" class=\"dataframe\">\n",
       "  <thead>\n",
       "    <tr style=\"text-align: right;\">\n",
       "      <th></th>\n",
       "      <th>Brewery</th>\n",
       "      <th>Address</th>\n",
       "      <th>City</th>\n",
       "      <th>State</th>\n",
       "      <th>ZIP Code</th>\n",
       "    </tr>\n",
       "  </thead>\n",
       "  <tbody>\n",
       "    <tr>\n",
       "      <th>0</th>\n",
       "      <td>5 Rivers Brewing LLC</td>\n",
       "      <td>NaN</td>\n",
       "      <td>Spanish Fort</td>\n",
       "      <td>AL</td>\n",
       "      <td>36527.0</td>\n",
       "    </tr>\n",
       "    <tr>\n",
       "      <th>1</th>\n",
       "      <td>Avondale Brewing Co</td>\n",
       "      <td>201 41st St S</td>\n",
       "      <td>Birmingham</td>\n",
       "      <td>AL</td>\n",
       "      <td>35222.0</td>\n",
       "    </tr>\n",
       "    <tr>\n",
       "      <th>2</th>\n",
       "      <td>Back Forty Beer Co</td>\n",
       "      <td>200 N 6th St</td>\n",
       "      <td>Gadsden</td>\n",
       "      <td>AL</td>\n",
       "      <td>35901.0</td>\n",
       "    </tr>\n",
       "    <tr>\n",
       "      <th>3</th>\n",
       "      <td>Back Forty Beer Company - Birmingham</td>\n",
       "      <td>3201 1st Avenue N</td>\n",
       "      <td>Birmingham</td>\n",
       "      <td>AL</td>\n",
       "      <td>35222.0</td>\n",
       "    </tr>\n",
       "    <tr>\n",
       "      <th>4</th>\n",
       "      <td>Below the Radar Brewing Co</td>\n",
       "      <td>220 Holmes Ave NE</td>\n",
       "      <td>Huntsville</td>\n",
       "      <td>AL</td>\n",
       "      <td>35801.0</td>\n",
       "    </tr>\n",
       "  </tbody>\n",
       "</table>\n",
       "</div>"
      ],
      "text/plain": [
       "                                Brewery            Address          City  \\\n",
       "0                  5 Rivers Brewing LLC                NaN  Spanish Fort   \n",
       "1                   Avondale Brewing Co      201 41st St S    Birmingham   \n",
       "2                    Back Forty Beer Co       200 N 6th St       Gadsden   \n",
       "3  Back Forty Beer Company - Birmingham  3201 1st Avenue N    Birmingham   \n",
       "4            Below the Radar Brewing Co  220 Holmes Ave NE    Huntsville   \n",
       "\n",
       "  State  ZIP Code  \n",
       "0    AL   36527.0  \n",
       "1    AL   35222.0  \n",
       "2    AL   35901.0  \n",
       "3    AL   35222.0  \n",
       "4    AL   35801.0  "
      ]
     },
     "execution_count": 2,
     "metadata": {},
     "output_type": "execute_result"
    }
   ],
   "source": [
    "brewers_data= pd.read_csv(\"resources/Brewers_Association_Data.csv\", index_col=0)\n",
    "brewers_data.head()"
   ]
  },
  {
   "cell_type": "code",
   "execution_count": 3,
   "metadata": {},
   "outputs": [
    {
     "data": {
      "text/plain": [
       "Brewery      object\n",
       "Address      object\n",
       "City         object\n",
       "State        object\n",
       "ZIP Code    float64\n",
       "dtype: object"
      ]
     },
     "execution_count": 3,
     "metadata": {},
     "output_type": "execute_result"
    }
   ],
   "source": [
    "brewers_data.dtypes"
   ]
  },
  {
   "cell_type": "code",
   "execution_count": 4,
   "metadata": {},
   "outputs": [
    {
     "data": {
      "text/plain": [
       "Brewery     object\n",
       "Address     object\n",
       "City        object\n",
       "State       object\n",
       "ZIP Code    object\n",
       "dtype: object"
      ]
     },
     "execution_count": 4,
     "metadata": {},
     "output_type": "execute_result"
    }
   ],
   "source": [
    "brewers_data[\"Address\"] = brewers_data[\"Address\"].astype(\"str\")\n",
    "brewers_data[\"Brewery\"] = brewers_data[\"Brewery\"].astype(\"str\")\n",
    "brewers_data[\"ZIP Code\"] = brewers_data[\"ZIP Code\"].astype(\"str\")\n",
    "brewers_data.dtypes"
   ]
  },
  {
   "cell_type": "code",
   "execution_count": 5,
   "metadata": {},
   "outputs": [
    {
     "data": {
      "text/html": [
       "<div>\n",
       "<style scoped>\n",
       "    .dataframe tbody tr th:only-of-type {\n",
       "        vertical-align: middle;\n",
       "    }\n",
       "\n",
       "    .dataframe tbody tr th {\n",
       "        vertical-align: top;\n",
       "    }\n",
       "\n",
       "    .dataframe thead th {\n",
       "        text-align: right;\n",
       "    }\n",
       "</style>\n",
       "<table border=\"1\" class=\"dataframe\">\n",
       "  <thead>\n",
       "    <tr style=\"text-align: right;\">\n",
       "      <th></th>\n",
       "      <th>Brewery</th>\n",
       "      <th>Address</th>\n",
       "      <th>City</th>\n",
       "      <th>State</th>\n",
       "      <th>ZIP Code</th>\n",
       "    </tr>\n",
       "  </thead>\n",
       "  <tbody>\n",
       "    <tr>\n",
       "      <th>0</th>\n",
       "      <td>5 rivers brewing llc</td>\n",
       "      <td>nan</td>\n",
       "      <td>Spanish Fort</td>\n",
       "      <td>AL</td>\n",
       "      <td>36527.0</td>\n",
       "    </tr>\n",
       "    <tr>\n",
       "      <th>1</th>\n",
       "      <td>avondale brewing co</td>\n",
       "      <td>201 41st st s</td>\n",
       "      <td>Birmingham</td>\n",
       "      <td>AL</td>\n",
       "      <td>35222.0</td>\n",
       "    </tr>\n",
       "    <tr>\n",
       "      <th>2</th>\n",
       "      <td>back forty beer co</td>\n",
       "      <td>200 n 6th st</td>\n",
       "      <td>Gadsden</td>\n",
       "      <td>AL</td>\n",
       "      <td>35901.0</td>\n",
       "    </tr>\n",
       "    <tr>\n",
       "      <th>3</th>\n",
       "      <td>back forty beer company - birmingham</td>\n",
       "      <td>3201 1st avenue n</td>\n",
       "      <td>Birmingham</td>\n",
       "      <td>AL</td>\n",
       "      <td>35222.0</td>\n",
       "    </tr>\n",
       "    <tr>\n",
       "      <th>4</th>\n",
       "      <td>below the radar brewing co</td>\n",
       "      <td>220 holmes ave ne</td>\n",
       "      <td>Huntsville</td>\n",
       "      <td>AL</td>\n",
       "      <td>35801.0</td>\n",
       "    </tr>\n",
       "  </tbody>\n",
       "</table>\n",
       "</div>"
      ],
      "text/plain": [
       "                                Brewery            Address          City  \\\n",
       "0                  5 rivers brewing llc                nan  Spanish Fort   \n",
       "1                   avondale brewing co      201 41st st s    Birmingham   \n",
       "2                    back forty beer co       200 n 6th st       Gadsden   \n",
       "3  back forty beer company - birmingham  3201 1st avenue n    Birmingham   \n",
       "4            below the radar brewing co  220 holmes ave ne    Huntsville   \n",
       "\n",
       "  State ZIP Code  \n",
       "0    AL  36527.0  \n",
       "1    AL  35222.0  \n",
       "2    AL  35901.0  \n",
       "3    AL  35222.0  \n",
       "4    AL  35801.0  "
      ]
     },
     "execution_count": 5,
     "metadata": {},
     "output_type": "execute_result"
    }
   ],
   "source": [
    "brewers_data[\"Brewery\"] = brewers_data[\"Brewery\"].str.lower()\n",
    "brewers_data[\"Address\"] = brewers_data[\"Address\"].str.lower()\n",
    "brewers_data.head()"
   ]
  },
  {
   "cell_type": "code",
   "execution_count": 6,
   "metadata": {},
   "outputs": [
    {
     "data": {
      "text/plain": [
       "Brewery     8501\n",
       "Address     8501\n",
       "City        8497\n",
       "State       8501\n",
       "ZIP Code    8501\n",
       "dtype: int64"
      ]
     },
     "execution_count": 6,
     "metadata": {},
     "output_type": "execute_result"
    }
   ],
   "source": [
    "brewers_data.count()\n",
    "# Every brewery has a zip code, this may be enough. Otherwise, we could potentially extract addresses from google maps \n",
    "# programatically for the ~ 1000 missing addresses\n"
   ]
  },
  {
   "cell_type": "code",
   "execution_count": 7,
   "metadata": {},
   "outputs": [
    {
     "name": "stdout",
     "output_type": "stream",
     "text": [
      "False    7450\n",
      "True     1051\n",
      "Name: Address, dtype: int64\n"
     ]
    }
   ],
   "source": [
    "print(brewers_data[\"Address\"].duplicated().value_counts())\n",
    "# There appear to be 1051 duplicate values in the addresses"
   ]
  },
  {
   "cell_type": "code",
   "execution_count": 8,
   "metadata": {},
   "outputs": [
    {
     "name": "stdout",
     "output_type": "stream",
     "text": [
      "False    8333\n",
      "True      168\n",
      "Name: Brewery, dtype: int64\n"
     ]
    }
   ],
   "source": [
    "print(brewers_data[\"Brewery\"].duplicated().value_counts())\n",
    "# 163 duplicate brewery names before anything's been dropped by address."
   ]
  },
  {
   "cell_type": "code",
   "execution_count": 9,
   "metadata": {
    "scrolled": true
   },
   "outputs": [
    {
     "data": {
      "text/plain": [
       "Brewery     7450\n",
       "Address     7450\n",
       "City        7450\n",
       "State       7450\n",
       "ZIP Code    7450\n",
       "dtype: int64"
      ]
     },
     "execution_count": 9,
     "metadata": {},
     "output_type": "execute_result"
    }
   ],
   "source": [
    "# brewers_no_duplicate_addresses_df = brewers_data.drop_duplicates(subset=brewers_data[\"Address\"], keep= \"first\")\n",
    "\n",
    "no_double_address_df = brewers_data.drop_duplicates([\"Address\"])\n",
    "\n",
    "no_double_address_df.count()"
   ]
  },
  {
   "cell_type": "code",
   "execution_count": 10,
   "metadata": {},
   "outputs": [
    {
     "data": {
      "text/plain": [
       "Brewery     7328\n",
       "Address     7328\n",
       "City        7328\n",
       "State       7328\n",
       "ZIP Code    7328\n",
       "dtype: int64"
      ]
     },
     "execution_count": 10,
     "metadata": {},
     "output_type": "execute_result"
    }
   ],
   "source": [
    "no_double_address_or_brewery_df = no_double_address_df.drop_duplicates([\"Brewery\"])\n",
    "no_double_address_or_brewery_df.count()"
   ]
  },
  {
   "cell_type": "code",
   "execution_count": 11,
   "metadata": {},
   "outputs": [
    {
     "data": {
      "text/plain": [
       "Brewery     7287\n",
       "Address     7287\n",
       "City        7287\n",
       "State       7287\n",
       "ZIP Code    7287\n",
       "dtype: int64"
      ]
     },
     "execution_count": 11,
     "metadata": {},
     "output_type": "execute_result"
    }
   ],
   "source": [
    "# Still a lot of \" - Production Facility\", \" (Production Facility)\" and \" Production Facility \" elements that need to be dropped\n",
    "# So need to drop row if string contains \"Production Facility\"\n",
    "no_duplicates_or_PF_df = no_double_address_or_brewery_df[~no_double_address_or_brewery_df[\"Brewery\"].str.contains(\"production facility\")]\n",
    "no_duplicates_or_PF_df.count()"
   ]
  },
  {
   "cell_type": "code",
   "execution_count": 12,
   "metadata": {},
   "outputs": [],
   "source": [
    "no_duplicates_or_PF_df.to_csv(\"resources/brewers_association_no_duplicates_or_PF.csv\")"
   ]
  },
  {
   "cell_type": "code",
   "execution_count": null,
   "metadata": {},
   "outputs": [],
   "source": []
  }
 ],
 "metadata": {
  "kernelspec": {
   "display_name": "Python 3",
   "language": "python",
   "name": "python3"
  },
  "language_info": {
   "codemirror_mode": {
    "name": "ipython",
    "version": 3
   },
   "file_extension": ".py",
   "mimetype": "text/x-python",
   "name": "python",
   "nbconvert_exporter": "python",
   "pygments_lexer": "ipython3",
   "version": "3.7.1"
  }
 },
 "nbformat": 4,
 "nbformat_minor": 2
}
