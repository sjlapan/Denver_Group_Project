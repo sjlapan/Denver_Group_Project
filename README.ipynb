{
 "cells": [
  {
   "cell_type": "markdown",
   "metadata": {},
   "source": [
    "# DU Data Viz Project Proposal\n",
    "\n",
    "## {Project Title}\n",
    "\n",
    "## Team:\n",
    "\n",
    "- {team member 1}{team member email 1}\n",
    "- {team member 2}{team member email 2}\n",
    "- {team member 3}{team member email 3}\n",
    "- {team member 4}{team member email 4}\n",
    "\n"
   ]
  },
  {
   "cell_type": "markdown",
   "metadata": {},
   "source": [
    "{Project Description}"
   ]
  },
  {
   "cell_type": "markdown",
   "metadata": {},
   "source": [
    "## Github Repo URL\n",
    "\n",
    "You can find our git repo [here](https://github.com/sjlapan/Denver_Group_Project.git)."
   ]
  },
  {
   "cell_type": "markdown",
   "metadata": {},
   "source": [
    "## Research Question(s)\n",
    "\n",
    "{summarize question(s), include relevant inspiration, like links to articles etc.}\n",
    "\n",
    "## Dataset(s)\n",
    "\n",
    "{data sources}"
   ]
  },
  {
   "cell_type": "markdown",
   "metadata": {},
   "source": [
    "{code snippet or dataframe head?}"
   ]
  },
  {
   "cell_type": "markdown",
   "metadata": {},
   "source": [
    "### Task Breakdown\n",
    "\n",
    "1. {task:}{team member}__Stew__\n",
    "2. {task:}{team member}\n",
    "3. {task:}{team member}\n",
    "4. {task:}{team member}\n",
    "\n",
    "universal tasks:\n",
    "\n",
    "- ipynb presentation\n",
    "- etc."
   ]
  },
  {
   "cell_type": "code",
   "execution_count": null,
   "metadata": {},
   "outputs": [],
   "source": []
  }
 ],
 "metadata": {
  "kernelspec": {
   "display_name": "Python 3",
   "language": "python",
   "name": "python3"
  },
  "language_info": {
   "codemirror_mode": {
    "name": "ipython",
    "version": 3
   },
   "file_extension": ".py",
   "mimetype": "text/x-python",
   "name": "python",
   "nbconvert_exporter": "python",
   "pygments_lexer": "ipython3",
   "version": "3.7.1"
  }
 },
 "nbformat": 4,
 "nbformat_minor": 2
}
