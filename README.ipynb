{
 "cells": [
  {
   "cell_type": "markdown",
   "metadata": {},
   "source": [
    "# DU Data Viz Project Proposal\n",
    "\n",
    "## Hopped up on Data\n",
    "\n",
    "## Team members:\n",
    "\n",
    "- Tyler Buck (tylerbuck09@gmail.com)\n",
    "- Lauren Hilinski (lhilinski@gmail.com)\n",
    "- Stewart LaPan (stewartjlapan@gmail.com)\n",
    "- W. Matt Sutton (w.matt.sutton@gmail.com)\n",
    "\n"
   ]
  },
  {
   "cell_type": "markdown",
   "metadata": {},
   "source": [
    "### Project Description\n",
    "Our goal is to combine data about breweries and brew pubs in the U.S. and resident economic data by searching within zip codes. We hope that we can establish correlations between brewery numbers and specific economic variables, and use these correlations to suggest locations that are promising untapped markets for future brew masters. "
   ]
  },
  {
   "cell_type": "markdown",
   "metadata": {},
   "source": [
    "## Github Repo URL\n",
    "\n",
    "You can find our git repo [here](https://github.com/sjlapan/Denver_Group_Project.git)."
   ]
  },
  {
   "cell_type": "markdown",
   "metadata": {},
   "source": [
    "## Research Questions\n",
    "\n",
    "- Can metrics of economic well-being for a given region (US zip code) serve as predictors of the number of breweries in that region?\n",
    "\n",
    "- Can we use this information to suggest viable locations for new breweries?\n",
    "\n",
    "## Datasets\n",
    "\n",
    "- [USA Breweries and Brew Pubs](https://www.kaggle.com/datafiniti/breweries-brew-pubs-in-the-usa)\n",
    "\n",
    "- [US Zip Code Economic Data](https://www.irs.gov/statistics/soi-tax-stats-individual-income-tax-statistics-2016-zip-code-data-soi)\n",
    "\n",
    "- TBD?"
   ]
  },
  {
   "cell_type": "markdown",
   "metadata": {},
   "source": [
    "### Task Breakdown\n",
    "\n",
    "1. Find additional resources (demographic data?): __Lauren__\n",
    "2. Clean brew pub data: __Stew__\n",
    "3. Clean zip code economic data: __Tyler__\n",
    "4. Merge and clean data: __Stew/Tyler__\n",
    "5. Generate map data: __Lauren__\n",
    "6. Visual data analysis: __Matt__\n"
   ]
  },
  {
   "cell_type": "code",
   "execution_count": null,
   "metadata": {},
   "outputs": [],
   "source": []
  }
 ],
 "metadata": {
  "kernelspec": {
   "display_name": "Python 3",
   "language": "python",
   "name": "python3"
  },
  "language_info": {
   "codemirror_mode": {
    "name": "ipython",
    "version": 3
   },
   "file_extension": ".py",
   "mimetype": "text/x-python",
   "name": "python",
   "nbconvert_exporter": "python",
   "pygments_lexer": "ipython3",
   "version": "3.6.7"
  }
 },
 "nbformat": 4,
 "nbformat_minor": 2
}
